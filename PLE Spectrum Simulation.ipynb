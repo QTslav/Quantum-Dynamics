{
 "cells": [
  {
   "cell_type": "code",
   "execution_count": 1,
   "metadata": {},
   "outputs": [],
   "source": [
    "from qutip import *\n",
    "\n",
    "import numpy as np\n",
    "from numpy import pi as pi\n",
    "from numpy import exp as exp\n",
    "from numpy import sqrt as sqrt\n",
    "\n",
    "import matplotlib as mpl\n",
    "import matplotlib.pyplot as plt\n",
    "\n",
    "plt.rcParams['figure.figsize'] = (20,10)\n",
    "plt.rcParams['font.size'] = 12\n",
    "from scipy.optimize import curve_fit as cf"
   ]
  },
  {
   "cell_type": "code",
   "execution_count": 2,
   "metadata": {},
   "outputs": [],
   "source": [
    "def Rs(t,p):\n",
    "    t = t/180*np.pi\n",
    "    p = p/180*np.pi\n",
    "    return np.array([np.sin(t)*np.cos(p), np.sin(t)*np.sin(p), np.cos(t)])    \n",
    "\n",
    "def Rx(tx):\n",
    "    tx = tx/180*np.pi\n",
    "    Rx = np.array([[1,0,0],\n",
    "                   [0,np.cos(tx),-np.sin(tx)],\n",
    "                   [0,np.sin(tx), np.cos(tx)]])\n",
    "    return Rx\n",
    "\n",
    "def Rz(tz):\n",
    "    tz= tz/180*np.pi\n",
    "    Rz = np.array([[np.cos(tz), -np.sin(tz), 0],\n",
    "                   [np.sin(tz), np.cos(tz), 0],\n",
    "                   [0, 0, 1]])    \n",
    "    return Rz\n",
    "\n",
    "def boltzmann(gs, T):\n",
    "    return np.exp(-6.26e-34*gs*1e9/(1.38e-23*T))\n",
    "\n",
    "def coth(gs, T):\n",
    "    h = 6.626e-34\n",
    "    kB = 1.38e-23\n",
    "    return np.tanh(h*gs*1e9/(2*kB*T))**(-1)\n",
    "\n",
    "def lorentzian(nu, nu0, Gamma, A, c):\n",
    "    return A*(Gamma/2)**2/((nu-nu0)**2+(Gamma/2)**2) + c \n",
    "\n",
    "def gaussian(nu, nu0, sigma, A, c):\n",
    "    return A*1/np.sqrt(2*np.pi*sigma**2) * np.exp(-(nu-nu0)**2/(2*sigma**2)) + c"
   ]
  },
  {
   "cell_type": "markdown",
   "metadata": {},
   "source": [
    "### Orbital and Spin Basis States"
   ]
  },
  {
   "cell_type": "code",
   "execution_count": 3,
   "metadata": {},
   "outputs": [],
   "source": [
    "# \"Cartesian\" Basis\n",
    "egx = basis(4, 0)\n",
    "egy = basis(4, 1)\n",
    "eux = basis(4, 2)\n",
    "euy = basis(4, 3)\n",
    "\n",
    "# Spin-Orbit Basis\n",
    "egp = 1/np.sqrt(2)*(egx + 1j*egy)\n",
    "egm = 1/np.sqrt(2)*(egx - 1j*egy)\n",
    "eup = 1/np.sqrt(2)*(eux + 1j*euy)\n",
    "eum = 1/np.sqrt(2)*(eux - 1j*euy)\n",
    "\n",
    "# Orbital Operators\n",
    "Sgx = egx*egy.dag()\n",
    "Sgx += Sgx.dag()\n",
    "Sgy = -1j*egx*egy.dag()\n",
    "Sgy += Sgy.dag()\n",
    "Sgz = egx*egx.dag() - egy*egy.dag()\n",
    "Sux = eux*euy.dag()\n",
    "Sux += Sux.dag()\n",
    "Suy = -1j*eux*euy.dag()\n",
    "Suy += Suy.dag()\n",
    "Suz = eux*eux.dag() - euy*euy.dag()\n",
    "\n",
    "# Spin Staes and Operators\n",
    "su = basis(2,0)\n",
    "sd = basis(2,1)\n",
    "Sx = su*sd.dag() + sd*su.dag()\n",
    "Sy = -1j*su*sd.dag() + 1j*sd*su.dag()\n",
    "Sz = su*su.dag() - sd*sd.dag()"
   ]
  },
  {
   "cell_type": "markdown",
   "metadata": {},
   "source": [
    "### Orbital Dipole Operators"
   ]
  },
  {
   "cell_type": "code",
   "execution_count": 4,
   "metadata": {},
   "outputs": [],
   "source": [
    "sigm_x = egp*eum.dag() + egm*eup.dag()\n",
    "sigm_x = tensor(sigm_x, qeye(2))\n",
    "sigp_x = sigm_x.dag()\n",
    "px = sigm_x+sigp_x\n",
    "\n",
    "sigm_y = 1j*egp*eum.dag() -1j* egm*eup.dag()\n",
    "sigm_y = tensor(sigm_y, qeye(2))\n",
    "sigp_y = sigm_y.dag()\n",
    "py = sigm_y+sigp_y\n",
    "\n",
    "sigm_z = 2*(egp*eup.dag() + egm*eum.dag())\n",
    "sigm_z = tensor(sigm_z, qeye(2))\n",
    "sigp_z = sigm_z.dag()\n",
    "pz = sigm_z + sigp_z"
   ]
  },
  {
   "cell_type": "markdown",
   "metadata": {},
   "source": [
    "### System Parameters"
   ]
  },
  {
   "cell_type": "code",
   "execution_count": 67,
   "metadata": {},
   "outputs": [
    {
     "data": {
      "text/plain": [
       "array([0.57709642, 0.57709642, 0.57785762])"
      ]
     },
     "execution_count": 67,
     "metadata": {},
     "output_type": "execute_result"
    }
   ],
   "source": [
    "h = 6.626e-34\n",
    "c = 299792458\n",
    "e = 1.62e-19\n",
    "T = 5\n",
    "\n",
    "# Bare coulomb splitting of Eg and Eu states\n",
    "w_C = 2*pi*c/736.85\n",
    "\n",
    "# Spin-orbit couplings\n",
    "lbd_SO_g = 2*pi*46\n",
    "lbd_SO_u = 2*pi*250\n",
    "\n",
    "# (Transverse) Strain couplings\n",
    "alpha_g = 2*pi*500\n",
    "beta_g = 2*pi*500\n",
    "\n",
    "alpha_u = 2*pi*1.8/1.3*alpha_g\n",
    "beta_u = 2*pi*2*beta_g\n",
    "\n",
    "# Magnetons and gyromagnetic ratio for electron and nuclear spin\n",
    "muB = 2*pi*9.274e-24/h * 1e-9\n",
    "muN = 2*pi*5.505e-23/h * 1e-9\n",
    "g_e = 2\n",
    "g_n = 1.910*0\n",
    "\n",
    "# Orbital angular momentum quenching factor (phenomenological)\n",
    "q = 0.15\n",
    "\n",
    "# SiV orientation (theta, phi) with respect to external lab frame, where z defines the optical axis\n",
    "# theta_x = 54.7 and theta_z = 45 corresponds to a <111> crystal direction\n",
    "theta_x = 54.7\n",
    "theta_z = 45\n",
    "\n",
    "# We can use a transformation matrix which transforms coordinates such that 111 --> 001, i.e. in this reference\n",
    "# frame the SiV symmetry axis is pointing along z\n",
    "Rz(-theta_z)@Rx(-theta_x)[:,2]"
   ]
  },
  {
   "cell_type": "markdown",
   "metadata": {},
   "source": [
    "### Hamiltonian"
   ]
  },
  {
   "cell_type": "code",
   "execution_count": 79,
   "metadata": {},
   "outputs": [],
   "source": [
    "def Hamiltonian(B, alpha, beta):\n",
    "    # Coulomb interaction \n",
    "    HC = w_C/2*tensor(eux*eux.dag() + euy*euy.dag() - egx*egx.dag() - egy*egy.dag(), qeye(2))\n",
    "\n",
    "    # Spin-Orbit interaction\n",
    "    HSO = -lbd_SO_g/2 * tensor(Sgy,Sz) - lbd_SO_u/2 * tensor(Suy,Sz)\n",
    "\n",
    "    # Magnetic field unit vectors with B_theta and B_phi relative angels to SiV symmetry axis\n",
    "    B_theta, B_phi = 0, 0\n",
    "    Bmag = 0.3\n",
    "    bx, by, bz = Rx(theta_x)@Rz(theta_z)@Rs(B_theta, B_phi)\n",
    "\n",
    "    # Orbital and Spin interaction\n",
    "    HZS = g_e * muB/2 * tensor(qeye(4), (Sx * bx + Sy * by + Sz * bz)) * Bmag\n",
    "    HZL = q * muB * bz * Bmag * tensor((Sgy + Suy), qeye(2))\n",
    "\n",
    "    # Strain interaction\n",
    "    HStr = tensor(alpha_g*Sgz + beta_g*Sgx + alpha_u*Suz + beta_g*Sux, qeye(2))\n",
    "\n",
    "\n",
    "    H = HC + HSO + HZS + HZL + HStr    \n",
    "    H = H.tidyup(1e-10)\n",
    "    \n",
    "    return H"
   ]
  },
  {
   "cell_type": "markdown",
   "metadata": {},
   "source": [
    "### Collapse Operators"
   ]
  },
  {
   "cell_type": "code",
   "execution_count": 69,
   "metadata": {},
   "outputs": [],
   "source": [
    "T = 5\n",
    "gs = 46\n",
    "T1_spin = 1000\n",
    "T1_opt = 1.7\n",
    "\n",
    "# 40ns is measured @5K and 46GHz ground-state splitting\n",
    "T1_orb = (46/gs)**3*40\n",
    "\n",
    "Gamma1_orb = 1/(1+boltzmann(gs,T))*1/(2*pi*T1_orb)    \n",
    "Gamma1_orb_em = Gamma1_orb\n",
    "Gamma1_orb_abs = boltzmann(gs, T) * Gamma1_orb_em\n",
    "Gamma1_opt = 1/(2*pi*T1_opt)\n",
    "Gamma1_spin = 1/(2*pi*T1_spin)\n",
    "\n",
    "c_ops = [\n",
    "    sqrt(Gamma1_opt)*sigm_x,\n",
    "    sqrt(Gamma1_opt)*sigm_y,\n",
    "    sqrt(Gamma1_opt)*sigm_z,\n",
    "    sqrt(Gamma1_orb_em)*(tensor(egp*egm.dag(),su*su.dag()) + tensor(egm*egp.dag(), sd*sd.dag())),\n",
    "    sqrt(Gamma1_orb_abs)*(tensor(egm*egp.dag(),su*su.dag()) + tensor(egp*egm.dag(), sd*sd.dag())),\n",
    "    sqrt(Gamma1_spin)*tensor(qeye(4), sd*su.dag()),\n",
    "    sqrt(Gamma1_spin)*tensor(qeye(4), su*sd.dag())\n",
    "]"
   ]
  },
  {
   "cell_type": "markdown",
   "metadata": {},
   "source": [
    "### Spectrum"
   ]
  },
  {
   "cell_type": "code",
   "execution_count": 77,
   "metadata": {},
   "outputs": [],
   "source": [
    "def calc_transitions(H):\n",
    "    trans_engs = np.zeros(H.shape)\n",
    "    trans_dipoles = np.zeros(H.shape)\n",
    "\n",
    "    engs_ = H.eigenstates()[0]\n",
    "    evs_ = H.eigenstates()[1]\n",
    "\n",
    "    for i, engi in enumerate(engs_):\n",
    "        for j, engj in enumerate(engs_[:i]):         \n",
    "            if round(abs(engi-engj),3)<1e4: continue\n",
    "            trans_engs[i,j] = abs(engi-engj)\n",
    "            trans_dipoles[i,j] = abs((evs_[i].dag() * px * evs_[j])[0,0])**2 + abs((evs_[i].dag() * py * evs_[j])[0,0])**2 + abs((evs_[i].dag() * pz * evs_[j])[0,0])**2\n",
    "\n",
    "    # transitions = list(sorted(set(trans_engs[trans_engs.nonzero()])))\n",
    "    transitions = np.array(list(sorted(trans_engs[trans_engs.nonzero()])))\n",
    "\n",
    "    D = transitions[0*len(transitions)//4:1*len(transitions)//4]\n",
    "    C = transitions[1*len(transitions)//4:2*len(transitions)//4]\n",
    "    B = transitions[2*len(transitions)//4:3*len(transitions)//4]\n",
    "    A = transitions[3*len(transitions)//4:4*len(transitions)//4]\n",
    "    \n",
    "    return A, B, C, D\n",
    "\n",
    "def calc_spec(H, c_ops, transition, Omega_L, eps_L=[1,1,1]):\n",
    "    eps_x, eps_y, eps_z = eps_L\n",
    "\n",
    "    w_Ls = np.linspace(-100+np.amin(transition), np.amax(transition)+100, 200)\n",
    "    pops = np.zeros((len(w_Ls), 4))\n",
    "    for i, w_L in enumerate(w_Ls):    \n",
    "\n",
    "        Hint = Omega_L/2*(eps_x*px + eps_y*py + eps_z*pz) - (w_L)/2 * HC/(w_C/2)\n",
    "        Hint = Hint.tidyup()\n",
    "\n",
    "        rho_ss = steadystate(H+Hint, c_ops)\n",
    "\n",
    "        pops[i,0] = np.real(rho_ss[4,4])\n",
    "        pops[i,1] = np.real(rho_ss[5,5])\n",
    "        pops[i,2] = np.real(rho_ss[6,6])\n",
    "        pops[i,3] = np.real(rho_ss[7,7])\n",
    "    return w_Ls, pops\n",
    "\n",
    "H = Hamiltonian()\n",
    "A, B, C, D = calc_transitions(H)\n",
    "w_Ls, pops = calc_spec(H, c_ops, C, Omega_L=1)"
   ]
  },
  {
   "cell_type": "code",
   "execution_count": 49,
   "metadata": {},
   "outputs": [
    {
     "data": {
      "text/plain": [
       "[<matplotlib.lines.Line2D at 0x22c57986050>]"
      ]
     },
     "execution_count": 49,
     "metadata": {},
     "output_type": "execute_result"
    },
    {
     "data": {
      "image/png": "[encoded data removed]",
      "text/plain": [
       "<Figure size 432x288 with 1 Axes>"
      ]
     },
     "metadata": {
      "needs_background": "light"
     },
     "output_type": "display_data"
    }
   ],
   "source": [
    "plt.plot(w_Ls/(2*pi), np.sum(pops, axis=1))"
   ]
  }
 ],
 "metadata": {
  "kernelspec": {
   "display_name": "Python 3 (ipykernel)",
   "language": "python",
   "name": "python3"
  },
  "language_info": {
   "codemirror_mode": {
    "name": "ipython",
    "version": 3
   },
   "file_extension": ".py",
   "mimetype": "text/x-python",
   "name": "python",
   "nbconvert_exporter": "python",
   "pygments_lexer": "ipython3",
   "version": "3.10.5"
  }
 },
 "nbformat": 4,
 "nbformat_minor": 2
}
