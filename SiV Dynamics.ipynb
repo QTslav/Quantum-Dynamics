{
 "cells": [
  {
   "cell_type": "code",
   "execution_count": 1,
   "metadata": {},
   "outputs": [],
   "source": [
    "from qutip import *\n",
    "import numpy as np\n",
    "import matplotlib.pyplot as plt\n",
    "from matplotlib import rc\n",
    "plt.rcParams[\"figure.figsize\"] = (20,10)"
   ]
  },
  {
   "cell_type": "code",
   "execution_count": 2,
   "metadata": {},
   "outputs": [],
   "source": [
    "# Constants\n",
    "h = 6.602e-34\n",
    "hbar = h/(2*np.pi)\n",
    "kB = 1.38e-23\n",
    "eps_0 = 8.85e-12\n",
    "c_0 = 299792458\n",
    "e = 1.602e-19\n",
    "m_e = 9.109e-31\n",
    "a_0 = 0.53e-10\n",
    "norm = 1e9\n",
    "mu_B = e*hbar/(2*m_e)"
   ]
  },
  {
   "cell_type": "code",
   "execution_count": 3,
   "metadata": {},
   "outputs": [],
   "source": [
    "#Internal basis vectors expressed in lab frame. SiV high symmetry axis is along z: <111>\n",
    "x = np.array([-1,1,0])\n",
    "x = x/np.linalg.norm(x)\n",
    "y = np.array([-1,-1,2])\n",
    "y = y/np.linalg.norm(y)\n",
    "z = np.array([1,1,1])\n",
    "z = z/np.linalg.norm(z)\n",
    "\n",
    "#Rotation matrix to switch from internal to external lab frame\n",
    "R_ext_int = np.vstack((x,y,z)).T\n",
    "R_int_ext = np.linalg.inv(R_ext_int)"
   ]
  },
  {
   "cell_type": "code",
   "execution_count": 4,
   "metadata": {},
   "outputs": [],
   "source": [
    "''' \n",
    "    States and operators:\n",
    "    Orbitals ordering\n",
    "    0: |e_gx>\n",
    "    1: |e_gy>\n",
    "    2: |e_ux>\n",
    "    3: |e_uy>\n",
    "\n",
    "    Therefore orbital plus operator L_p_x = |e_g_y><e_g_x| ... \n",
    "    Due to D3d symmetry only L_z is non-zero. L_x and L_y vanish.\n",
    "\n",
    "    Define spin up |🠕> as lower energy state.\n",
    "'''\n",
    "N_orbs = 4 \n",
    "e_g_x = basis(N_orbs, 0)\n",
    "e_g_y = basis(N_orbs, 1)\n",
    "e_u_x = basis(N_orbs, 2)\n",
    "e_u_y = basis(N_orbs, 3)\n",
    "L_g_p = e_g_y*e_g_x.dag()\n",
    "L_g_m = L_g_p.trans()\n",
    "L_e_p = e_u_y*e_u_x.dag()\n",
    "L_e_m = L_e_p.trans()\n",
    "L_z_g = 1j*e_g_x*e_g_y.dag()-1j*e_g_y*e_g_x.dag()\n",
    "L_z_e = 1j*e_u_x*e_u_y.dag()-1j*e_u_y*e_u_x.dag()\n",
    "\n",
    "N_spins = 2\n",
    "s_up = basis(N_spins,0)\n",
    "s_down = basis(N_spins,1)\n",
    "S_m = s_down*s_up.dag()\n",
    "S_p = s_up*s_down.dag()\n",
    "S_x = (S_m + S_p)\n",
    "S_y = (-1j*S_m + 1j*S_p)\n",
    "S_z = s_up*s_up.dag() - s_down*s_down.dag()\n",
    "N = N_orbs*N_spins"
   ]
  },
  {
   "cell_type": "code",
   "execution_count": 5,
   "metadata": {},
   "outputs": [],
   "source": [
    "'''System Dynamics:\n",
    "Orbital part comprising Spin-Orbit, Jahn Teller, Zeeman and Strain couplin\n",
    "'''\n",
    "HOrb = Qobj(np.zeros((N_orbs, N_orbs)))\n",
    "HOrb += 1.68*e/h*(e_u_x*e_u_x.dag()+e_u_y*e_u_y.dag())\n",
    "HOrb = tensor(HOrb, qeye(N_spins))"
   ]
  },
  {
   "cell_type": "code",
   "execution_count": 6,
   "metadata": {},
   "outputs": [],
   "source": [
    "#Spin-Orbit coupling\n",
    "SO_g = 46e9\n",
    "SO_e = 250e9\n",
    "HSO = -SO_g/2*tensor(L_z_g,S_z) - SO_e/2*tensor(L_z_e,S_z)"
   ]
  },
  {
   "cell_type": "code",
   "execution_count": 7,
   "metadata": {},
   "outputs": [],
   "source": [
    "#Jahn-Teller coupling\n",
    "JT_x_g = 0\n",
    "JT_x_e = 0\n",
    "JT_y_g = 0\n",
    "JT_y_e = 0\n",
    "HJT = JT_x_g*e_g_x*e_g_x.dag()\n",
    "HJT += JT_y_g*e_g_x*e_g_y.dag()\n",
    "HJT += JT_y_g*e_g_y*e_g_x.dag()\n",
    "HJT += -JT_x_g*e_g_y*e_g_y.dag()\n",
    "HJT += JT_x_e*e_u_x*e_u_x.dag()\n",
    "HJT += JT_y_e*e_u_x*e_u_y.dag()\n",
    "HJT += JT_y_e*e_u_y*e_u_x.dag()\n",
    "HJT += -JT_x_e*e_u_y*e_u_y.dag()\n",
    "HJT = tensor(HJT, qeye(N_spins))"
   ]
  },
  {
   "cell_type": "code",
   "execution_count": 8,
   "metadata": {},
   "outputs": [],
   "source": [
    "#Strain coupling\n",
    "delta_g = 0\n",
    "alpha_g = 0\n",
    "beta_g = 0\n",
    "HStr_g = (delta_g+alpha_g)*e_g_x*e_g_x.dag()\n",
    "HStr_g += beta_g*e_g_x*e_g_y.dag()\n",
    "HStr_g += beta_g*e_g_y*e_g_x.dag()\n",
    "HStr_g += (delta_g-alpha_g)*e_g_y*e_g_y.dag()\n",
    "\n",
    "delta_e = 0\n",
    "alpha_e = 0\n",
    "beta_e = 0\n",
    "HStr_e = (delta_e+alpha_e)*e_u_x*e_u_x.dag()\n",
    "HStr_e += beta_e*e_u_x*e_u_y.dag()\n",
    "HStr_e += beta_e*e_u_y*e_u_x.dag()\n",
    "HStr_e += (delta_e-alpha_e)*e_u_y*e_u_y.dag()\n",
    "\n",
    "HStr = HStr_g + HStr_e\n",
    "HStr = tensor(HStr, qeye(N_spins))"
   ]
  },
  {
   "cell_type": "code",
   "execution_count": 68,
   "metadata": {
    "tags": []
   },
   "outputs": [
    {
     "output_type": "stream",
     "name": "stdout",
     "text": [
      "[ 0.00000000e+00 -5.55111512e-17  1.00000000e+00]\n"
     ]
    }
   ],
   "source": [
    "H = HOrb+HSO\n",
    "energies, eigenstates = H.eigenstates()\n",
    "\n",
    "# Calculate transformation matrix into eigenbasis\n",
    "_, sts = np.linalg.eig(H.full())\n",
    "V = np.array(sts[0])\n",
    "for st in sts[1:]:\n",
    "    V = np.vstack((V,st))\n",
    "\n",
    "def transform_op(op):\n",
    "    op = op.full()\n",
    "    return Qobj(np.conj(V.T)@op@V)\n",
    "\n",
    "def transform_st(st):\n",
    "    return np.conj(V.T)@st\n",
    "\n",
    "# Dipole operators\n",
    "d_x =  e_g_x*e_u_x.dag() - e_g_y*e_u_y.dag()\n",
    "d_y = -e_g_x*e_u_y.dag() - e_g_y*e_u_x.dag()\n",
    "d_z =  e_g_x*e_u_x.dag() + e_g_y*e_u_y.dag()\n",
    "\n",
    "# External (lab) and internal (SiV) polarization of electric laser field\n",
    "eps_ext = np.array([1,1,1])\n",
    "eps_ext = 1/np.linalg.norm(eps_ext)*eps_ext\n",
    "eps_int = np.squeeze(R_int_ext @ eps_ext)\n",
    "print(eps_int)\n",
    "\n",
    "# Interaction Hamiltonian of color center with Laser is constructed within already performed rotating frame transformation with rotating wave approximation.\n",
    "# In addition, Laser is assumed to be a coherent state and the corresponding photon bath is already traced out, leaving a pure color center Hamiltonian.\n",
    "Omega_L = 1e9\n",
    "nu_L = 0\n",
    "HL = Omega_L*tensor((eps_int[0]*d_x + eps_int[1]*d_y + eps_int[2]*d_z), qeye(N_spins))\n",
    "HL += HL.dag()\n",
    "\n",
    "HSys = Qobj()\n",
    "for i in range(len(energies)):\n",
    "    if np.abs(energies[i]-nu_L)<1e10:\n",
    "        HSys += (energies[i]-nu_L)*eigenstates[i]*eigenstates[i].dag()\n",
    "\n",
    "H = transform_op(HSys + HL)\n",
    "H = Qobj(H.full().reshape((8,8)), dims=[[4,2],[4,2]])/norm"
   ]
  },
  {
   "cell_type": "code",
   "execution_count": 71,
   "metadata": {},
   "outputs": [
    {
     "output_type": "stream",
     "name": "stdout",
     "text": [
      "Mean phonon 46GHz occupation:  0.33276014516096364\nMean phonon 250GHz occupation:  0.33276014516096364\nMean photon occupation:  0.0\n"
     ]
    }
   ],
   "source": [
    "# Environmental interactions\n",
    "T = 2\n",
    "\n",
    "n_th_pht = np.exp(-h*energies[4]/(kB*T))\n",
    "n_th_phn_g = np.exp(-h*46e9/(kB*T))\n",
    "n_th_phn_e = np.exp(-h*250e9/(kB*T))\n",
    "print(\"Mean phonon 46GHz occupation: \", n_th_phn_g)\n",
    "print(\"Mean phonon 250GHz occupation: \", n_th_phn_g)\n",
    "print(\"Mean photon occupation: \", n_th_pht)\n",
    "\n",
    "tau_pht_A = 1.7e-9\n",
    "tau_pht_B = 1.7e-9\n",
    "tau_pht_C = 1.7e-9\n",
    "tau_pht_D = 1.7e-9\n",
    "\n",
    "tau_phn_e = 200e-12\n",
    "tau_phn_g = 400e-12\n",
    "\n",
    "c_ops = []\n",
    "\n",
    "# #C transition\n",
    "Gamma_C_up = 1/tau_pht_C*(n_th_pht+1)/norm\n",
    "Gamma_C_down = 1/tau_pht_C*(n_th_pht)/norm\n",
    "c_ops.append(np.sqrt(1/tau_pht_C*(n_th_pht+1))*tensor(e_g_x*e_u_x.dag(), qeye(N_spins)))\n",
    "c_ops.append(np.sqrt(1/tau_pht_C*(n_th_pht)/norm)*tensor(e_u_x*e_g_x.dag(), qeye(N_spins)))\n",
    "\n",
    "c_ops.append(np.sqrt(1/tau_pht_C*(n_th_pht+1)/norm)*tensor(e_g_y*e_u_y.dag(), qeye(N_spins)))\n",
    "c_ops.append(np.sqrt(1/tau_pht_C*(n_th_pht)/norm)*tensor(e_u_y*e_g_y.dag(), qeye(N_spins)))\n",
    "\n",
    "c_ops.append(np.sqrt(1/tau_pht_C*(n_th_pht+1))*tensor(e_g_x*e_u_y.dag(), qeye(N_spins)))\n",
    "c_ops.append(np.sqrt(1/tau_pht_C*(n_th_pht))*tensor(e_u_y*e_g_x.dag(), qeye(N_spins)))\n",
    "\n",
    "c_ops.append(np.sqrt(1/tau_pht_C*(n_th_pht+1))*tensor(e_g_y*e_u_x.dag(), qeye(N_spins)))\n",
    "c_ops.append(np.sqrt(1/tau_pht_C*(n_th_pht))*tensor(e_u_x*e_g_y.dag(), qeye(N_spins)))\n",
    "\n"
   ]
  },
  {
   "cell_type": "code",
   "execution_count": 70,
   "metadata": {},
   "outputs": [
    {
     "output_type": "display_data",
     "data": {
      "text/plain": "<Figure size 432x288 with 1 Axes>",
      "image/svg+xml": "<?xml version=\"1.0\" encoding=\"utf-8\" standalone=\"no\"?>\r\n<!DOCTYPE svg PUBLIC \"-//W3C//DTD SVG 1.1//EN\"\r\n  \"http://www.w3.org/Graphics/SVG/1.1/DTD/svg11.dtd\">\r\n<!-- Created with matplotlib (http://matplotlib.org/) -->\r\n<svg height=\"252.018125pt\" version=\"1.1\" viewBox=\"0 0 375.603125 252.018125\" width=\"375.603125pt\" xmlns=\"http://www.w3.org/2000/svg\" xmlns:xlink=\"http://www.w3.org/1999/xlink\">\r\n <defs>\r\n  <style type=\"text/css\">\r\n*{stroke-linecap:butt;stroke-linejoin:round;}\r\n  </style>\r\n </defs>\r\n <g id=\"figure_1\">\r\n  <g id=\"patch_1\">\r\n   <path d=\"M 0 252.018125 \r\nL 375.603125 252.018125 \r\nL 375.603125 0 \r\nL 0 0 \r\nz\r\n\" style=\"fill:none;\"/>\r\n  </g>\r\n  <g id=\"axes_1\">\r\n   <g id=\"patch_2\">\r\n    <path d=\"M 30.103125 228.14 \r\nL 364.903125 228.14 \r\nL 364.903125 10.7 \r\nL 30.103125 10.7 \r\nz\r\n\" style=\"fill:#ffffff;\"/>\r\n   </g>\r\n   <g id=\"matplotlib.axis_1\">\r\n    <g id=\"xtick_1\">\r\n     <g id=\"line2d_1\">\r\n      <defs>\r\n       <path d=\"M 0 0 \r\nL 0 3.5 \r\n\" id=\"mf59b87873e\" style=\"stroke:#000000;stroke-width:0.8;\"/>\r\n      </defs>\r\n      <g>\r\n       <use style=\"stroke:#000000;stroke-width:0.8;\" x=\"45.321307\" xlink:href=\"#mf59b87873e\" y=\"228.14\"/>\r\n      </g>\r\n     </g>\r\n     <g id=\"text_1\">\r\n      <!-- 0 -->\r\n      <defs>\r\n       <path d=\"M 31.78125 66.40625 \r\nQ 24.171875 66.40625 20.328125 58.90625 \r\nQ 16.5 51.421875 16.5 36.375 \r\nQ 16.5 21.390625 20.328125 13.890625 \r\nQ 24.171875 6.390625 31.78125 6.390625 \r\nQ 39.453125 6.390625 43.28125 13.890625 \r\nQ 47.125 21.390625 47.125 36.375 \r\nQ 47.125 51.421875 43.28125 58.90625 \r\nQ 39.453125 66.40625 31.78125 66.40625 \r\nz\r\nM 31.78125 74.21875 \r\nQ 44.046875 74.21875 50.515625 64.515625 \r\nQ 56.984375 54.828125 56.984375 36.375 \r\nQ 56.984375 17.96875 50.515625 8.265625 \r\nQ 44.046875 -1.421875 31.78125 -1.421875 \r\nQ 19.53125 -1.421875 13.0625 8.265625 \r\nQ 6.59375 17.96875 6.59375 36.375 \r\nQ 6.59375 54.828125 13.0625 64.515625 \r\nQ 19.53125 74.21875 31.78125 74.21875 \r\nz\r\n\" id=\"DejaVuSans-30\"/>\r\n      </defs>\r\n      <g transform=\"translate(42.140057 242.738437)scale(0.1 -0.1)\">\r\n       <use xlink:href=\"#DejaVuSans-30\"/>\r\n      </g>\r\n     </g>\r\n    </g>\r\n    <g id=\"xtick_2\">\r\n     <g id=\"line2d_2\">\r\n      <g>\r\n       <use style=\"stroke:#000000;stroke-width:0.8;\" x=\"93.762284\" xlink:href=\"#mf59b87873e\" y=\"228.14\"/>\r\n      </g>\r\n     </g>\r\n     <g id=\"text_2\">\r\n      <!-- 5 -->\r\n      <defs>\r\n       <path d=\"M 10.796875 72.90625 \r\nL 49.515625 72.90625 \r\nL 49.515625 64.59375 \r\nL 19.828125 64.59375 \r\nL 19.828125 46.734375 \r\nQ 21.96875 47.46875 24.109375 47.828125 \r\nQ 26.265625 48.1875 28.421875 48.1875 \r\nQ 40.625 48.1875 47.75 41.5 \r\nQ 54.890625 34.8125 54.890625 23.390625 \r\nQ 54.890625 11.625 47.5625 5.09375 \r\nQ 40.234375 -1.421875 26.90625 -1.421875 \r\nQ 22.3125 -1.421875 17.546875 -0.640625 \r\nQ 12.796875 0.140625 7.71875 1.703125 \r\nL 7.71875 11.625 \r\nQ 12.109375 9.234375 16.796875 8.0625 \r\nQ 21.484375 6.890625 26.703125 6.890625 \r\nQ 35.15625 6.890625 40.078125 11.328125 \r\nQ 45.015625 15.765625 45.015625 23.390625 \r\nQ 45.015625 31 40.078125 35.4375 \r\nQ 35.15625 39.890625 26.703125 39.890625 \r\nQ 22.75 39.890625 18.8125 39.015625 \r\nQ 14.890625 38.140625 10.796875 36.28125 \r\nz\r\n\" id=\"DejaVuSans-35\"/>\r\n      </defs>\r\n      <g transform=\"translate(90.581034 242.738437)scale(0.1 -0.1)\">\r\n       <use xlink:href=\"#DejaVuSans-35\"/>\r\n      </g>\r\n     </g>\r\n    </g>\r\n    <g id=\"xtick_3\">\r\n     <g id=\"line2d_3\">\r\n      <g>\r\n       <use style=\"stroke:#000000;stroke-width:0.8;\" x=\"142.203261\" xlink:href=\"#mf59b87873e\" y=\"228.14\"/>\r\n      </g>\r\n     </g>\r\n     <g id=\"text_3\">\r\n      <!-- 10 -->\r\n      <defs>\r\n       <path d=\"M 12.40625 8.296875 \r\nL 28.515625 8.296875 \r\nL 28.515625 63.921875 \r\nL 10.984375 60.40625 \r\nL 10.984375 69.390625 \r\nL 28.421875 72.90625 \r\nL 38.28125 72.90625 \r\nL 38.28125 8.296875 \r\nL 54.390625 8.296875 \r\nL 54.390625 0 \r\nL 12.40625 0 \r\nz\r\n\" id=\"DejaVuSans-31\"/>\r\n      </defs>\r\n      <g transform=\"translate(135.840761 242.738437)scale(0.1 -0.1)\">\r\n       <use xlink:href=\"#DejaVuSans-31\"/>\r\n       <use x=\"63.623047\" xlink:href=\"#DejaVuSans-30\"/>\r\n      </g>\r\n     </g>\r\n    </g>\r\n    <g id=\"xtick_4\">\r\n     <g id=\"line2d_4\">\r\n      <g>\r\n       <use style=\"stroke:#000000;stroke-width:0.8;\" x=\"190.644238\" xlink:href=\"#mf59b87873e\" y=\"228.14\"/>\r\n      </g>\r\n     </g>\r\n     <g id=\"text_4\">\r\n      <!-- 15 -->\r\n      <g transform=\"translate(184.281738 242.738437)scale(0.1 -0.1)\">\r\n       <use xlink:href=\"#DejaVuSans-31\"/>\r\n       <use x=\"63.623047\" xlink:href=\"#DejaVuSans-35\"/>\r\n      </g>\r\n     </g>\r\n    </g>\r\n    <g id=\"xtick_5\">\r\n     <g id=\"line2d_5\">\r\n      <g>\r\n       <use style=\"stroke:#000000;stroke-width:0.8;\" x=\"239.085216\" xlink:href=\"#mf59b87873e\" y=\"228.14\"/>\r\n      </g>\r\n     </g>\r\n     <g id=\"text_5\">\r\n      <!-- 20 -->\r\n      <defs>\r\n       <path d=\"M 19.1875 8.296875 \r\nL 53.609375 8.296875 \r\nL 53.609375 0 \r\nL 7.328125 0 \r\nL 7.328125 8.296875 \r\nQ 12.9375 14.109375 22.625 23.890625 \r\nQ 32.328125 33.6875 34.8125 36.53125 \r\nQ 39.546875 41.84375 41.421875 45.53125 \r\nQ 43.3125 49.21875 43.3125 52.78125 \r\nQ 43.3125 58.59375 39.234375 62.25 \r\nQ 35.15625 65.921875 28.609375 65.921875 \r\nQ 23.96875 65.921875 18.8125 64.3125 \r\nQ 13.671875 62.703125 7.8125 59.421875 \r\nL 7.8125 69.390625 \r\nQ 13.765625 71.78125 18.9375 73 \r\nQ 24.125 74.21875 28.421875 74.21875 \r\nQ 39.75 74.21875 46.484375 68.546875 \r\nQ 53.21875 62.890625 53.21875 53.421875 \r\nQ 53.21875 48.921875 51.53125 44.890625 \r\nQ 49.859375 40.875 45.40625 35.40625 \r\nQ 44.1875 33.984375 37.640625 27.21875 \r\nQ 31.109375 20.453125 19.1875 8.296875 \r\nz\r\n\" id=\"DejaVuSans-32\"/>\r\n      </defs>\r\n      <g transform=\"translate(232.722716 242.738437)scale(0.1 -0.1)\">\r\n       <use xlink:href=\"#DejaVuSans-32\"/>\r\n       <use x=\"63.623047\" xlink:href=\"#DejaVuSans-30\"/>\r\n      </g>\r\n     </g>\r\n    </g>\r\n    <g id=\"xtick_6\">\r\n     <g id=\"line2d_6\">\r\n      <g>\r\n       <use style=\"stroke:#000000;stroke-width:0.8;\" x=\"287.526193\" xlink:href=\"#mf59b87873e\" y=\"228.14\"/>\r\n      </g>\r\n     </g>\r\n     <g id=\"text_6\">\r\n      <!-- 25 -->\r\n      <g transform=\"translate(281.163693 242.738437)scale(0.1 -0.1)\">\r\n       <use xlink:href=\"#DejaVuSans-32\"/>\r\n       <use x=\"63.623047\" xlink:href=\"#DejaVuSans-35\"/>\r\n      </g>\r\n     </g>\r\n    </g>\r\n    <g id=\"xtick_7\">\r\n     <g id=\"line2d_7\">\r\n      <g>\r\n       <use style=\"stroke:#000000;stroke-width:0.8;\" x=\"335.96717\" xlink:href=\"#mf59b87873e\" y=\"228.14\"/>\r\n      </g>\r\n     </g>\r\n     <g id=\"text_7\">\r\n      <!-- 30 -->\r\n      <defs>\r\n       <path d=\"M 40.578125 39.3125 \r\nQ 47.65625 37.796875 51.625 33 \r\nQ 55.609375 28.21875 55.609375 21.1875 \r\nQ 55.609375 10.40625 48.1875 4.484375 \r\nQ 40.765625 -1.421875 27.09375 -1.421875 \r\nQ 22.515625 -1.421875 17.65625 -0.515625 \r\nQ 12.796875 0.390625 7.625 2.203125 \r\nL 7.625 11.71875 \r\nQ 11.71875 9.328125 16.59375 8.109375 \r\nQ 21.484375 6.890625 26.8125 6.890625 \r\nQ 36.078125 6.890625 40.9375 10.546875 \r\nQ 45.796875 14.203125 45.796875 21.1875 \r\nQ 45.796875 27.640625 41.28125 31.265625 \r\nQ 36.765625 34.90625 28.71875 34.90625 \r\nL 20.21875 34.90625 \r\nL 20.21875 43.015625 \r\nL 29.109375 43.015625 \r\nQ 36.375 43.015625 40.234375 45.921875 \r\nQ 44.09375 48.828125 44.09375 54.296875 \r\nQ 44.09375 59.90625 40.109375 62.90625 \r\nQ 36.140625 65.921875 28.71875 65.921875 \r\nQ 24.65625 65.921875 20.015625 65.03125 \r\nQ 15.375 64.15625 9.8125 62.3125 \r\nL 9.8125 71.09375 \r\nQ 15.4375 72.65625 20.34375 73.4375 \r\nQ 25.25 74.21875 29.59375 74.21875 \r\nQ 40.828125 74.21875 47.359375 69.109375 \r\nQ 53.90625 64.015625 53.90625 55.328125 \r\nQ 53.90625 49.265625 50.4375 45.09375 \r\nQ 46.96875 40.921875 40.578125 39.3125 \r\nz\r\n\" id=\"DejaVuSans-33\"/>\r\n      </defs>\r\n      <g transform=\"translate(329.60467 242.738437)scale(0.1 -0.1)\">\r\n       <use xlink:href=\"#DejaVuSans-33\"/>\r\n       <use x=\"63.623047\" xlink:href=\"#DejaVuSans-30\"/>\r\n      </g>\r\n     </g>\r\n    </g>\r\n   </g>\r\n   <g id=\"matplotlib.axis_2\">\r\n    <g id=\"ytick_1\">\r\n     <g id=\"line2d_8\">\r\n      <defs>\r\n       <path d=\"M 0 0 \r\nL -3.5 0 \r\n\" id=\"me0fb870068\" style=\"stroke:#000000;stroke-width:0.8;\"/>\r\n      </defs>\r\n      <g>\r\n       <use style=\"stroke:#000000;stroke-width:0.8;\" x=\"30.103125\" xlink:href=\"#me0fb870068\" y=\"194.583883\"/>\r\n      </g>\r\n     </g>\r\n     <g id=\"text_8\">\r\n      <!-- 0.2 -->\r\n      <defs>\r\n       <path d=\"M 10.6875 12.40625 \r\nL 21 12.40625 \r\nL 21 0 \r\nL 10.6875 0 \r\nz\r\n\" id=\"DejaVuSans-2e\"/>\r\n      </defs>\r\n      <g transform=\"translate(7.2 198.383102)scale(0.1 -0.1)\">\r\n       <use xlink:href=\"#DejaVuSans-30\"/>\r\n       <use x=\"63.623047\" xlink:href=\"#DejaVuSans-2e\"/>\r\n       <use x=\"95.410156\" xlink:href=\"#DejaVuSans-32\"/>\r\n      </g>\r\n     </g>\r\n    </g>\r\n    <g id=\"ytick_2\">\r\n     <g id=\"line2d_9\">\r\n      <g>\r\n       <use style=\"stroke:#000000;stroke-width:0.8;\" x=\"30.103125\" xlink:href=\"#me0fb870068\" y=\"151.083821\"/>\r\n      </g>\r\n     </g>\r\n     <g id=\"text_9\">\r\n      <!-- 0.4 -->\r\n      <defs>\r\n       <path d=\"M 37.796875 64.3125 \r\nL 12.890625 25.390625 \r\nL 37.796875 25.390625 \r\nz\r\nM 35.203125 72.90625 \r\nL 47.609375 72.90625 \r\nL 47.609375 25.390625 \r\nL 58.015625 25.390625 \r\nL 58.015625 17.1875 \r\nL 47.609375 17.1875 \r\nL 47.609375 0 \r\nL 37.796875 0 \r\nL 37.796875 17.1875 \r\nL 4.890625 17.1875 \r\nL 4.890625 26.703125 \r\nz\r\n\" id=\"DejaVuSans-34\"/>\r\n      </defs>\r\n      <g transform=\"translate(7.2 154.88304)scale(0.1 -0.1)\">\r\n       <use xlink:href=\"#DejaVuSans-30\"/>\r\n       <use x=\"63.623047\" xlink:href=\"#DejaVuSans-2e\"/>\r\n       <use x=\"95.410156\" xlink:href=\"#DejaVuSans-34\"/>\r\n      </g>\r\n     </g>\r\n    </g>\r\n    <g id=\"ytick_3\">\r\n     <g id=\"line2d_10\">\r\n      <g>\r\n       <use style=\"stroke:#000000;stroke-width:0.8;\" x=\"30.103125\" xlink:href=\"#me0fb870068\" y=\"107.58376\"/>\r\n      </g>\r\n     </g>\r\n     <g id=\"text_10\">\r\n      <!-- 0.6 -->\r\n      <defs>\r\n       <path d=\"M 33.015625 40.375 \r\nQ 26.375 40.375 22.484375 35.828125 \r\nQ 18.609375 31.296875 18.609375 23.390625 \r\nQ 18.609375 15.53125 22.484375 10.953125 \r\nQ 26.375 6.390625 33.015625 6.390625 \r\nQ 39.65625 6.390625 43.53125 10.953125 \r\nQ 47.40625 15.53125 47.40625 23.390625 \r\nQ 47.40625 31.296875 43.53125 35.828125 \r\nQ 39.65625 40.375 33.015625 40.375 \r\nz\r\nM 52.59375 71.296875 \r\nL 52.59375 62.3125 \r\nQ 48.875 64.0625 45.09375 64.984375 \r\nQ 41.3125 65.921875 37.59375 65.921875 \r\nQ 27.828125 65.921875 22.671875 59.328125 \r\nQ 17.53125 52.734375 16.796875 39.40625 \r\nQ 19.671875 43.65625 24.015625 45.921875 \r\nQ 28.375 48.1875 33.59375 48.1875 \r\nQ 44.578125 48.1875 50.953125 41.515625 \r\nQ 57.328125 34.859375 57.328125 23.390625 \r\nQ 57.328125 12.15625 50.6875 5.359375 \r\nQ 44.046875 -1.421875 33.015625 -1.421875 \r\nQ 20.359375 -1.421875 13.671875 8.265625 \r\nQ 6.984375 17.96875 6.984375 36.375 \r\nQ 6.984375 53.65625 15.1875 63.9375 \r\nQ 23.390625 74.21875 37.203125 74.21875 \r\nQ 40.921875 74.21875 44.703125 73.484375 \r\nQ 48.484375 72.75 52.59375 71.296875 \r\nz\r\n\" id=\"DejaVuSans-36\"/>\r\n      </defs>\r\n      <g transform=\"translate(7.2 111.382979)scale(0.1 -0.1)\">\r\n       <use xlink:href=\"#DejaVuSans-30\"/>\r\n       <use x=\"63.623047\" xlink:href=\"#DejaVuSans-2e\"/>\r\n       <use x=\"95.410156\" xlink:href=\"#DejaVuSans-36\"/>\r\n      </g>\r\n     </g>\r\n    </g>\r\n    <g id=\"ytick_4\">\r\n     <g id=\"line2d_11\">\r\n      <g>\r\n       <use style=\"stroke:#000000;stroke-width:0.8;\" x=\"30.103125\" xlink:href=\"#me0fb870068\" y=\"64.083698\"/>\r\n      </g>\r\n     </g>\r\n     <g id=\"text_11\">\r\n      <!-- 0.8 -->\r\n      <defs>\r\n       <path d=\"M 31.78125 34.625 \r\nQ 24.75 34.625 20.71875 30.859375 \r\nQ 16.703125 27.09375 16.703125 20.515625 \r\nQ 16.703125 13.921875 20.71875 10.15625 \r\nQ 24.75 6.390625 31.78125 6.390625 \r\nQ 38.8125 6.390625 42.859375 10.171875 \r\nQ 46.921875 13.96875 46.921875 20.515625 \r\nQ 46.921875 27.09375 42.890625 30.859375 \r\nQ 38.875 34.625 31.78125 34.625 \r\nz\r\nM 21.921875 38.8125 \r\nQ 15.578125 40.375 12.03125 44.71875 \r\nQ 8.5 49.078125 8.5 55.328125 \r\nQ 8.5 64.0625 14.71875 69.140625 \r\nQ 20.953125 74.21875 31.78125 74.21875 \r\nQ 42.671875 74.21875 48.875 69.140625 \r\nQ 55.078125 64.0625 55.078125 55.328125 \r\nQ 55.078125 49.078125 51.53125 44.71875 \r\nQ 48 40.375 41.703125 38.8125 \r\nQ 48.828125 37.15625 52.796875 32.3125 \r\nQ 56.78125 27.484375 56.78125 20.515625 \r\nQ 56.78125 9.90625 50.3125 4.234375 \r\nQ 43.84375 -1.421875 31.78125 -1.421875 \r\nQ 19.734375 -1.421875 13.25 4.234375 \r\nQ 6.78125 9.90625 6.78125 20.515625 \r\nQ 6.78125 27.484375 10.78125 32.3125 \r\nQ 14.796875 37.15625 21.921875 38.8125 \r\nz\r\nM 18.3125 54.390625 \r\nQ 18.3125 48.734375 21.84375 45.5625 \r\nQ 25.390625 42.390625 31.78125 42.390625 \r\nQ 38.140625 42.390625 41.71875 45.5625 \r\nQ 45.3125 48.734375 45.3125 54.390625 \r\nQ 45.3125 60.0625 41.71875 63.234375 \r\nQ 38.140625 66.40625 31.78125 66.40625 \r\nQ 25.390625 66.40625 21.84375 63.234375 \r\nQ 18.3125 60.0625 18.3125 54.390625 \r\nz\r\n\" id=\"DejaVuSans-38\"/>\r\n      </defs>\r\n      <g transform=\"translate(7.2 67.882917)scale(0.1 -0.1)\">\r\n       <use xlink:href=\"#DejaVuSans-30\"/>\r\n       <use x=\"63.623047\" xlink:href=\"#DejaVuSans-2e\"/>\r\n       <use x=\"95.410156\" xlink:href=\"#DejaVuSans-38\"/>\r\n      </g>\r\n     </g>\r\n    </g>\r\n    <g id=\"ytick_5\">\r\n     <g id=\"line2d_12\">\r\n      <g>\r\n       <use style=\"stroke:#000000;stroke-width:0.8;\" x=\"30.103125\" xlink:href=\"#me0fb870068\" y=\"20.583636\"/>\r\n      </g>\r\n     </g>\r\n     <g id=\"text_12\">\r\n      <!-- 1.0 -->\r\n      <g transform=\"translate(7.2 24.382855)scale(0.1 -0.1)\">\r\n       <use xlink:href=\"#DejaVuSans-31\"/>\r\n       <use x=\"63.623047\" xlink:href=\"#DejaVuSans-2e\"/>\r\n       <use x=\"95.410156\" xlink:href=\"#DejaVuSans-30\"/>\r\n      </g>\r\n     </g>\r\n    </g>\r\n   </g>\r\n   <g id=\"line2d_13\">\r\n    <path clip-path=\"url(#pe1a6ae05bf)\" d=\"M 45.321307 20.583636 \r\nL 46.23458 34.138749 \r\nL 47.391394 54.889024 \r\nL 49.096171 89.981826 \r\nL 52.262186 155.572902 \r\nL 53.601654 178.646914 \r\nL 54.697582 194.02679 \r\nL 55.610856 204.079263 \r\nL 56.402359 210.634468 \r\nL 57.072093 214.58937 \r\nL 57.680942 216.927518 \r\nL 58.168022 217.954493 \r\nL 58.533331 218.246617 \r\nL 58.837756 218.186247 \r\nL 59.14218 217.857954 \r\nL 59.50749 217.122601 \r\nL 59.994569 215.590211 \r\nL 60.603418 212.849462 \r\nL 61.334037 208.475356 \r\nL 62.24731 201.602522 \r\nL 63.465008 190.623191 \r\nL 65.71775 167.770759 \r\nL 67.666067 148.941848 \r\nL 68.94465 138.609436 \r\nL 69.979693 131.939027 \r\nL 70.832082 127.757873 \r\nL 71.562701 125.18023 \r\nL 72.17155 123.759062 \r\nL 72.658629 123.098742 \r\nL 73.084823 122.864666 \r\nL 73.450133 122.914913 \r\nL 73.815442 123.191534 \r\nL 74.241636 123.792142 \r\nL 74.7896 124.985865 \r\nL 75.459334 127.048443 \r\nL 76.250838 130.260422 \r\nL 77.224997 135.197036 \r\nL 78.50358 142.930978 \r\nL 80.634551 157.464803 \r\nL 83.009063 173.208037 \r\nL 84.409415 181.028041 \r\nL 85.505344 185.999256 \r\nL 86.479502 189.440905 \r\nL 87.331891 191.651379 \r\nL 88.06251 192.941619 \r\nL 88.671359 193.595341 \r\nL 89.219323 193.864939 \r\nL 89.706402 193.860369 \r\nL 90.193481 193.636325 \r\nL 90.741445 193.136741 \r\nL 91.411179 192.197672 \r\nL 92.202683 190.673854 \r\nL 93.176842 188.286148 \r\nL 94.516309 184.33722 \r\nL 99.387102 169.309457 \r\nL 100.48303 166.883733 \r\nL 101.457189 165.248547 \r\nL 102.248692 164.313223 \r\nL 102.979311 163.774021 \r\nL 103.649045 163.554294 \r\nL 104.257894 163.578768 \r\nL 104.927628 163.844092 \r\nL 105.658247 164.403276 \r\nL 106.449751 165.301378 \r\nL 107.423909 166.77369 \r\nL 108.580722 168.949398 \r\nL 110.224615 172.574238 \r\nL 114.243018 181.65155 \r\nL 115.582486 184.061579 \r\nL 116.7393 185.710498 \r\nL 117.774343 186.803923 \r\nL 118.687616 187.456026 \r\nL 119.540005 187.800701 \r\nL 120.392394 187.899226 \r\nL 121.244782 187.767014 \r\nL 122.158056 187.393672 \r\nL 123.193099 186.721354 \r\nL 124.471682 185.605 \r\nL 126.298229 183.677602 \r\nL 129.525129 180.259809 \r\nL 130.986367 179.058243 \r\nL 132.204065 178.331053 \r\nL 133.299993 177.919914 \r\nL 134.395922 177.749979 \r\nL 135.49185 177.818411 \r\nL 136.587778 178.110688 \r\nL 137.805476 178.66767 \r\nL 139.266714 179.595564 \r\nL 141.275916 181.165844 \r\nL 145.233435 184.309487 \r\nL 146.877327 185.308783 \r\nL 148.338565 185.945578 \r\nL 149.738918 186.310122 \r\nL 151.078386 186.433662 \r\nL 152.539623 186.336962 \r\nL 154.122631 186.004197 \r\nL 156.192717 185.322021 \r\nL 161.794129 183.342305 \r\nL 163.681561 182.987238 \r\nL 165.447223 182.882059 \r\nL 167.27377 183.003062 \r\nL 169.282972 183.367026 \r\nL 171.961908 184.09821 \r\nL 177.07624 185.530356 \r\nL 179.389866 185.921519 \r\nL 181.642607 186.073709 \r\nL 184.017119 186.004104 \r\nL 187.061364 185.67134 \r\nL 193.758703 184.867067 \r\nL 196.681179 184.792682 \r\nL 199.786309 184.946033 \r\nL 204.474447 185.439506 \r\nL 209.467009 185.893092 \r\nL 213.120103 185.990436 \r\nL 217.382046 185.865198 \r\nL 226.940976 185.511154 \r\nL 232.055308 185.622187 \r\nL 243.86698 185.969786 \r\nL 251.721132 185.852607 \r\nL 260.305904 185.799644 \r\nL 284.538096 185.906602 \r\nL 298.358969 185.94114 \r\nL 316.62444 185.938669 \r\nL 349.684943 185.952814 \r\nL 349.684943 185.952814 \r\n\" style=\"fill:none;stroke:#ff0000;stroke-linecap:square;stroke-width:1.5;\"/>\r\n   </g>\r\n   <g id=\"patch_3\">\r\n    <path d=\"M 30.103125 228.14 \r\nL 30.103125 10.7 \r\n\" style=\"fill:none;stroke:#000000;stroke-linecap:square;stroke-linejoin:miter;stroke-width:0.8;\"/>\r\n   </g>\r\n   <g id=\"patch_4\">\r\n    <path d=\"M 364.903125 228.14 \r\nL 364.903125 10.7 \r\n\" style=\"fill:none;stroke:#000000;stroke-linecap:square;stroke-linejoin:miter;stroke-width:0.8;\"/>\r\n   </g>\r\n   <g id=\"patch_5\">\r\n    <path d=\"M 30.103125 228.14 \r\nL 364.903125 228.14 \r\n\" style=\"fill:none;stroke:#000000;stroke-linecap:square;stroke-linejoin:miter;stroke-width:0.8;\"/>\r\n   </g>\r\n   <g id=\"patch_6\">\r\n    <path d=\"M 30.103125 10.7 \r\nL 364.903125 10.7 \r\n\" style=\"fill:none;stroke:#000000;stroke-linecap:square;stroke-linejoin:miter;stroke-width:0.8;\"/>\r\n   </g>\r\n  </g>\r\n </g>\r\n <defs>\r\n  <clipPath id=\"pe1a6ae05bf\">\r\n   <rect height=\"217.44\" width=\"334.8\" x=\"30.103125\" y=\"10.7\"/>\r\n  </clipPath>\r\n </defs>\r\n</svg>\r\n",
      "image/png": "[encoded data removed]"
     },
     "metadata": {
      "needs_background": "light"
     }
    }
   ],
   "source": [
    "t = np.linspace(0,10*np.pi,5000)\n",
    "psi0 = tensor(1/np.sqrt(2)*(e_u_x+1j*e_u_y), s_up)\n",
    "rho0 = psi0*psi0.dag()\n",
    "options = Options()\n",
    "options.nsteps = 10000\n",
    "output = mesolve(H, psi0, t, c_ops, rho0, options=options)\n",
    "plt.plot(t, output.expect[0], '-r')\n",
    "plt.show()"
   ]
  },
  {
   "cell_type": "code",
   "execution_count": 9,
   "metadata": {},
   "outputs": [],
   "source": [
    "#Magnetic field unit vector\n",
    "e_B_ext = np.array([[1],[1],[0]])\n",
    "e_B_ext = e_B_ext/np.linalg.norm(e_B_ext)\n",
    "Bs = np.linspace(0,7,100)\n",
    "\n",
    "energies = np.zeros((N, len(Bs)))\n",
    "for i, B in enumerate(Bs):\n",
    "\n",
    "    #Zeeman coupling with quenching factor of f=0.1\n",
    "    f = 0.1\n",
    "    gamma_S = 2*mu_B/h\n",
    "    gamma_L = mu_B/h\n",
    "    \n",
    "    B_ext = e_B_ext*B\n",
    "    \n",
    "    #Rotate into SiV internal coordinate system defined by applying (R_y*R_z)^-1\n",
    "    B_x = np.squeeze(R_int_ext @ B_ext)[0]\n",
    "    B_y = np.squeeze(R_int_ext @ B_ext)[1]\n",
    "    B_z = np.squeeze(R_int_ext @ B_ext)[2]\n",
    "        \n",
    "    HZL = f*gamma_L*B_z*tensor((L_z_g+L_z_e),qeye(N_spins))    \n",
    "    HZS = gamma_S*tensor(qeye(N_orbs),(B_x*S_x+B_y*S_y+B_z*S_z))\n",
    "        \n",
    "    energies[:,i] = (HOrb+HSO+HZL+HZS+HJT+HStr).eigenenergies()"
   ]
  },
  {
   "cell_type": "code",
   "execution_count": null,
   "metadata": {},
   "outputs": [],
   "source": [
    "labels = [\n",
    "    '|e_g_x, 🠕>',\n",
    "    '|e_g_x, 🠗>',\n",
    "    '|e_g_y, 🠕>',\n",
    "    '|e_g_y, 🠗>',\n",
    "    '|e_u_x, 🠕>',\n",
    "    '|e_u_x, 🠗>',\n",
    "    '|e_u_y, 🠕>',\n",
    "    '|e_u_y, 🠗>']\n",
    "colors = [\n",
    "    'k',\n",
    "    'k',\n",
    "    'r',\n",
    "    'r',\n",
    "    'b',\n",
    "    'b',\n",
    "    'y',\n",
    "    'y'\n",
    "]\n",
    "styles = [\n",
    "    '-',\n",
    "    '-.',\n",
    "    '-',\n",
    "    '-.',\n",
    "    '-',\n",
    "    '-.',\n",
    "    '-',\n",
    "    '-.',\n",
    "]\n",
    "\n",
    "fig, axs = plt.subplots(3,1,True)\n",
    "for i, energy in enumerate(energies):\n",
    "    if i<4:\n",
    "        axs[1].plot(Bs, energy, linestyle=styles[i], label=labels[i], color=colors[i])\n",
    "    else:\n",
    "        axs[0].plot(Bs, energy-1.68*e/h, linestyle=styles[i], label=labels[i], color=colors[i])\n",
    "    \n",
    "axs[0].legend()\n",
    "axs[1].legend()\n",
    "plt.show()"
   ]
  },
  {
   "cell_type": "code",
   "execution_count": null,
   "metadata": {},
   "outputs": [],
   "source": [
    "#Fluorescence spectrum\n",
    "tlist = np.linspace(0, 0.5e-6, 5000)\n",
    "corr = correlation_2op_1t(H, None, tlist, c_ops, tensor(e_u_y*e_u_x.dag(),qeye(N_spins)), tensor(e_u_x*e_u_y.dag(),qeye(N_spins)))\n",
    "wlist1, spec1 = spectrum_correlation_fft(tlist, corr)\n",
    "\n",
    "fig, ax = plt.subplots(1, 1)\n",
    "ax.plot(wlist1 / (2 * np.pi), spec1, 'b', lw=1, label='eseries method')\n",
    "plt.show()\n"
   ]
  },
  {
   "cell_type": "code",
   "execution_count": null,
   "metadata": {},
   "outputs": [],
   "source": []
  }
 ],
 "metadata": {
  "kernelspec": {
   "name": "python3",
   "display_name": "Python 3",
   "language": "python"
  },
  "language_info": {
   "codemirror_mode": {
    "name": "ipython",
    "version": 3
   },
   "file_extension": ".py",
   "mimetype": "text/x-python",
   "name": "python",
   "nbconvert_exporter": "python",
   "pygments_lexer": "ipython3",
   "version": "3.6.5-final"
  }
 },
 "nbformat": 4,
 "nbformat_minor": 2
}