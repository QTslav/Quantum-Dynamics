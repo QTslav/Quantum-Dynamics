{
 "metadata": {
  "language_info": {
   "codemirror_mode": {
    "name": "ipython",
    "version": 3
   },
   "file_extension": ".py",
   "mimetype": "text/x-python",
   "name": "python",
   "nbconvert_exporter": "python",
   "pygments_lexer": "ipython3",
   "version": "3.6.5"
  },
  "orig_nbformat": 2,
  "kernelspec": {
   "name": "python3",
   "display_name": "Python 3.6.5 64-bit"
  },
  "metadata": {
   "interpreter": {
    "hash": "8e78c18c4e15aecac233c1a73b5edbf5c0ccb85cf5ce941b4023cd5a9707fda7"
   }
  },
  "interpreter": {
   "hash": "e7c37ba80a6e54a3d63188245ab5de6a3e0d381993bcb1990a7020536fc2299e"
  }
 },
 "nbformat": 4,
 "nbformat_minor": 2,
 "cells": [
  {
   "cell_type": "code",
   "execution_count": 1,
   "metadata": {},
   "outputs": [],
   "source": [
    "from qutip import *\n",
    "import numpy as np\n",
    "import matplotlib.pyplot as plt\n",
    "from matplotlib import rc\n",
    "plt.rcParams[\"figure.figsize\"] = (20,10)"
   ]
  },
  {
   "cell_type": "code",
   "execution_count": 2,
   "metadata": {},
   "outputs": [],
   "source": [
    "# Constants\n",
    "h = 6.602e-34\n",
    "hbar = h/(2*np.pi)\n",
    "kB = 1.38e-23\n",
    "eps_0 = 8.85e-12\n",
    "c_0 = 299792458\n",
    "e = 1.602e-19\n",
    "m_e = 9.109e-31\n",
    "a_0 = 0.53e-10\n",
    "norm = 1e9\n",
    "mu_B = e*hbar/(2*m_e)"
   ]
  },
  {
   "cell_type": "code",
   "execution_count": 3,
   "metadata": {},
   "outputs": [],
   "source": [
    "#Internal basis vectors expressed in lab frame. SiV high symmetry axis is along z: <111>\n",
    "x = np.array([-1,1,0])\n",
    "x = x/np.linalg.norm(x)\n",
    "y = np.array([-1,-1,2])\n",
    "y = y/np.linalg.norm(y)\n",
    "z = np.array([1,1,1])\n",
    "z = z/np.linalg.norm(z)\n",
    "\n",
    "#Rotation matrix to switch from internal to external lab frame\n",
    "R_ext_int = np.vstack((x,y,z)).T\n",
    "R_int_ext = np.linalg.inv(R_ext_int)"
   ]
  },
  {
   "cell_type": "code",
   "execution_count": 4,
   "metadata": {},
   "outputs": [],
   "source": [
    "''' \n",
    "    States and operators:\n",
    "    Orbitals ordering\n",
    "    0: |e_gx>\n",
    "    1: |e_gy>\n",
    "    2: |e_ux>\n",
    "    3: |e_uy>\n",
    "\n",
    "    Therefore orbital plus operator L_p_x = |e_g_y><e_g_x| ... \n",
    "    Due to D3d symmetry only L_z is non-zero. L_x and L_y vanish.\n",
    "\n",
    "    Define spin up |🠕> as lower energy state.\n",
    "'''\n",
    "N_orbs = 4 \n",
    "egx = basis(N_orbs, 0)\n",
    "egy = basis(N_orbs, 1)\n",
    "eux = basis(N_orbs, 2)\n",
    "euy = basis(N_orbs, 3)\n",
    "\n",
    "N_spins = 2\n",
    "su = basis(N_spins,0)\n",
    "sd = basis(N_spins,1)\n",
    "N = N_orbs*N_spins"
   ]
  },
  {
   "cell_type": "code",
   "execution_count": 5,
   "metadata": {},
   "outputs": [],
   "source": [
    "'''System Dynamics:\n",
    "Orbital part comprising Spin-Orbit, Jahn Teller, Zeeman and Strain couplin\n",
    "'''\n",
    "HOrb = Qobj(np.zeros((N_orbs, N_orbs)))\n",
    "HOrb += 1.68*e/h*(eux*eux.dag()+euy*euy.dag())\n",
    "HOrb = tensor(HOrb, qeye(N_spins))"
   ]
  },
  {
   "cell_type": "code",
   "execution_count": 6,
   "metadata": {},
   "outputs": [],
   "source": [
    "#Spin-Orbit coupling\n",
    "SO_g = 46e9\n",
    "SO_e = 250e9\n",
    "HSO = -SO_g/2*tensor(1j*egy*egx.dag() - 1j*egx*egy.dag(), su*su.dag() + sd*sd.dag()) \n",
    "HSO-= -SO_e/2*tensor(1j*euy*eux.dag() - 1j*eux*euy.dag(), su*su.dag() + sd*sd.dag()) "
   ]
  },
  {
   "cell_type": "code",
   "execution_count": 7,
   "metadata": {},
   "outputs": [],
   "source": [
    "#Strain coupling\n",
    "delta_g = 0\n",
    "alpha_g = 0\n",
    "beta_g = 0\n",
    "HStr_g = (delta_g+alpha_g)*egx*egx.dag()\n",
    "HStr_g += beta_g*egx*egy.dag()\n",
    "HStr_g += beta_g*egy*egx.dag()\n",
    "HStr_g += (delta_g-alpha_g)*egy*egy.dag()\n",
    "\n",
    "delta_e = 0\n",
    "alpha_e = 0\n",
    "beta_e = 0\n",
    "HStr_e = (delta_e+alpha_e)*eux*eux.dag()\n",
    "HStr_e += beta_e*eux*euy.dag()\n",
    "HStr_e += beta_e*euy*eux.dag()\n",
    "HStr_e += (delta_e-alpha_e)*euy*euy.dag()\n",
    "\n",
    "HStr = HStr_g + HStr_e\n",
    "HStr = tensor(HStr, qeye(N_spins))"
   ]
  },
  {
   "cell_type": "code",
   "execution_count": 8,
   "metadata": {},
   "outputs": [],
   "source": [
    "HSys = HOrb+HSO\n",
    "HSys = HSys/norm\n",
    "\n",
    "energies, eigenstates = HSys.eigenstates()\n",
    "transitions = []\n",
    "nu_A = energies[7]-energies[1]\n",
    "nu_B = energies[7]-energies[3]\n",
    "nu_C = energies[5]-energies[1]\n",
    "nu_D = energies[5]-energies[3]\n",
    "\n",
    "\n",
    "# Calculate transformation matrix into eigenbasis\n",
    "# _, sts = np.linalg.eig(H.full())\n",
    "V = np.array(eigenstates[0])\n",
    "for eigenstate in eigenstates[1:]:\n",
    "    V = np.hstack((V,eigenstate))\n",
    "\n",
    "def eigenbasis_op(op):\n",
    "    op_ = np.copy(op.full() if type(op)==Qobj else op)\n",
    "    tmp = np.conj(V.T)@op_@V\n",
    "    \n",
    "    for i in range(tmp.shape[0]):\n",
    "        for j in range(tmp.shape[1]):\n",
    "            if np.abs(tmp[i,j])<1e-2:\n",
    "                tmp[i,j] = 0\n",
    "\n",
    "    return Qobj( tmp.reshape((8,8)), dims=[[4,2],[4,2]])\n",
    "\n",
    "\n",
    "def eigenbasis_st(st):\n",
    "    return np.conj(V.T)@st"
   ]
  },
  {
   "cell_type": "code",
   "execution_count": 9,
   "metadata": {
    "tags": []
   },
   "outputs": [],
   "source": [
    "HSys = (HOrb+HSO)/norm\n",
    "\n",
    "# Dipole operators\n",
    "dx =  eux*egx.dag() - euy*egy.dag()\n",
    "dy = -euy*egx.dag() - eux*egy.dag()\n",
    "dz =  2*(eux*egx.dag() + euy*egy.dag())\n",
    "\n",
    "# Interaction (Laser) Hamiltonian is constructed within already performed rotating frame transformation and rotating wave approximation.\n",
    "# In addition, Laser is assumed to be a coherent state and the corresponding photon bath is already traced out, leaving a pure color center Hamiltonian.\n",
    "def rect_seq(start, width, num_pulses, delay, timeres):\n",
    "    def rect(t, start, width):\n",
    "        return np.heaviside(t-start,1)-np.heaviside(t-(start+width),1)\n",
    "\n",
    "    def func(t, args=None):\n",
    "        try:\n",
    "            return seq[np.argmin(np.abs(t-t_seq))]\n",
    "        except Exception as e:\n",
    "            print(e)\n",
    "            return 0\n",
    "\n",
    "    if not timeres:\n",
    "        timeres = width/100\n",
    "\n",
    "    t_max = start + num_pulses*width+delay*np.sum(np.arange(1,num_pulses+1,1))\n",
    "    t_seq = np.arange(0, t_max, timeres)\n",
    "    seq = np.zeros_like(t_seq)\n",
    "    for i in range(num_pulses):\n",
    "        start = start + width*i + delay*np.sum(np.arange(1,i+1,1))\n",
    "        seq += rect(t_seq, start, width)\n",
    "    # plt.plot(t_seq, seq, alpha=0.7, linestyle='-.')\n",
    "    return t_seq, func\n",
    "\n",
    "\n",
    "# External (lab) and internal (SiV) polarization of electric laser field, Rabi frequency as well as bare frequency\n",
    "Omega_L1 = 1e9/norm\n",
    "nu_L1 = nu_C\n",
    "eps_L1_ext = np.array([1,1,1])\n",
    "eps_L1_ext = 1/np.linalg.norm(eps_L1_ext)*eps_L1_ext\n",
    "eps_L1_int = np.squeeze(R_int_ext @ eps_L1_ext)\n",
    "H_L1 = Omega_L1*tensor(eps_L1_int[0]*(dx + dx.dag()), qeye(N_spins))\n",
    "H_L1 += Omega_L1*tensor(eps_L1_int[1]*(dy + dy.dag()), qeye(N_spins))\n",
    "H_L1 += Omega_L1*tensor(eps_L1_int[2]*(dz + dz.dag()), qeye(N_spins))\n",
    "\n",
    "Omega_L2 = 0e9/norm\n",
    "nu_L2 = nu_D\n",
    "eps_L2_ext = np.array([-1,1,0])\n",
    "eps_L2_ext = 1/np.linalg.norm(eps_L2_ext)*eps_L2_ext\n",
    "eps_L2_int = np.squeeze(R_int_ext @ eps_L2_ext)\n",
    "H_L1 = Omega_L2*tensor(eps_L2_int[0]*(dx + dx.dag()), qeye(N_spins))\n",
    "H_L1 += Omega_L2*tensor(eps_L2_int[1]*(dy + dy.dag()), qeye(N_spins))\n",
    "H_L1 += Omega_L2*tensor(eps_L2_int[2]*(dz + dz.dag()), qeye(N_spins))\n",
    "\n",
    "\n",
    "# Performing a rotating frame transformation on the system Hamiltonian\n",
    "# https://physics.stackexchange.com/questions/458654/rotating-wave-approximation-and-classical-rabi-oscillations-why-dont-the-fast\n",
    "# https://physics.stackexchange.com/questions/222104/what-is-the-interaction-picture-or-rotating-frame-in-quantum-mechanics\n",
    "\n",
    "H = [HSys]\n",
    "pulse_t_res = 1e-2\n",
    "if Omega_L1:\n",
    "    start_L1 = 1\n",
    "    width_L1 = 5\n",
    "    num_pulses_L1 = 2\n",
    "    delay_L1 = width_L1+3\n",
    "    t_seq_L1, pulse_seq_L1 = rect_seq(start_L1, width_L1, num_pulses_L1, delay_L1, pulse_t_res)\n",
    "\n",
    "    HSys -= nu_L1*tensor(eux*eux.dag()+euy*euy.dag(), qeye(N_spins))\n",
    "    H.append([H_L1, pulse_seq_L1])\n",
    "\n",
    "if Omega_L2:\n",
    "    start_L2 = start_L1+width_L1+1\n",
    "    width_L2 = width_L1\n",
    "    num_pulses_L2 = 2\n",
    "    delay_L2 = width_L2+3\n",
    "    t_seq_L2, pulse_seq_L2 = rect_seq(start_L2, width_L2, num_pulses_L2, delay_L2, pulse_t_res)\n",
    "    \n",
    "    if Omega_L1:\n",
    "        HSys += (nu_L2-nu_L1)*tensor(egy*egy.dag()+egy*egy.dag(), qeye(N_spins))\n",
    "        H.append([H_L2, pulse_seq_L2])\n",
    "    else:\n",
    "        HSys -= nu_L2*tensor(eux*eux.dag()+euy*euy.dag(), qeye(N_spins))\n",
    "        H.append([H_L2, pulse_seq_L2])"
   ]
  },
  {
   "cell_type": "code",
   "execution_count": 10,
   "metadata": {},
   "outputs": [
    {
     "output_type": "stream",
     "name": "stdout",
     "text": [
      "Optical decay rate: 0.19999805034664062GHz\n"
     ]
    }
   ],
   "source": [
    "# Environmental interactions\n",
    "T = 2\n",
    "\n",
    "n_th_pht = np.exp(-h*energies[4]/(kB*T))\n",
    "n_th_phn_g = np.exp(-h*46e9/(kB*T))\n",
    "n_th_phn_e = np.exp(-h*250e9/(kB*T))\n",
    "# print(\"Mean phonon 46GHz occupation: \", n_th_phn_g)\n",
    "# print(\"Mean phonon 250GHz occupation: \", n_th_phn_g)\n",
    "# print(\"Mean photon occupation: \", n_th_pht)\n",
    "\n",
    "tau_pht_A = 1.7e-9\n",
    "tau_pht_B = 1.7e-9\n",
    "tau_pht_C = 5e-9\n",
    "tau_pht_D = 1.7e-9\n",
    "\n",
    "tau_phn_e = 200e-12\n",
    "tau_phn_g = 400e-12\n",
    "\n",
    "c_ops = []\n",
    "Gamma_C_up = 1/tau_pht_C*(n_th_pht)/norm\n",
    "Gamma_C_down = 1/tau_pht_C*(n_th_pht+1)/norm\n",
    "# c_ops.append(np.sqrt(Gamma_C_down)*tensor(e_g_x*e_u_x.dag(), qeye(N_spins)))\n",
    "# c_ops.append(np.sqrt(Gamma_C_up)*tensor(e_u_x*e_g_x.dag(), qeye(N_spins)))\n",
    "\n",
    "# c_ops.append(np.sqrt(Gamma_C_down)*tensor(e_g_y*e_u_y.dag(), qeye(N_spins)))\n",
    "# c_ops.append(np.sqrt(Gamma_C_up)*tensor(e_u_y*e_g_y.dag(), qeye(N_spins)))\n",
    "\n",
    "# c_ops.append(np.sqrt(Gamma_C_down)*tensor(e_g_x*e_u_y.dag(), qeye(N_spins)))\n",
    "# c_ops.append(np.sqrt(Gamma_C_up)*tensor(e_u_y*e_g_x.dag(), qeye(N_spins)))\n",
    "\n",
    "# c_ops.append(np.sqrt(Gamma_C_down)*tensor(e_g_y*e_u_x.dag(), qeye(N_spins)))\n",
    "# c_ops.append(np.sqrt(Gamma_C_up)*tensor(e_u_x*e_g_y.dag(), qeye(N_spins)))\n",
    "\n",
    "# print(f\"Optical decay rate: {1/tau_pht_C*n_th_pht*1e-9}GHz\")"
   ]
  },
  {
   "cell_type": "code",
   "execution_count": 11,
   "metadata": {
    "tags": []
   },
   "outputs": [
    {
     "output_type": "error",
     "ename": "TypeError",
     "evalue": "Incompatible Qobj shapes",
     "traceback": [
      "\u001b[1;31m---------------------------------------------------------------------------\u001b[0m",
      "\u001b[1;31mTypeError\u001b[0m                                 Traceback (most recent call last)",
      "\u001b[1;32m<ipython-input-11-3fe5f68001e1>\u001b[0m in \u001b[0;36m<module>\u001b[1;34m\u001b[0m\n\u001b[0;32m      7\u001b[0m \u001b[0mt\u001b[0m \u001b[1;33m=\u001b[0m \u001b[0mt_seq_L1\u001b[0m\u001b[1;33m\u001b[0m\u001b[0m\n\u001b[0;32m      8\u001b[0m \u001b[0mpsi0\u001b[0m \u001b[1;33m=\u001b[0m \u001b[0mexp\u001b[0m\u001b[1;33m[\u001b[0m\u001b[1;36m0\u001b[0m\u001b[1;33m]\u001b[0m\u001b[1;33m+\u001b[0m\u001b[0mexp\u001b[0m\u001b[1;33m[\u001b[0m\u001b[1;36m1\u001b[0m\u001b[1;33m]\u001b[0m\u001b[1;33m\u001b[0m\u001b[0m\n\u001b[1;32m----> 9\u001b[1;33m \u001b[0mpsi0\u001b[0m \u001b[1;33m=\u001b[0m \u001b[0mpsi0\u001b[0m\u001b[1;33m/\u001b[0m\u001b[0mnp\u001b[0m\u001b[1;33m.\u001b[0m\u001b[0mlinalg\u001b[0m\u001b[1;33m.\u001b[0m\u001b[0mnorm\u001b[0m\u001b[1;33m(\u001b[0m\u001b[0mpsi0\u001b[0m\u001b[1;33m)\u001b[0m\u001b[1;33m\u001b[0m\u001b[0m\n\u001b[0m\u001b[0;32m     10\u001b[0m \u001b[1;33m\u001b[0m\u001b[0m\n\u001b[0;32m     11\u001b[0m \u001b[0moptions\u001b[0m \u001b[1;33m=\u001b[0m \u001b[0mOptions\u001b[0m\u001b[1;33m(\u001b[0m\u001b[1;33m)\u001b[0m\u001b[1;33m\u001b[0m\u001b[0m\n",
      "\u001b[1;32mC:\\Python36\\lib\\site-packages\\numpy\\linalg\\linalg.py\u001b[0m in \u001b[0;36mnorm\u001b[1;34m(x, ord, axis, keepdims)\u001b[0m\n\u001b[0;32m   2254\u001b[0m                 \u001b[0msqnorm\u001b[0m \u001b[1;33m=\u001b[0m \u001b[0mdot\u001b[0m\u001b[1;33m(\u001b[0m\u001b[0mx\u001b[0m\u001b[1;33m.\u001b[0m\u001b[0mreal\u001b[0m\u001b[1;33m,\u001b[0m \u001b[0mx\u001b[0m\u001b[1;33m.\u001b[0m\u001b[0mreal\u001b[0m\u001b[1;33m)\u001b[0m \u001b[1;33m+\u001b[0m \u001b[0mdot\u001b[0m\u001b[1;33m(\u001b[0m\u001b[0mx\u001b[0m\u001b[1;33m.\u001b[0m\u001b[0mimag\u001b[0m\u001b[1;33m,\u001b[0m \u001b[0mx\u001b[0m\u001b[1;33m.\u001b[0m\u001b[0mimag\u001b[0m\u001b[1;33m)\u001b[0m\u001b[1;33m\u001b[0m\u001b[0m\n\u001b[0;32m   2255\u001b[0m             \u001b[1;32melse\u001b[0m\u001b[1;33m:\u001b[0m\u001b[1;33m\u001b[0m\u001b[0m\n\u001b[1;32m-> 2256\u001b[1;33m                 \u001b[0msqnorm\u001b[0m \u001b[1;33m=\u001b[0m \u001b[0mdot\u001b[0m\u001b[1;33m(\u001b[0m\u001b[0mx\u001b[0m\u001b[1;33m,\u001b[0m \u001b[0mx\u001b[0m\u001b[1;33m)\u001b[0m\u001b[1;33m\u001b[0m\u001b[0m\n\u001b[0m\u001b[0;32m   2257\u001b[0m             \u001b[0mret\u001b[0m \u001b[1;33m=\u001b[0m \u001b[0msqrt\u001b[0m\u001b[1;33m(\u001b[0m\u001b[0msqnorm\u001b[0m\u001b[1;33m)\u001b[0m\u001b[1;33m\u001b[0m\u001b[0m\n\u001b[0;32m   2258\u001b[0m             \u001b[1;32mif\u001b[0m \u001b[0mkeepdims\u001b[0m\u001b[1;33m:\u001b[0m\u001b[1;33m\u001b[0m\u001b[0m\n",
      "\u001b[1;32mC:\\Python36\\lib\\site-packages\\qutip\\qobj.py\u001b[0m in \u001b[0;36m__mul__\u001b[1;34m(self, other)\u001b[0m\n\u001b[0;32m    538\u001b[0m \u001b[1;33m\u001b[0m\u001b[0m\n\u001b[0;32m    539\u001b[0m             \u001b[1;32melse\u001b[0m\u001b[1;33m:\u001b[0m\u001b[1;33m\u001b[0m\u001b[0m\n\u001b[1;32m--> 540\u001b[1;33m                 \u001b[1;32mraise\u001b[0m \u001b[0mTypeError\u001b[0m\u001b[1;33m(\u001b[0m\u001b[1;34m\"Incompatible Qobj shapes\"\u001b[0m\u001b[1;33m)\u001b[0m\u001b[1;33m\u001b[0m\u001b[0m\n\u001b[0m\u001b[0;32m    541\u001b[0m \u001b[1;33m\u001b[0m\u001b[0m\n\u001b[0;32m    542\u001b[0m         \u001b[1;32melif\u001b[0m \u001b[0misinstance\u001b[0m\u001b[1;33m(\u001b[0m\u001b[0mother\u001b[0m\u001b[1;33m,\u001b[0m \u001b[0mnp\u001b[0m\u001b[1;33m.\u001b[0m\u001b[0mndarray\u001b[0m\u001b[1;33m)\u001b[0m\u001b[1;33m:\u001b[0m\u001b[1;33m\u001b[0m\u001b[0m\n",
      "\u001b[1;31mTypeError\u001b[0m: Incompatible Qobj shapes"
     ]
    }
   ],
   "source": [
    "eigvals, eigsts = (HOrb + HSO).eigenstates()\n",
    "\n",
    "exp = []\n",
    "for eigst in eigsts:\n",
    "    exp.append(eigst)\n",
    "\n",
    "t = t_seq_L1\n",
    "psi0 = exp[0]+exp[1]\n",
    "psi0 = psi0/np.linalg.norm(psi0)\n",
    "\n",
    "options = Options()\n",
    "options.nsteps = 3000\n",
    "output = mesolve(H, psi0, t, c_ops, exp, options=options, args=None)\n",
    "\n",
    "fig, axs = plt.subplots(3,1, figsize=(20,10))\n",
    "fig.figsize = (20,10)\n",
    "axs[0].plot(t, [pulse_seq_L1(t_) for t_ in t], '-k')\n",
    "\n",
    "axs[1].plot(t, [pulse_seq_L2(t_) for t_ in t], '-k')\n",
    "\n",
    "axs[2].plot(t, output.expect[0], '-.b', label='e_g_+$\\downarrow$')\n",
    "axs[2].plot(t, output.expect[1], '--r', label='e_g_-')\n",
    "axs[2].plot(t, output.expect[2], '-g', label='e_u_+')\n",
    "axs[2].plot(t, output.expect[3], '-y', label='e_u_-')\n",
    "axs[2].plot(t, output.expect[0] + output.expect[1] + output.expect[2] + output.expect[3], '-k', alpha=.5)\n",
    "axs[2].legend()\n",
    "\n",
    "plt.tight_layout()\n",
    "plt.show()"
   ]
  },
  {
   "cell_type": "code",
   "execution_count": 13,
   "metadata": {},
   "outputs": [
    {
     "output_type": "execute_result",
     "data": {
      "text/plain": [
       "Quantum object: dims = [[4, 2], [1, 1]], shape = (8, 1), type = ket\n",
       "Qobj data =\n",
       "[[0.70710678+0.j        ]\n",
       " [0.        -0.70710678j]\n",
       " [0.        +0.70710678j]\n",
       " [0.70710678+0.j        ]\n",
       " [0.        +0.j        ]\n",
       " [0.        +0.j        ]\n",
       " [0.        +0.j        ]\n",
       " [0.        +0.j        ]]"
      ],
      "text/latex": "Quantum object: dims = [[4, 2], [1, 1]], shape = (8, 1), type = ket\\begin{equation*}\\left(\\begin{array}{*{11}c}0.707\\\\-0.707j\\\\0.707j\\\\0.707\\\\0.0\\\\0.0\\\\0.0\\\\0.0\\\\\\end{array}\\right)\\end{equation*}"
     },
     "metadata": {},
     "execution_count": 13
    }
   ],
   "source": [
    "psi0"
   ]
  },
  {
   "cell_type": "code",
   "execution_count": 88,
   "metadata": {},
   "outputs": [
    {
     "output_type": "execute_result",
     "data": {
      "text/plain": [
       "Quantum object: dims = [[4, 2], [1, 1]], shape = (8, 1), type = ket\n",
       "Qobj data =\n",
       "[[0.        +0.j        ]\n",
       " [0.70710678+0.j        ]\n",
       " [0.        +0.j        ]\n",
       " [0.        +0.70710678j]\n",
       " [0.        +0.j        ]\n",
       " [0.        +0.j        ]\n",
       " [0.        +0.j        ]\n",
       " [0.        +0.j        ]]"
      ],
      "text/latex": "Quantum object: dims = [[4, 2], [1, 1]], shape = (8, 1), type = ket\\begin{equation*}\\left(\\begin{array}{*{11}c}0.0\\\\0.707\\\\0.0\\\\0.707j\\\\0.0\\\\0.0\\\\0.0\\\\0.0\\\\\\end{array}\\right)\\end{equation*}"
     },
     "metadata": {},
     "execution_count": 88
    }
   ],
   "source": [
    "tensor(L_z_g,S_z)*tensor(e_g_p, s_down)"
   ]
  },
  {
   "cell_type": "code",
   "execution_count": 89,
   "metadata": {},
   "outputs": [
    {
     "output_type": "execute_result",
     "data": {
      "text/plain": [
       "Quantum object: dims = [[4, 2], [1, 1]], shape = (8, 1), type = ket\n",
       "Qobj data =\n",
       "[[ 0.        +0.j        ]\n",
       " [-0.70710678+0.j        ]\n",
       " [ 0.        +0.j        ]\n",
       " [ 0.        -0.70710678j]\n",
       " [ 0.        +0.j        ]\n",
       " [ 0.        +0.j        ]\n",
       " [ 0.        +0.j        ]\n",
       " [ 0.        +0.j        ]]"
      ],
      "text/latex": "Quantum object: dims = [[4, 2], [1, 1]], shape = (8, 1), type = ket\\begin{equation*}\\left(\\begin{array}{*{11}c}0.0\\\\-0.707\\\\0.0\\\\-0.707j\\\\0.0\\\\0.0\\\\0.0\\\\0.0\\\\\\end{array}\\right)\\end{equation*}"
     },
     "metadata": {},
     "execution_count": 89
    }
   ],
   "source": [
    "tensor(e_g_p, s_down)"
   ]
  },
  {
   "cell_type": "code",
   "execution_count": 9,
   "metadata": {},
   "outputs": [],
   "source": [
    "#Magnetic field unit vector\n",
    "e_B_ext = np.array([[1],[1],[0]])\n",
    "e_B_ext = e_B_ext/np.linalg.norm(e_B_ext)\n",
    "Bs = np.linspace(0,7,100)\n",
    "\n",
    "energies = np.zeros((N, len(Bs)))\n",
    "for i, B in enumerate(Bs):\n",
    "\n",
    "    #Zeeman coupling with quenching factor of f=0.1\n",
    "    f = 0.1\n",
    "    gamma_S = 2*mu_B/h\n",
    "    gamma_L = mu_B/h\n",
    "    \n",
    "    B_ext = e_B_ext*B\n",
    "    \n",
    "    #Rotate into SiV internal coordinate system defined by applying (R_y*R_z)^-1\n",
    "    B_x = np.squeeze(R_int_ext @ B_ext)[0]\n",
    "    B_y = np.squeeze(R_int_ext @ B_ext)[1]\n",
    "    B_z = np.squeeze(R_int_ext @ B_ext)[2]\n",
    "        \n",
    "    HZL = f*gamma_L*B_z*tensor((L_z_g+L_z_e),qeye(N_spins))    \n",
    "    HZS = gamma_S*tensor(qeye(N_orbs),(B_x*S_x+B_y*S_y+B_z*S_z))\n",
    "        \n",
    "    energies[:,i] = (HOrb+HSO+HZL+HZS+HJT+HStr).eigenenergies()"
   ]
  },
  {
   "cell_type": "code",
   "execution_count": null,
   "metadata": {},
   "outputs": [],
   "source": [
    "labels = [\n",
    "    '|e_g_x, 🠕>',\n",
    "    '|e_g_x, 🠗>',\n",
    "    '|e_g_y, 🠕>',\n",
    "    '|e_g_y, 🠗>',\n",
    "    '|e_u_x, 🠕>',\n",
    "    '|e_u_x, 🠗>',\n",
    "    '|e_u_y, 🠕>',\n",
    "    '|e_u_y, 🠗>']\n",
    "colors = [\n",
    "    'k',\n",
    "    'k',\n",
    "    'r',\n",
    "    'r',\n",
    "    'b',\n",
    "    'b',\n",
    "    'y',\n",
    "    'y'\n",
    "]\n",
    "styles = [\n",
    "    '-',\n",
    "    '-.',\n",
    "    '-',\n",
    "    '-.',\n",
    "    '-',\n",
    "    '-.',\n",
    "    '-',\n",
    "    '-.',\n",
    "]\n",
    "\n",
    "fig, axs = plt.subplots(3,1,True)\n",
    "for i, energy in enumerate(energies):\n",
    "    if i<4:\n",
    "        axs[1].plot(Bs, energy, linestyle=styles[i], label=labels[i], color=colors[i])\n",
    "    else:\n",
    "        axs[0].plot(Bs, energy-1.68*e/h, linestyle=styles[i], label=labels[i], color=colors[i])\n",
    "    \n",
    "axs[0].legend()\n",
    "axs[1].legend()\n",
    "plt.show()"
   ]
  },
  {
   "cell_type": "code",
   "execution_count": null,
   "metadata": {},
   "outputs": [],
   "source": [
    "#Fluorescence spectrum\n",
    "tlist = np.linspace(0, 0.5e-6, 5000)\n",
    "corr = correlation_2op_1t(H, None, tlist, c_ops, tensor(e_u_y*e_u_x.dag(),qeye(N_spins)), tensor(e_u_x*e_u_y.dag(),qeye(N_spins)))\n",
    "wlist1, spec1 = spectrum_correlation_fft(tlist, corr)\n",
    "\n",
    "fig, ax = plt.subplots(1, 1)\n",
    "ax.plot(wlist1 / (2 * np.pi), spec1, 'b', lw=1, label='eseries method')\n",
    "plt.show()\n"
   ]
  },
  {
   "cell_type": "code",
   "execution_count": null,
   "metadata": {},
   "outputs": [],
   "source": []
  }
 ]
}