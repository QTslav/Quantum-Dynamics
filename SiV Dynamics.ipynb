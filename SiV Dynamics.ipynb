{
 "cells": [
  {
   "cell_type": "code",
   "execution_count": 1,
   "metadata": {},
   "outputs": [
    {
     "output_type": "stream",
     "name": "stdout",
     "text": [
      "ctypes init ole32 0\n",
      "ctypes init ole32 0\n",
      "ctypes init oleaut32 0\n",
      "ctypes init oleaut32 0\n",
      "ctypes init oleaut32 0\n",
      "ctypes init oleaut32 0\n",
      "ctypes init shell32.dll 0\n",
      "ctypes init kernel32.dll 0\n",
      "ctypes init C:\\Users\\Marco Klotz\\Anaconda3\\Library\\bin\\mkl_rt.dll 0\n"
     ]
    }
   ],
   "source": [
    "from qutip import *\n",
    "import numpy as np\n",
    "import matplotlib.pyplot as plt\n",
    "from matplotlib import rc\n",
    "plt.rcParams[\"figure.figsize\"] = (20,10)"
   ]
  },
  {
   "cell_type": "code",
   "execution_count": 2,
   "metadata": {},
   "outputs": [],
   "source": [
    "# Constants\n",
    "h = 6.602e-34\n",
    "hbar = h/(2*np.pi)\n",
    "kB = 1.38e-23\n",
    "eps_0 = 8.85e-12\n",
    "c_0 = 299792458\n",
    "e = 1.602e-19\n",
    "m_e = 9.109e-31\n",
    "a_0 = 0.53e-10\n",
    "norm = 1e9\n",
    "mu_B = e*hbar/(2*m_e)"
   ]
  },
  {
   "cell_type": "code",
   "execution_count": 3,
   "metadata": {},
   "outputs": [],
   "source": [
    "#Internal basis vectors expressed in lab frame. SiV high symmetry axis is along z: <111>\n",
    "x = np.array([-1,1,0])\n",
    "x = x/np.linalg.norm(x)\n",
    "y = np.array([-1,-1,2])\n",
    "y = y/np.linalg.norm(y)\n",
    "z = np.array([1,1,1])\n",
    "z = z/np.linalg.norm(z)\n",
    "\n",
    "#Rotation matrix to switch from internal to external lab frame\n",
    "R_ext_int = np.vstack((x,y,z)).T\n",
    "R_int_ext = np.linalg.inv(R_ext_int)"
   ]
  },
  {
   "cell_type": "code",
   "execution_count": 4,
   "metadata": {},
   "outputs": [
    {
     "output_type": "display_data",
     "data": {
      "text/plain": "<IPython.core.display.Latex object>",
      "text/latex": "Basis states of the system are defined by orbitals $\\ket{e_{gx}}, \\ket{e_{gy}}, \\ket{e_{ux}}, \\ket{e_{uy}}$ and spins $\\ket{\\uparrow}, \\ket{\\downarrow}$\n"
     },
     "metadata": {}
    }
   ],
   "source": [
    "%%latex\n",
    "Basis states of the system are defined by orbitals $\\ket{e_{gx}}, \\ket{e_{gy}}, \\ket{e_{ux}}, \\ket{e_{uy}}$ and spins $\\ket{\\uparrow}, \\ket{\\downarrow}$\n"
   ]
  },
  {
   "cell_type": "code",
   "execution_count": 5,
   "metadata": {},
   "outputs": [],
   "source": [
    "''' \n",
    "    States and operators:\n",
    "    Orbitals ordering\n",
    "    0: |e_gx>\n",
    "    1: |e_gy>\n",
    "    2: |e_ux>\n",
    "    3: |e_uy>\n",
    "\n",
    "    Therefore orbital plus operator L_p_x = |e_g_y><e_g_x| ... \n",
    "    Due to D3d symmetry only L_z is non-zero. L_x and L_y vanish.\n",
    "\n",
    "    Define spin up |🠕> as lower energy state.\n",
    "'''\n",
    "N_orbs = 4 \n",
    "e_g_x = basis(N_orbs, 0)\n",
    "e_g_y = basis(N_orbs, 1)\n",
    "e_u_x = basis(N_orbs, 2)\n",
    "e_u_y = basis(N_orbs, 3)\n",
    "L_g_p = e_g_y*e_g_x.dag()\n",
    "L_g_m = L_g_p.trans()\n",
    "L_e_p = e_u_y*e_u_x.dag()\n",
    "L_e_m = L_e_p.trans()\n",
    "L_z_g = 1j*e_g_x*e_g_y.dag()-1j*e_g_y*e_g_x.dag()\n",
    "L_z_e = 1j*e_u_x*e_u_y.dag()-1j*e_u_y*e_u_x.dag()\n",
    "\n",
    "N_spins = 2\n",
    "s_up = basis(N_spins,0)\n",
    "s_down = basis(N_spins,1)\n",
    "S_m = s_down*s_up.dag()\n",
    "S_p = s_up*s_down.dag()\n",
    "S_x = (S_m + S_p)\n",
    "S_y = (-1j*S_m + 1j*S_p)\n",
    "S_z = s_up*s_up.dag() - s_down*s_down.dag()\n",
    "N = N_orbs*N_spins"
   ]
  },
  {
   "cell_type": "code",
   "execution_count": 6,
   "metadata": {},
   "outputs": [],
   "source": [
    "'''System Dynamics:\n",
    "Orbital part comprising Spin-Orbit, Jahn Teller, Zeeman and Strain couplin\n",
    "'''\n",
    "HOrb = Qobj(np.zeros((N_orbs, N_orbs)))\n",
    "HOrb += 1.68*e/h*(e_u_x*e_u_x.dag()+e_u_y*e_u_y.dag())\n",
    "HOrb = tensor(HOrb, qeye(N_spins))"
   ]
  },
  {
   "cell_type": "code",
   "execution_count": 7,
   "metadata": {},
   "outputs": [],
   "source": [
    "#Spin-Orbit coupling\n",
    "SO_g = 46e9\n",
    "SO_e = 250e9\n",
    "HSO = -SO_g/2*tensor(L_z_g,S_z) - SO_e/2*tensor(L_z_e,S_z)"
   ]
  },
  {
   "cell_type": "code",
   "execution_count": 8,
   "metadata": {},
   "outputs": [],
   "source": [
    "#Jahn-Teller coupling\n",
    "JT_x_g = 0\n",
    "JT_x_e = 0\n",
    "JT_y_g = 0\n",
    "JT_y_e = 0\n",
    "HJT = JT_x_g*e_g_x*e_g_x.dag()\n",
    "HJT += JT_y_g*e_g_x*e_g_y.dag()\n",
    "HJT += JT_y_g*e_g_y*e_g_x.dag()\n",
    "HJT += -JT_x_g*e_g_y*e_g_y.dag()\n",
    "HJT += JT_x_e*e_u_x*e_u_x.dag()\n",
    "HJT += JT_y_e*e_u_x*e_u_y.dag()\n",
    "HJT += JT_y_e*e_u_y*e_u_x.dag()\n",
    "HJT += -JT_x_e*e_u_y*e_u_y.dag()\n",
    "HJT = tensor(HJT, qeye(N_spins))"
   ]
  },
  {
   "cell_type": "code",
   "execution_count": 9,
   "metadata": {},
   "outputs": [],
   "source": [
    "#Strain coupling\n",
    "delta_g = 0\n",
    "alpha_g = 0\n",
    "beta_g = 0\n",
    "HStr_g = (delta_g+alpha_g)*e_g_x*e_g_x.dag()\n",
    "HStr_g += beta_g*e_g_x*e_g_y.dag()\n",
    "HStr_g += beta_g*e_g_y*e_g_x.dag()\n",
    "HStr_g += (delta_g-alpha_g)*e_g_y*e_g_y.dag()\n",
    "\n",
    "delta_e = 0\n",
    "alpha_e = 0\n",
    "beta_e = 0\n",
    "HStr_e = (delta_e+alpha_e)*e_u_x*e_u_x.dag()\n",
    "HStr_e += beta_e*e_u_x*e_u_y.dag()\n",
    "HStr_e += beta_e*e_u_y*e_u_x.dag()\n",
    "HStr_e += (delta_e-alpha_e)*e_u_y*e_u_y.dag()\n",
    "\n",
    "HStr = HStr_g + HStr_e\n",
    "HStr = tensor(HStr, qeye(N_spins))"
   ]
  },
  {
   "cell_type": "code",
   "execution_count": 60,
   "metadata": {},
   "outputs": [],
   "source": [
    "H = HOrb+HSO\n",
    "H = H/norm\n",
    "energies, eigenstates = H.eigenstates()\n",
    "transitions = []\n",
    "for i in range(energies.size):\n",
    "    for j in range(1,i):\n",
    "        if energies[i] - energies[j]:\n",
    "            transitions.append( (energies[i] - energies[j]))\n",
    "transitions = np.sort(np.array(list(set(transitions))))\n",
    "# _, _, nu_D, nu_C, nu_B, nu_A = transitions\n",
    "\n",
    "# Calculate transformation matrix into eigenbasis\n",
    "# _, sts = np.linalg.eig(H.full())\n",
    "V = np.array(eigenstates[0])\n",
    "for eigenstate in eigenstates[1:]:\n",
    "    V = np.hstack((V,eigenstate))\n",
    "\n",
    "def transform_op(op):\n",
    "    op_ = np.copy(op.full())\n",
    "    return Qobj( (np.conj(V.T)@op_@V).reshape((8,8)), dims=[[4,2],[4,2]])\n",
    "\n",
    "def transform_st(st):\n",
    "    return np.conj(V.T)@st"
   ]
  },
  {
   "cell_type": "code",
   "execution_count": 64,
   "metadata": {},
   "outputs": [
    {
     "output_type": "execute_result",
     "data": {
      "text/plain": [
       "Quantum object: dims = [[4, 2], [4, 2]], shape = (8, 8), type = oper, isherm = True\n",
       "Qobj data =\n",
       "[[-5.64025080e-05  0.00000000e+00  0.00000000e+00  0.00000000e+00\n",
       "   0.00000000e+00  0.00000000e+00  0.00000000e+00  0.00000000e+00]\n",
       " [ 0.00000000e+00 -5.64025080e-05  0.00000000e+00  0.00000000e+00\n",
       "   0.00000000e+00  0.00000000e+00  0.00000000e+00  0.00000000e+00]\n",
       " [ 0.00000000e+00  0.00000000e+00  5.64025080e-05  0.00000000e+00\n",
       "   0.00000000e+00  0.00000000e+00  0.00000000e+00  0.00000000e+00]\n",
       " [ 0.00000000e+00  0.00000000e+00  0.00000000e+00  5.64025080e-05\n",
       "   0.00000000e+00  0.00000000e+00  0.00000000e+00  0.00000000e+00]\n",
       " [ 0.00000000e+00  0.00000000e+00  0.00000000e+00  0.00000000e+00\n",
       "   9.99386929e-01  0.00000000e+00  0.00000000e+00  0.00000000e+00]\n",
       " [ 0.00000000e+00  0.00000000e+00  0.00000000e+00  0.00000000e+00\n",
       "   0.00000000e+00  9.99386929e-01  0.00000000e+00  0.00000000e+00]\n",
       " [ 0.00000000e+00  0.00000000e+00  0.00000000e+00  0.00000000e+00\n",
       "   0.00000000e+00  0.00000000e+00  1.00000000e+00  0.00000000e+00]\n",
       " [ 0.00000000e+00  0.00000000e+00  0.00000000e+00  0.00000000e+00\n",
       "   0.00000000e+00  0.00000000e+00  0.00000000e+00  1.00000000e+00]]"
      ],
      "text/latex": "Quantum object: dims = [[4, 2], [4, 2]], shape = (8, 8), type = oper, isherm = True\\begin{equation*}\\left(\\begin{array}{*{11}c}-5.640\\times10^{-05} & 0.0 & 0.0 & 0.0 & 0.0 & 0.0 & 0.0 & 0.0\\\\0.0 & -5.640\\times10^{-05} & 0.0 & 0.0 & 0.0 & 0.0 & 0.0 & 0.0\\\\0.0 & 0.0 & 5.640\\times10^{-05} & 0.0 & 0.0 & 0.0 & 0.0 & 0.0\\\\0.0 & 0.0 & 0.0 & 5.640\\times10^{-05} & 0.0 & 0.0 & 0.0 & 0.0\\\\0.0 & 0.0 & 0.0 & 0.0 & 0.999 & 0.0 & 0.0 & 0.0\\\\0.0 & 0.0 & 0.0 & 0.0 & 0.0 & 0.999 & 0.0 & 0.0\\\\0.0 & 0.0 & 0.0 & 0.0 & 0.0 & 0.0 & 1.000 & 0.0\\\\0.0 & 0.0 & 0.0 & 0.0 & 0.0 & 0.0 & 0.0 & 1.000\\\\\\end{array}\\right)\\end{equation*}"
     },
     "metadata": {},
     "execution_count": 64
    }
   ],
   "source": [
    "HSys = Qobj()\n",
    "for i in range(len(energies)):\n",
    "    nu_L = 0\n",
    "    # if np.abs(energies[i]-nu_L)<1e12:\n",
    "    HSys += (energies[i]-nu_L)*eigenstates[i]*eigenstates[i].dag()\n",
    "HSys*eigenstates[0] / energies[0]\n",
    "transform_op(HSys) / energies[7]"
   ]
  },
  {
   "cell_type": "code",
   "execution_count": 54,
   "metadata": {},
   "outputs": [
    {
     "output_type": "execute_result",
     "data": {
      "text/plain": [
       "array([-2.30000000e+10, -2.30000000e+10,  2.30000000e+10,  2.30000000e+10,\n",
       "        4.07533285e+14,  4.07533285e+14,  4.07783285e+14,  4.07783285e+14])"
      ]
     },
     "metadata": {},
     "execution_count": 54
    }
   ],
   "source": [
    "energies"
   ]
  },
  {
   "cell_type": "code",
   "execution_count": 25,
   "metadata": {
    "tags": []
   },
   "outputs": [
    {
     "output_type": "stream",
     "name": "stdout",
     "text": [
      "Quantum object: dims = [[4, 2], [4, 2]], shape = (8, 8), type = oper, isherm = True\nQobj data =\n[[0.00e+00+0.00e+00j 0.00e+00+0.00e+00j 0.00e+00+0.00e+00j\n  0.00e+00+0.00e+00j 0.00e+00+0.00e+00j 0.00e+00+0.00e+00j\n  0.00e+00+0.00e+00j 0.00e+00+0.00e+00j]\n [0.00e+00+0.00e+00j 0.00e+00+0.00e+00j 0.00e+00+0.00e+00j\n  0.00e+00+0.00e+00j 0.00e+00+0.00e+00j 0.00e+00+0.00e+00j\n  0.00e+00+0.00e+00j 0.00e+00+0.00e+00j]\n [0.00e+00+0.00e+00j 0.00e+00+0.00e+00j 0.00e+00+0.00e+00j\n  0.00e+00+0.00e+00j 0.00e+00+0.00e+00j 0.00e+00+0.00e+00j\n  0.00e+00+0.00e+00j 0.00e+00+0.00e+00j]\n [0.00e+00+0.00e+00j 0.00e+00+0.00e+00j 0.00e+00+0.00e+00j\n  0.00e+00+0.00e+00j 0.00e+00+0.00e+00j 0.00e+00+0.00e+00j\n  0.00e+00+0.00e+00j 0.00e+00+0.00e+00j]\n [0.00e+00+0.00e+00j 0.00e+00+0.00e+00j 0.00e+00+0.00e+00j\n  0.00e+00+0.00e+00j 1.02e+11+0.00e+00j 0.00e+00+0.00e+00j\n  0.00e+00-1.25e+11j 0.00e+00+0.00e+00j]\n [0.00e+00+0.00e+00j 0.00e+00+0.00e+00j 0.00e+00+0.00e+00j\n  0.00e+00+0.00e+00j 0.00e+00+0.00e+00j 1.02e+11+0.00e+00j\n  0.00e+00+0.00e+00j 0.00e+00+1.25e+11j]\n [0.00e+00+0.00e+00j 0.00e+00+0.00e+00j 0.00e+00+0.00e+00j\n  0.00e+00+0.00e+00j 0.00e+00+1.25e+11j 0.00e+00+0.00e+00j\n  1.02e+11+0.00e+00j 0.00e+00+0.00e+00j]\n [0.00e+00+0.00e+00j 0.00e+00+0.00e+00j 0.00e+00+0.00e+00j\n  0.00e+00+0.00e+00j 0.00e+00+0.00e+00j 0.00e+00-1.25e+11j\n  0.00e+00+0.00e+00j 1.02e+11+0.00e+00j]]\nQuantum object: dims = [[4, 2], [4, 2]], shape = (8, 8), type = oper, isherm = True\nQobj data =\n[[  0.   0.   0.   0.   0.   0.   0.   0.]\n [  0.   0.   0.   0.   0.   0.   0.   0.]\n [  0.   0.   0.   0.   0.   0.   0.   0.]\n [  0.   0.   0.   0.   0.   0.   0.   0.]\n [  0.   0.   0.   0. 227.   0.   0.   0.]\n [  0.   0.   0.   0.   0. -23.   0.   0.]\n [  0.   0.   0.   0.   0.   0. 227.   0.]\n [  0.   0.   0.   0.   0.   0.   0. -23.]]\n"
     ]
    }
   ],
   "source": [
    "# Dipole operators\n",
    "d_x =  e_g_x*e_u_x.dag() - e_g_y*e_u_y.dag()\n",
    "d_y = -e_g_x*e_u_y.dag() - e_g_y*e_u_x.dag()\n",
    "d_z =  e_g_x*e_u_x.dag() + e_g_y*e_u_y.dag()\n",
    "\n",
    "# External (lab) and internal (SiV) polarization of electric laser field\n",
    "eps_ext = np.array([1,1,1])\n",
    "eps_ext = 1/np.linalg.norm(eps_ext)*eps_ext\n",
    "eps_int = np.squeeze(R_int_ext @ eps_ext)\n",
    "\n",
    "# Interaction (Laser) Hamiltonian is constructed within already performed rotating frame transformation and rotating wave approximation.\n",
    "# In addition, Laser is assumed to be a coherent state and the corresponding photon bath is already traced out, leaving a pure color center Hamiltonian.\n",
    "def pulse_T1(t, args):\n",
    "    def rect(t, t0, a):\n",
    "        return np.heaviside(t-t0,1)-np.heaviside(t-(t0+a),1)\n",
    "\n",
    "    pulse = np.zeros_like(t)\n",
    "    for i in range(args['N']):\n",
    "        t0 = args['t0'] + args['a']*i + args['tau']*np.sum(np.arange(0,i+1,1))\n",
    "        a = args['a']\n",
    "        pulse += rect(t, t0, a)\n",
    "    return pulse\n",
    "\n",
    "Omega_L = 1e9\n",
    "nu_L = nu_C\n",
    "HL = Omega_L*tensor((eps_int[0]*d_x + eps_int[1]*d_y + eps_int[2]*d_z), qeye(N_spins))\n",
    "HL += HL.dag()\n",
    "HL = transform_op(HL)/norm\n",
    "\n",
    "H = [HSys, [HL,pulse_T1]]"
   ]
  },
  {
   "cell_type": "code",
   "execution_count": 72,
   "metadata": {},
   "outputs": [
    {
     "output_type": "stream",
     "name": "stdout",
     "text": [
      "Mean phonon 46GHz occupation:  0.33276014516096364\nMean phonon 250GHz occupation:  0.33276014516096364\nMean photon occupation:  0.0\n"
     ]
    }
   ],
   "source": [
    "# Environmental interactions\n",
    "T = 2\n",
    "\n",
    "n_th_pht = np.exp(-h*energies[4]/(kB*T))\n",
    "n_th_phn_g = np.exp(-h*46e9/(kB*T))\n",
    "n_th_phn_e = np.exp(-h*250e9/(kB*T))\n",
    "print(\"Mean phonon 46GHz occupation: \", n_th_phn_g)\n",
    "print(\"Mean phonon 250GHz occupation: \", n_th_phn_g)\n",
    "print(\"Mean photon occupation: \", n_th_pht)\n",
    "\n",
    "tau_pht_A = 1.7e-9\n",
    "tau_pht_B = 1.7e-9\n",
    "tau_pht_C = 1.7e-9\n",
    "tau_pht_D = 1.7e-9\n",
    "\n",
    "tau_phn_e = 200e-12\n",
    "tau_phn_g = 400e-12\n",
    "\n",
    "c_ops = []\n",
    "\n",
    "# #C transition\n",
    "Gamma_C_up = 1/tau_pht_C*(n_th_pht+1)/norm\n",
    "Gamma_C_down = 1/tau_pht_C*(n_th_pht)/norm\n",
    "c_ops.append(np.sqrt(Gamma_C_up)*tensor(e_g_x*e_u_x.dag(), qeye(N_spins)))\n",
    "c_ops.append(np.sqrt(Gamma_C_down)*tensor(e_u_x*e_g_x.dag(), qeye(N_spins)))\n",
    "\n",
    "c_ops.append(np.sqrt(Gamma_C_up)*tensor(e_g_y*e_u_y.dag(), qeye(N_spins)))\n",
    "c_ops.append(np.sqrt(Gamma_C_down)*tensor(e_u_y*e_g_y.dag(), qeye(N_spins)))\n",
    "\n",
    "c_ops.append(np.sqrt(Gamma_C_up)*tensor(e_g_x*e_u_y.dag(), qeye(N_spins)))\n",
    "c_ops.append(np.sqrt(Gamma_C_down)*tensor(e_u_y*e_g_x.dag(), qeye(N_spins)))\n",
    "\n",
    "c_ops.append(np.sqrt(Gamma_C_up)*tensor(e_g_y*e_u_x.dag(), qeye(N_spins)))\n",
    "c_ops.append(np.sqrt(Gamma_C_down)*tensor(e_u_x*e_g_y.dag(), qeye(N_spins)))\n",
    "\n",
    "# Transform into other basis\n",
    "for i, c_op in enumerate(c_ops):\n",
    "    c_ops[i] = transform_op(c_op)\n"
   ]
  },
  {
   "cell_type": "code",
   "execution_count": 75,
   "metadata": {},
   "outputs": [
    {
     "output_type": "execute_result",
     "data": {
      "text/plain": [
       "Quantum object: dims = [[1], [1]], shape = (1, 1), type = bra\n",
       "Qobj data =\n",
       "[[0.]]"
      ],
      "text/latex": "Quantum object: dims = [[1], [1]], shape = (1, 1), type = bra\\begin{equation*}\\left(\\begin{array}{*{11}c}0.0\\\\\\end{array}\\right)\\end{equation*}"
     },
     "metadata": {},
     "execution_count": 75
    }
   ],
   "source": [
    "HSys"
   ]
  },
  {
   "cell_type": "code",
   "execution_count": 74,
   "metadata": {},
   "outputs": [
    {
     "output_type": "stream",
     "name": "stderr",
     "text": [
      "C:\\Users\\Marco Klotz\\Anaconda3\\lib\\site-packages\\scipy\\integrate\\_ode.py:1009: UserWarning: zvode: Excess work done on this call. (Perhaps wrong MF.)\n  self.messages.get(istate, unexpected_istate_msg)))\n"
     ]
    },
    {
     "output_type": "error",
     "ename": "Exception",
     "evalue": "ODE integration error: Try to increase the allowed number of substeps by increasing the nsteps parameter in the Options class.",
     "traceback": [
      "\u001b[1;31m---------------------------------------------------------------------------\u001b[0m",
      "\u001b[1;31mException\u001b[0m                                 Traceback (most recent call last)",
      "\u001b[1;32m<ipython-input-74-fd68af4cf815>\u001b[0m in \u001b[0;36m<module>\u001b[1;34m\u001b[0m\n\u001b[0;32m     12\u001b[0m \u001b[0moptions\u001b[0m \u001b[1;33m=\u001b[0m \u001b[0mOptions\u001b[0m\u001b[1;33m(\u001b[0m\u001b[1;33m)\u001b[0m\u001b[1;33m\u001b[0m\u001b[1;33m\u001b[0m\u001b[0m\n\u001b[0;32m     13\u001b[0m \u001b[0moptions\u001b[0m\u001b[1;33m.\u001b[0m\u001b[0mnsteps\u001b[0m \u001b[1;33m=\u001b[0m \u001b[1;36m10000\u001b[0m\u001b[1;33m\u001b[0m\u001b[1;33m\u001b[0m\u001b[0m\n\u001b[1;32m---> 14\u001b[1;33m \u001b[0moutput\u001b[0m \u001b[1;33m=\u001b[0m \u001b[0mmesolve\u001b[0m\u001b[1;33m(\u001b[0m\u001b[0mH\u001b[0m\u001b[1;33m,\u001b[0m \u001b[0mpsi0\u001b[0m\u001b[1;33m,\u001b[0m \u001b[0mt\u001b[0m\u001b[1;33m,\u001b[0m \u001b[0mc_ops\u001b[0m\u001b[1;33m,\u001b[0m \u001b[0mrho0\u001b[0m\u001b[1;33m,\u001b[0m \u001b[0moptions\u001b[0m\u001b[1;33m=\u001b[0m\u001b[0moptions\u001b[0m\u001b[1;33m,\u001b[0m \u001b[0margs\u001b[0m\u001b[1;33m=\u001b[0m\u001b[0mpulse_args\u001b[0m\u001b[1;33m)\u001b[0m\u001b[1;33m\u001b[0m\u001b[1;33m\u001b[0m\u001b[0m\n\u001b[0m\u001b[0;32m     15\u001b[0m \u001b[1;33m\u001b[0m\u001b[0m\n\u001b[0;32m     16\u001b[0m \u001b[0mplt\u001b[0m\u001b[1;33m.\u001b[0m\u001b[0mplot\u001b[0m\u001b[1;33m(\u001b[0m\u001b[0mt\u001b[0m\u001b[1;33m,\u001b[0m \u001b[0mpulse_T1\u001b[0m\u001b[1;33m(\u001b[0m\u001b[0mt\u001b[0m\u001b[1;33m,\u001b[0m \u001b[0mpulse_args\u001b[0m\u001b[1;33m)\u001b[0m\u001b[1;33m,\u001b[0m \u001b[1;34m'-r'\u001b[0m\u001b[1;33m)\u001b[0m\u001b[1;33m\u001b[0m\u001b[1;33m\u001b[0m\u001b[0m\n",
      "\u001b[1;32m~\\Anaconda3\\lib\\site-packages\\qutip\\mesolve.py\u001b[0m in \u001b[0;36mmesolve\u001b[1;34m(H, rho0, tlist, c_ops, e_ops, args, options, progress_bar, _safe_mode)\u001b[0m\n\u001b[0;32m    267\u001b[0m \u001b[1;33m\u001b[0m\u001b[0m\n\u001b[0;32m    268\u001b[0m     res = _generic_ode_solve(func, ode_args, rho0, tlist, e_ops, options,\n\u001b[1;32m--> 269\u001b[1;33m                              progress_bar, dims=rho0.dims)\n\u001b[0m\u001b[0;32m    270\u001b[0m \u001b[1;33m\u001b[0m\u001b[0m\n\u001b[0;32m    271\u001b[0m     \u001b[1;32mif\u001b[0m \u001b[0me_ops_dict\u001b[0m\u001b[1;33m:\u001b[0m\u001b[1;33m\u001b[0m\u001b[1;33m\u001b[0m\u001b[0m\n",
      "\u001b[1;32m~\\Anaconda3\\lib\\site-packages\\qutip\\mesolve.py\u001b[0m in \u001b[0;36m_generic_ode_solve\u001b[1;34m(func, ode_args, rho0, tlist, e_ops, opt, progress_bar, dims)\u001b[0m\n\u001b[0;32m    489\u001b[0m \u001b[1;33m\u001b[0m\u001b[0m\n\u001b[0;32m    490\u001b[0m         \u001b[1;32mif\u001b[0m \u001b[1;32mnot\u001b[0m \u001b[0mr\u001b[0m\u001b[1;33m.\u001b[0m\u001b[0msuccessful\u001b[0m\u001b[1;33m(\u001b[0m\u001b[1;33m)\u001b[0m\u001b[1;33m:\u001b[0m\u001b[1;33m\u001b[0m\u001b[1;33m\u001b[0m\u001b[0m\n\u001b[1;32m--> 491\u001b[1;33m             raise Exception(\"ODE integration error: Try to increase \"\n\u001b[0m\u001b[0;32m    492\u001b[0m                             \u001b[1;34m\"the allowed number of substeps by increasing \"\u001b[0m\u001b[1;33m\u001b[0m\u001b[1;33m\u001b[0m\u001b[0m\n\u001b[0;32m    493\u001b[0m                             \"the nsteps parameter in the Options class.\")\n",
      "\u001b[1;31mException\u001b[0m: ODE integration error: Try to increase the allowed number of substeps by increasing the nsteps parameter in the Options class."
     ]
    }
   ],
   "source": [
    "t0 = 50\n",
    "a = 200\n",
    "tau = 10\n",
    "N = 3\n",
    "pulse_args = {'t0':t0, 'a':a, 'tau':tau, 'N':N}\n",
    "pulse_total_length =  t0 + N*(np.sum(np.arange(0,N+1,1)*tau+a))\n",
    "\n",
    "t = np.linspace(0,pulse_total_length,5000)\n",
    "psi0 = tensor(1/np.sqrt(2)*(e_g_x+1j*e_g_y), 1/np.sqrt(2)*(s_up+s_down))\n",
    "rho0 = psi0*psi0.dag()\n",
    "\n",
    "options = Options()\n",
    "options.nsteps = 10000\n",
    "output = mesolve(H, psi0, t, c_ops, rho0, options=options, args=pulse_args)\n",
    "\n",
    "plt.plot(t, pulse_T1(t, pulse_args), '-r')\n",
    "plt.plot(t, output.expect[0], '-b')\n",
    "plt.show()"
   ]
  },
  {
   "cell_type": "code",
   "execution_count": 9,
   "metadata": {},
   "outputs": [],
   "source": [
    "#Magnetic field unit vector\n",
    "e_B_ext = np.array([[1],[1],[0]])\n",
    "e_B_ext = e_B_ext/np.linalg.norm(e_B_ext)\n",
    "Bs = np.linspace(0,7,100)\n",
    "\n",
    "energies = np.zeros((N, len(Bs)))\n",
    "for i, B in enumerate(Bs):\n",
    "\n",
    "    #Zeeman coupling with quenching factor of f=0.1\n",
    "    f = 0.1\n",
    "    gamma_S = 2*mu_B/h\n",
    "    gamma_L = mu_B/h\n",
    "    \n",
    "    B_ext = e_B_ext*B\n",
    "    \n",
    "    #Rotate into SiV internal coordinate system defined by applying (R_y*R_z)^-1\n",
    "    B_x = np.squeeze(R_int_ext @ B_ext)[0]\n",
    "    B_y = np.squeeze(R_int_ext @ B_ext)[1]\n",
    "    B_z = np.squeeze(R_int_ext @ B_ext)[2]\n",
    "        \n",
    "    HZL = f*gamma_L*B_z*tensor((L_z_g+L_z_e),qeye(N_spins))    \n",
    "    HZS = gamma_S*tensor(qeye(N_orbs),(B_x*S_x+B_y*S_y+B_z*S_z))\n",
    "        \n",
    "    energies[:,i] = (HOrb+HSO+HZL+HZS+HJT+HStr).eigenenergies()"
   ]
  },
  {
   "cell_type": "code",
   "execution_count": null,
   "metadata": {},
   "outputs": [],
   "source": [
    "labels = [\n",
    "    '|e_g_x, 🠕>',\n",
    "    '|e_g_x, 🠗>',\n",
    "    '|e_g_y, 🠕>',\n",
    "    '|e_g_y, 🠗>',\n",
    "    '|e_u_x, 🠕>',\n",
    "    '|e_u_x, 🠗>',\n",
    "    '|e_u_y, 🠕>',\n",
    "    '|e_u_y, 🠗>']\n",
    "colors = [\n",
    "    'k',\n",
    "    'k',\n",
    "    'r',\n",
    "    'r',\n",
    "    'b',\n",
    "    'b',\n",
    "    'y',\n",
    "    'y'\n",
    "]\n",
    "styles = [\n",
    "    '-',\n",
    "    '-.',\n",
    "    '-',\n",
    "    '-.',\n",
    "    '-',\n",
    "    '-.',\n",
    "    '-',\n",
    "    '-.',\n",
    "]\n",
    "\n",
    "fig, axs = plt.subplots(3,1,True)\n",
    "for i, energy in enumerate(energies):\n",
    "    if i<4:\n",
    "        axs[1].plot(Bs, energy, linestyle=styles[i], label=labels[i], color=colors[i])\n",
    "    else:\n",
    "        axs[0].plot(Bs, energy-1.68*e/h, linestyle=styles[i], label=labels[i], color=colors[i])\n",
    "    \n",
    "axs[0].legend()\n",
    "axs[1].legend()\n",
    "plt.show()"
   ]
  },
  {
   "cell_type": "code",
   "execution_count": null,
   "metadata": {},
   "outputs": [],
   "source": [
    "#Fluorescence spectrum\n",
    "tlist = np.linspace(0, 0.5e-6, 5000)\n",
    "corr = correlation_2op_1t(H, None, tlist, c_ops, tensor(e_u_y*e_u_x.dag(),qeye(N_spins)), tensor(e_u_x*e_u_y.dag(),qeye(N_spins)))\n",
    "wlist1, spec1 = spectrum_correlation_fft(tlist, corr)\n",
    "\n",
    "fig, ax = plt.subplots(1, 1)\n",
    "ax.plot(wlist1 / (2 * np.pi), spec1, 'b', lw=1, label='eseries method')\n",
    "plt.show()\n"
   ]
  },
  {
   "cell_type": "code",
   "execution_count": null,
   "metadata": {},
   "outputs": [],
   "source": []
  }
 ]
}