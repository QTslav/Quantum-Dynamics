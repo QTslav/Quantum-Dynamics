{
 "cells": [
  {
   "cell_type": "code",
   "execution_count": 1,
   "metadata": {},
   "outputs": [],
   "source": [
    "import numpy as np\n",
    "from numpy import pi as pi\n",
    "from qutip import *\n",
    "import matplotlib.pyplot as plt"
   ]
  },
  {
   "cell_type": "code",
   "execution_count": 281,
   "metadata": {},
   "outputs": [],
   "source": [
    "Nph = 10\n",
    "w_m = 50\n",
    "chi_m = 1\n",
    "\n",
    "def coupling_density(w):\n",
    "    h = 6.626e-34\n",
    "    hbar = h/(2*pi)\n",
    "    kB = 1.38e-23\n",
    "\n",
    "    g1 = 2*pi\n",
    "    g2 = 2*pi\n",
    "    E = 1050e9\n",
    "    v = 0.2\n",
    "    T = 4     \n",
    "    rho = 3515\n",
    "\n",
    "    mu = E/(2*(1+v))\n",
    "    lbd = E*v/((1+v)*(1-2*v))\n",
    "\n",
    "    vt = np.sqrt(mu/rho)\n",
    "    vl = np.sqrt((lbd+2*mu)/rho)\n",
    "\n",
    "    w = w*1e9/(2*pi)\n",
    "    return (g1**2 + g2**2) * 1/(pi*rho) * (1/(5*vt**5) + 2/(15*vl**5))*w**3 *1e-9"
   ]
  },
  {
   "cell_type": "code",
   "execution_count": 282,
   "metadata": {},
   "outputs": [],
   "source": [
    "lx = basis(2,0)\n",
    "ly = basis(2,1)\n",
    "Lup = lx*ly.dag()\n",
    "Ldown = Lup.trans()\n",
    "Lx = Lup + Ldown\n",
    "Ly = -1j*Lup + 1j*Ldown\n",
    "Lz = lx*lx.dag() - ly*ly.dag()\n",
    "lp = Ly.eigenstates()[1][1]\n",
    "lm = Ly.eigenstates()[1][0]\n",
    "\n",
    "su = basis(2,0)\n",
    "sd = basis(2,1)\n",
    "Sup = su*sd.dag()\n",
    "Sdown = Sup.trans()\n",
    "Sx = Sup + Sdown\n",
    "Sy = -1j*Sup + 1j*Sdown\n",
    "Sz = su*su.dag() - sd*sd.dag()\n",
    "\n",
    "T1 = 1\n",
    "Gamma_ph = 1/(2*np.pi*T1)"
   ]
  },
  {
   "cell_type": "code",
   "execution_count": 357,
   "metadata": {},
   "outputs": [
    {
     "name": "stdout",
     "output_type": "stream",
     "text": [
      "{0.0, 50.249378105604414}\n",
      "50.249378105604414\n"
     ]
    },
    {
     "data": {
      "image/png": "[encoded data removed]",
      "text/plain": [
       "<Figure size 432x288 with 4 Axes>"
      ]
     },
     "metadata": {
      "needs_background": "light"
     },
     "output_type": "display_data"
    }
   ],
   "source": [
    "SO = 50\n",
    "HSO = SO/2 * tensor(Ly, Sz)\n",
    "\n",
    "Omega = 0\n",
    "w_rf = 5 if Omega else 0\n",
    "Hint = tensor(qeye(2),-w_rf*Sz + Omega*Sx)\n",
    "\n",
    "muB = 28\n",
    "Bx = 5/muB\n",
    "Bz = 0/muB\n",
    "Hmag = tensor(qeye(2), muB/2*(Bx*Sx + Bz*Sz ))\n",
    "\n",
    "alpha = 0\n",
    "beta = 0\n",
    "gamma = 0\n",
    "Hstrain = tensor(alpha*Lx + beta*Ly + gamma*Lz, qeye(2))\n",
    "\n",
    "H0 = Hmag + Hstrain + HSO # + mu_B*B*tensor(qeye(2),Sz)\n",
    "\n",
    "def spectrum(w):\n",
    "  if w == 0.0: # dephasing inducing noise\n",
    "    return np.sqrt(1/(40*2*pi))\n",
    "  else: # relaxation inducing noise\n",
    "    return np.sqrt(1/(40*2*pi))/2* w * (w > 0.0)\n",
    "\n",
    "t = np.linspace(0,1000,500)\n",
    "eigs, eigsts = (H0).eigenstates()\n",
    "\n",
    "transition_energies = []\n",
    "for i in range(len(eigs)):\n",
    "  for j in range(len(eigs)):\n",
    "    if j != i:\n",
    "      transition_energies.append(eigs[j]-eigs[i])\n",
    "print(set(np.abs(transition_energies)))\n",
    "print(max(np.abs(transition_energies)))\n",
    "\n",
    "e_ops = []\n",
    "for eigst in eigsts:\n",
    "  e_ops.append(eigst*eigst.dag())\n",
    "\n",
    "rho0 = eigsts[0]*eigsts[0].dag()\n",
    "a_ops = [tensor(Lx, qeye(2))]\n",
    "c_ops = [\n",
    "  np.sqrt(1/(40*2*pi))*tensor(Lx,qeye(2))\n",
    "  #np.sqrt(1/(500*2*pi))*tensor(qeye(2),Sx)\n",
    "]\n",
    "# res = brmesolve(H0+Hint, rho0, t, a_ops=[tensor(Ldown + Lup,qeye(2))], e_ops=e_ops, spectra_cb=[spectrum])\n",
    "res = mesolve(H0+Hint, rho0, t, e_ops=e_ops, c_ops=c_ops)\n",
    "\n",
    "fig, axs = plt.subplots(len(res.expect),1)\n",
    "for i, exp in enumerate(res.expect):\n",
    "  axs[i].plot(t, exp, alpha=0.5, label=i)\n",
    "plt.tight_layout()"
   ]
  },
  {
   "cell_type": "code",
   "execution_count": 360,
   "metadata": {},
   "outputs": [
    {
     "data": {
      "text/latex": [
       "Quantum object: dims = [[1], [1]], shape = (1, 1), type = bra\\begin{equation*}\\left(\\begin{array}{*{11}c}0.100\\\\\\end{array}\\right)\\end{equation*}"
      ],
      "text/plain": [
       "Quantum object: dims = [[1], [1]], shape = (1, 1), type = bra\n",
       "Qobj data =\n",
       "[[0.09950372]]"
      ]
     },
     "execution_count": 360,
     "metadata": {},
     "output_type": "execute_result"
    }
   ],
   "source": [
    "H0.eigenstates()[1][1].dag() * tensor(Lx,qeye(2)) * H0.eigenstates()[1][0]"
   ]
  },
  {
   "cell_type": "code",
   "execution_count": null,
   "metadata": {},
   "outputs": [],
   "source": []
  }
 ],
 "metadata": {
  "interpreter": {
   "hash": "4a0cdf5044e235b24d1fc042fb09c724f9ff16da5a82a5cb2270a9975034c9c0"
  },
  "kernelspec": {
   "display_name": "Python 3.9.2 64-bit",
   "language": "python",
   "name": "python3"
  },
  "language_info": {
   "codemirror_mode": {
    "name": "ipython",
    "version": 3
   },
   "file_extension": ".py",
   "mimetype": "text/x-python",
   "name": "python",
   "nbconvert_exporter": "python",
   "pygments_lexer": "ipython3",
   "version": "3.6.5"
  },
  "orig_nbformat": 4
 },
 "nbformat": 4,
 "nbformat_minor": 2
}
