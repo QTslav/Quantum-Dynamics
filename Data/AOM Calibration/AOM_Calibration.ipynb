{
 "cells": [
  {
   "cell_type": "markdown",
   "metadata": {},
   "source": [
    "## AOM Power Calibration"
   ]
  },
  {
   "cell_type": "code",
   "execution_count": 1,
   "metadata": {},
   "outputs": [],
   "source": [
    "from qutip import *\n",
    "\n",
    "import numpy as np\n",
    "from numpy import pi as pi\n",
    "from numpy import exp as exp\n",
    "from numpy import sqrt as sqrt\n",
    "\n",
    "import matplotlib as mpl\n",
    "import matplotlib.pyplot as plt\n",
    "\n",
    "plt.rcParams['figure.figsize'] = (20,10)\n",
    "plt.rcParams['font.size'] = 12\n",
    "from scipy.optimize import curve_fit as cf"
   ]
  },
  {
   "cell_type": "code",
   "execution_count": 59,
   "metadata": {},
   "outputs": [
    {
     "data": {
      "text/plain": [
       "[<matplotlib.lines.Line2D at 0x1b94649d210>]"
      ]
     },
     "execution_count": 59,
     "metadata": {},
     "output_type": "execute_result"
    },
    {
     "data": {
      "image/png": "[encoded data removed]",
      "text/plain": [
       "<Figure size 432x288 with 1 Axes>"
      ]
     },
     "metadata": {
      "needs_background": "light"
     },
     "output_type": "display_data"
    }
   ],
   "source": [
    "data = np.genfromtxt(\"aom_power.txt\")\n",
    "\n",
    "setpoint, power = data[:,0], data[:,1]\n",
    "x_fit, y_fit = setpoint[4:10], power[4:10]\n",
    "y_fit /= np.amax(y_fit)\n",
    "fit_func = lambda x, a, m, b, c: a*exp(b*x) + m*x + c\n",
    "bounds = [(0,0,0), (1,1,1)]\n",
    "popt, pcov = cf(fit_func, x_fit, y_fit)\n",
    "plt.plot(x_fit, y_fit)\n",
    "plt.plot(x_fit, fit_func(x_fit, *popt), 'or')"
   ]
  },
  {
   "cell_type": "markdown",
   "metadata": {},
   "source": [
    "# Fit Function and Parameters\n",
    "$a\\,x^m + b\\,\\mathrm{e} ^x + c$ with a, m, b, c"
   ]
  },
  {
   "cell_type": "code",
   "execution_count": 60,
   "metadata": {},
   "outputs": [
    {
     "data": {
      "text/plain": [
       "array([ 5.02378295e-03, -6.43416508e+00,  1.42366521e+01,  1.60459922e+00])"
      ]
     },
     "execution_count": 60,
     "metadata": {},
     "output_type": "execute_result"
    }
   ],
   "source": [
    "popt"
   ]
  }
 ],
 "metadata": {
  "kernelspec": {
   "display_name": "Python 3 (ipykernel)",
   "language": "python",
   "name": "python3"
  },
  "language_info": {
   "codemirror_mode": {
    "name": "ipython",
    "version": 3
   },
   "file_extension": ".py",
   "mimetype": "text/x-python",
   "name": "python",
   "nbconvert_exporter": "python",
   "pygments_lexer": "ipython3",
   "version": "3.10.5"
  }
 },
 "nbformat": 4,
 "nbformat_minor": 2
}
