{
 "cells": [
  {
   "cell_type": "code",
   "execution_count": 2,
   "metadata": {},
   "outputs": [],
   "source": [
    "from qutip import *\n",
    "\n",
    "import numpy as np\n",
    "from numpy import pi as pi\n",
    "from numpy import exp as exp\n",
    "from numpy import sqrt as sqrt\n",
    "\n",
    "import matplotlib as mpl\n",
    "import matplotlib.pyplot as plt\n",
    "\n",
    "plt.rcParams['figure.figsize'] = (20,10)\n",
    "plt.rcParams['font.size'] = 12\n",
    "from scipy.optimize import curve_fit as cf"
   ]
  },
  {
   "cell_type": "code",
   "execution_count": 3,
   "metadata": {},
   "outputs": [],
   "source": [
    "def boltzmann(gs, T):\n",
    "    return np.exp(-6.26e-34*gs*1e9/(1.38e-23*T))\n",
    "\n",
    "def sigmoid(t, risetime, t0):\n",
    "    a = risetime/(2*4.4)\n",
    "    return 1/(np.exp(-(t-t0)/a)+1)\n",
    "\n",
    "def pulse_sig(t, t0, width, risetime=1):\n",
    "    return np.where(t<width/2+t0, sigmoid(t,risetime,t0),1-sigmoid(t,risetime,t0+width)).astype(float)\n",
    "\n",
    "def pulse_rect(t, t0, width):\n",
    "    return np.where( (t0<t) & (t<(width+t0)), 1.0, 0.0).astype(float)"
   ]
  },
  {
   "cell_type": "code",
   "execution_count": null,
   "metadata": {},
   "outputs": [],
   "source": []
  },
  {
   "cell_type": "code",
   "execution_count": 4,
   "metadata": {},
   "outputs": [],
   "source": [
    "g1 = basis(6,0)\n",
    "g2 = basis(6,1)\n",
    "m1 = basis(6,2)\n",
    "m2 = basis(6,3)\n",
    "e1 = basis(6,4)\n",
    "e2 = basis(6,5)\n",
    "\n",
    "def initialize_collapses(gs, T, eta_spin, eta_opt, T1_opt, T1_spin):\n",
    "    # 40ns is measured @5K and 46GHz ground-state splitting\n",
    "    T1_orb = (46/gs)**3*40\n",
    "    \n",
    "    Gamma1_opt = 1/(2*pi*T1_opt)\n",
    "    Gamma1_spin = 1/(2*pi*T1_spin)\n",
    "    Gamma1_orb = 1/(1+boltzmann(gs,T))*1/(2*pi*T1_orb)\n",
    "    \n",
    "    Gamma1_orb_em = Gamma1_orb\n",
    "    Gamma1_orb_abs = boltzmann(gs, T) * Gamma1_orb_em\n",
    "    c_ops = [\n",
    "    sqrt(Gamma1_opt)*(g1 + 1/eta_spin*g2 + 1/eta_opt*(1/eta_spin*m1 + m2))*e2.dag(),\n",
    "    sqrt(Gamma1_opt)*(g1 + 1/eta_spin*g2 + 1/eta_opt*(m1 + 1/eta_spin*m2))*e1.dag(),\n",
    "    (sqrt(Gamma1_orb_em) * g1 + sqrt(Gamma1_spin)*m2)*m1.dag(),\n",
    "    (sqrt(Gamma1_orb_em) * g2 + sqrt(Gamma1_spin)*m1)*m2.dag(),\n",
    "    (sqrt(Gamma1_orb_abs) * m1 + sqrt(Gamma1_spin)*g2)*g1.dag(),\n",
    "    (sqrt(Gamma1_orb_abs) * m2 + sqrt(Gamma1_spin)*g1)*g2.dag()\n",
    "    ]\n",
    "    return c_ops"
   ]
  },
  {
   "cell_type": "code",
   "execution_count": null,
   "metadata": {},
   "outputs": [],
   "source": []
  }
 ],
 "metadata": {
  "kernelspec": {
   "display_name": "Python 3 (ipykernel)",
   "language": "python",
   "name": "python3"
  },
  "language_info": {
   "codemirror_mode": {
    "name": "ipython",
    "version": 3
   },
   "file_extension": ".py",
   "mimetype": "text/x-python",
   "name": "python",
   "nbconvert_exporter": "python",
   "pygments_lexer": "ipython3",
   "version": "3.10.5"
  }
 },
 "nbformat": 4,
 "nbformat_minor": 2
}
