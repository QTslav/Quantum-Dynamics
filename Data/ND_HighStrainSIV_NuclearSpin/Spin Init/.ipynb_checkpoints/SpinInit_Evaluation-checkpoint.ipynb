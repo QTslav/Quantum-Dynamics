{
 "cells": [
  {
   "cell_type": "code",
   "execution_count": 4,
   "metadata": {},
   "outputs": [],
   "source": [
    "from qutip import *\n",
    "\n",
    "import numpy as np\n",
    "from numpy import pi as pi\n",
    "from numpy import exp as exp\n",
    "from numpy import sqrt as sqrt\n",
    "\n",
    "import matplotlib.pyplot as plt\n",
    "plt.rcParams['figure.figsize'] = (20,10)\n",
    "\n",
    "from scipy.optimize import curve_fit as cf"
   ]
  },
  {
   "cell_type": "code",
   "execution_count": 5,
   "metadata": {},
   "outputs": [],
   "source": [
    "c0 = 299792458\n",
    "\n",
    "def boltzmann(gs, T):\n",
    "    return np.exp(-6.26e-34*gs*1e9/(1.38e-23*T))\n",
    "\n",
    "def sigmoid(t, risetime, t0):\n",
    "    a = risetime/(2*4.4)\n",
    "    return 1/(np.exp(-(t-t0)/a)+1)\n",
    "\n",
    "def pulse_sig(t, t0, width, risetime=1):\n",
    "    return np.where(t<width/2+t0, sigmoid(t,risetime,t0),1-sigmoid(t,risetime,t0+width)).astype(float)\n",
    "\n",
    "def pulse_rect(t, t0, width):\n",
    "    return np.where( (t0<t) & (t<(width+t0)), 1.0, 0.0).astype(float)\n",
    "\n",
    "def seqC3(t, args): \n",
    "    tstart = args['tstart']\n",
    "    pulsewidth = args['pulsewidth']\n",
    "    return np.where(t<pulsewidth/2+tstart, sigmoid(t,0.86,4+tstart),1-sigmoid(t,0.86,pulsewidth+2+tstart))\n",
    "\n",
    "def bin_data(xs, ys, res):\n",
    "    xs_binned = np.zeros(int(xs.size//res))\n",
    "    ys_binned = np.zeros_like(xs_binned)\n",
    "    \n",
    "    for i in range(int(xs.size//res)-1):\n",
    "        xs_binned[i] = np.mean(xs[res*i:res*i+1])\n",
    "        ys_binned[i] = np.mean(ys[res*i:res*i+1])\n",
    "    \n",
    "    xs_binned[-1] = np.mean(xs[-int(xs.size%res):-1])\n",
    "    ys_binned[-1] = np.mean(ys[-int(xs.size%res):-1])\n",
    "    \n",
    "    return xs_binned, ys_binned"
   ]
  },
  {
   "cell_type": "code",
   "execution_count": 14,
   "metadata": {},
   "outputs": [],
   "source": [
    "g1 = basis(6,0)\n",
    "g2 = basis(6,1)\n",
    "m1 = basis(6,2)\n",
    "m2 = basis(6,3)\n",
    "e1 = basis(6,4)\n",
    "e2 = basis(6,5)\n",
    "\n",
    "def initialize_collapses(gs, T, eta_spin, eta_opt, T1_opt, T1_spin):\n",
    "    Gamma1_opt = 1/(2*pi*T1_opt)\n",
    "    Gamma1_spin = 1/(2*pi*T1_spin)\n",
    "    Gamma1_orb = 1/(1+boltzmann(gs,T))*1/(2*pi*T1_orb)\n",
    "    Gamma1_orb_em = Gamma1_orb\n",
    "    Gamma1_orb_abs = boltzmann(gs, T) * Gamma1_orb_em\n",
    "    c_ops = [\n",
    "    sqrt(Gamma1_opt)*(g1 + 1/eta_spin*g2 + 1/eta_opt*(1/eta_spin*m1 + m2))*e2.dag(),\n",
    "    sqrt(Gamma1_opt)*(g1 + 1/eta_spin*g2 + 1/eta_opt*(m1 + 1/eta_spin*m2))*e1.dag(),\n",
    "    (sqrt(Gamma1_orb_em) * g1 + sqrt(Gamma1_spin)*m2)*m1.dag(),\n",
    "    (sqrt(Gamma1_orb_em) * g2 + sqrt(Gamma1_spin)*m1)*m2.dag(),\n",
    "    (sqrt(Gamma1_orb_abs) * m1 + sqrt(Gamma1_spin)*g2)*g1.dag(),\n",
    "    (sqrt(Gamma1_orb_abs) * m2 + sqrt(Gamma1_spin)*g1)*g2.dag()\n",
    "    ]\n",
    "    return c_ops"
   ]
  },
  {
   "cell_type": "code",
   "execution_count": 13,
   "metadata": {},
   "outputs": [],
   "source": [
    "ts = np.arange(0, 300, 1)\n",
    "Omegas = np.arange(0.1, 5, 0.3) * Gamma1_opt\n",
    "etas_spin = np.arange(1, 10, 1)\n",
    "\n",
    "init_pop = np.zeros((len(Omegas), len(ts)))\n",
    "Gammas_init = np.zeros_like(len(Omegas), len(etas_spin))\n",
    "\n",
    "for i, Omega in enumerate(Omegas):\n",
    "    for j, eta_spin in enumerate(etas_spin):\n",
    "\n",
    "        Hinit = Omega/2 * (g2*e2.dag() + e2*g2.dag())\n",
    "        c_ops = initialize_collapses(gs, T, eta_spin, eta_opt, )\n",
    "        e_ops = [e1*e1.dag(), e2*e2.dag()]\n",
    "        exps = mesolve(Hinit, rho0, ts, e_ops=e_ops, c_ops=c_ops).expect\n",
    "        pop = exps[0] + exps[1]\n",
    "        init_pop[i]  = pop\n",
    "        exp_decay = lambda x, A, Gamma, c: A*np.exp(-Gamma*x) + c    \n",
    "        \n",
    "        x, y = ts[np.argmax(pop):]-ts[np.argmax(pop)], init_pop[i][np.argmax(pop):]\n",
    "        popt, pcov = cf(exp_decay, \n",
    "                        x, y, \n",
    "                        p0=(np.amax(y), 1/100, np.amin(y)))\n",
    "        Gammas_init[i] = popt[1]\n",
    "\n",
    "    #     plt.plot(ts[np.argmax(pop):]-ts[np.argmax(pop)], init_pop[i][np.argmax(pop):])\n",
    "    #     plt.plot(x, exp_decay(x, *popt))\n",
    "    #     plt.show()"
   ]
  },
  {
   "cell_type": "code",
   "execution_count": null,
   "metadata": {},
   "outputs": [],
   "source": [
    "plt.plot(2*Omegas**2/Gamma1_opt, Gamma_init)"
   ]
  }
 ],
 "metadata": {
  "kernelspec": {
   "display_name": "Python 3 (ipykernel)",
   "language": "python",
   "name": "python3"
  },
  "language_info": {
   "codemirror_mode": {
    "name": "ipython",
    "version": 3
   },
   "file_extension": ".py",
   "mimetype": "text/x-python",
   "name": "python",
   "nbconvert_exporter": "python",
   "pygments_lexer": "ipython3",
   "version": "3.10.5"
  }
 },
 "nbformat": 4,
 "nbformat_minor": 2
}
