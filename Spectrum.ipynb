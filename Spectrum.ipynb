{
 "cells": [
  {
   "cell_type": "code",
   "execution_count": 1,
   "metadata": {},
   "outputs": [],
   "source": [
    "import numpy as np\n",
    "from qutip import *\n",
    "from matplotlib import pyplot as plt"
   ]
  },
  {
   "cell_type": "code",
   "execution_count": 2,
   "metadata": {},
   "outputs": [],
   "source": [
    "# Constants\n",
    "h = 6.602e-34\n",
    "hbar = h/(2*np.pi)\n",
    "kB = 1.38e-23\n",
    "eps_0 = 8.85e-12\n",
    "c_0 = 299792458\n",
    "e = 1.602e-19\n",
    "m_e = 9.109e-31\n",
    "a_0 = 0.53e-10\n",
    "mu_B = e*hbar/(2*m_e)\n",
    "T = 5\n",
    "\n",
    "def boltzmann(E, T):\n",
    "    return np.exp(-h*E / (kB*T))"
   ]
  },
  {
   "cell_type": "code",
   "execution_count": 3,
   "metadata": {},
   "outputs": [],
   "source": [
    "N_orbs = 4 \n",
    "egx = basis(N_orbs, 0)\n",
    "egy = basis(N_orbs, 1)\n",
    "sgx = egx*egy.dag() + egy*egx.dag()\n",
    "sgy = -1j*egx*egy.dag() + 1j*egy*egx.dag()\n",
    "sgz = egx*egx.dag() - egy*egy.dag()\n",
    "\n",
    "eux = basis(N_orbs, 2)\n",
    "euy = basis(N_orbs, 3)\n",
    "sux = eux*euy.dag() + euy*eux.dag()\n",
    "suy = -1j*eux*euy.dag() + 1j*euy*eux.dag()\n",
    "suz = eux*eux.dag() - euy*euy.dag()\n",
    "\n",
    "N_spins = 2\n",
    "su = basis(N_spins,0)\n",
    "sd = basis(N_spins,1)\n",
    "Sz = su*su.dag() - sd*sd.dag()\n",
    "N = N_orbs*N_spins"
   ]
  },
  {
   "cell_type": "code",
   "execution_count": 4,
   "metadata": {},
   "outputs": [],
   "source": [
    "'''System Dynamics:\n",
    "Orbital part comprising Spin-Orbit, Jahn Teller, Zeeman and Strain couplin\n",
    "'''\n",
    "nu_Orb = 407e3\n",
    "HOrb = Qobj(np.zeros((N_orbs, N_orbs)))\n",
    "HOrb += nu_Orb*(eux*eux.dag()+euy*euy.dag())\n",
    "HOrb = tensor(HOrb, qeye(N_spins))"
   ]
  },
  {
   "cell_type": "code",
   "execution_count": 5,
   "metadata": {},
   "outputs": [],
   "source": [
    "#Spin-Orbit coupling\n",
    "SO_g = 46\n",
    "SO_e = 250\n",
    "HSO = -SO_g/2*tensor(sgy, su*su.dag() - sd*sd.dag()) \n",
    "HSO+= -SO_e/2*tensor(suy, su*su.dag() - sd*sd.dag()) "
   ]
  },
  {
   "cell_type": "code",
   "execution_count": 6,
   "metadata": {},
   "outputs": [],
   "source": [
    "#Static strain coupling\n",
    "delta_g = 0\n",
    "alpha_g = 0\n",
    "beta_g = 0\n",
    "HStr_g = (delta_g+alpha_g)*egx*egx.dag()\n",
    "HStr_g += beta_g*egx*egy.dag()\n",
    "HStr_g += beta_g*egy*egx.dag()\n",
    "HStr_g += (delta_g-alpha_g)*egy*egy.dag()\n",
    "\n",
    "delta_e = 0\n",
    "alpha_e = 0\n",
    "beta_e = 0\n",
    "HStr_e = (delta_e+alpha_e)*eux*eux.dag()\n",
    "HStr_e += beta_e*eux*euy.dag()\n",
    "HStr_e += beta_e*euy*eux.dag()\n",
    "HStr_e += (delta_e-alpha_e)*euy*euy.dag()\n",
    "\n",
    "HStr = HStr_g + HStr_e\n",
    "HStr = tensor(HStr, qeye(N_spins))"
   ]
  },
  {
   "cell_type": "code",
   "execution_count": 7,
   "metadata": {},
   "outputs": [],
   "source": [
    "T1opt = 1.74\n",
    "T1orb_e = 200e-3\n",
    "T1orb_g = 40\n",
    "T1spin = 1000\n",
    "\n",
    "egp = egx+1j*egy\n",
    "egp = egp/egp.norm()\n",
    "\n",
    "egm = -1j*(egx-1j*egy)\n",
    "egm = egm/egm.norm()\n",
    "\n",
    "eup = eux+1j*euy\n",
    "eup = eup/eup.norm()\n",
    "\n",
    "eum = -1j*(eux-1j*euy)\n",
    "eum = eum/eum.norm()\n",
    "\n",
    "c_ops = []\n",
    "\n",
    "# Neglect optical excitation from the environment --> only photon emission stimulated by photon bath @5K\n",
    "# Assume all optical relaxations to be equally fast\n",
    "c_ops.append(np.sqrt(1/(2*np.pi*T1opt))*tensor(egp*eup.dag(), qeye(N_spins)))\n",
    "c_ops.append(np.sqrt(1/(2*np.pi*T1opt))*tensor(egm*eum.dag(), qeye(N_spins)))\n",
    "c_ops.append(np.sqrt(1/4*1/(2*np.pi*T1opt))*tensor((1-1j)*egp*eum.dag(), qeye(N_spins)))\n",
    "c_ops.append(np.sqrt(1/4*1/(2*np.pi*T1opt))*tensor((1+1j)*egm*eup.dag(), qeye(N_spins)))\n",
    "\n",
    "# Spin decay\n",
    "c_ops.append( tensor( qeye(N_orbs), np.sqrt(1/(2*np.pi*T1spin))*sd*su.dag() ) )\n",
    "c_ops.append( tensor( qeye(N_orbs), np.sqrt(1/(2*np.pi*T1spin)*boltzmann(0, T))*su*sd.dag() ) )\n",
    "\n",
    "# Orbital decay in the groundstate manifold\n",
    "c_ops.append(np.sqrt(1/(T1orb_g))*tensor(egm*egp.dag(), sd*sd.dag())) \n",
    "c_ops.append(np.sqrt(1/(T1orb_g)*boltzmann(SO_g, T))*tensor(egp*egm.dag(), sd*sd.dag())) \n",
    "c_ops.append(np.sqrt(1/(T1orb_g))*tensor(egp*egm.dag(), su*su.dag())) \n",
    "c_ops.append(np.sqrt(1/(T1orb_g)*boltzmann(SO_g, T))*tensor(egm*egp.dag(), su*su.dag())) \n",
    "\n",
    "# Orbital decay in the excited manifold\n",
    "c_ops.append(np.sqrt(1/(T1orb_e))*tensor(eum*eup.dag(), sd*sd.dag())) \n",
    "c_ops.append(np.sqrt(1/(T1orb_e)*boltzmann(SO_e, T))*tensor(eup*eum.dag(), sd*sd.dag())) \n",
    "c_ops.append(np.sqrt(1/(T1orb_e))*tensor(eup*eum.dag(), su*su.dag())) \n",
    "c_ops.append(np.sqrt(1/(T1orb_e)*boltzmann(SO_e, T))*tensor(eum*eup.dag(), su*su.dag())) "
   ]
  },
  {
   "cell_type": "code",
   "execution_count": 9,
   "metadata": {},
   "outputs": [
    {
     "ename": "AxisError",
     "evalue": "axis 2 is out of bounds for array of dimension 2",
     "output_type": "error",
     "traceback": [
      "\u001b[1;31m---------------------------------------------------------------------------\u001b[0m",
      "\u001b[1;31mAxisError\u001b[0m                                 Traceback (most recent call last)",
      "\u001b[1;32m<ipython-input-9-01eed323eace>\u001b[0m in \u001b[0;36m<module>\u001b[1;34m\u001b[0m\n\u001b[0;32m     20\u001b[0m         \u001b[0mspectr_\u001b[0m \u001b[1;33m=\u001b[0m \u001b[0mnp\u001b[0m\u001b[1;33m.\u001b[0m\u001b[0mabs\u001b[0m\u001b[1;33m(\u001b[0m\u001b[0mspectrum\u001b[0m\u001b[1;33m(\u001b[0m\u001b[0mHSys\u001b[0m\u001b[1;33m,\u001b[0m \u001b[1;33m-\u001b[0m\u001b[0mnus\u001b[0m\u001b[1;33m,\u001b[0m \u001b[0mc_ops\u001b[0m\u001b[1;33m,\u001b[0m \u001b[0mspectr_op\u001b[0m\u001b[1;33m,\u001b[0m \u001b[0mspectr_op\u001b[0m\u001b[1;33m.\u001b[0m\u001b[0mtrans\u001b[0m\u001b[1;33m(\u001b[0m\u001b[1;33m)\u001b[0m\u001b[1;33m)\u001b[0m\u001b[1;33m)\u001b[0m\u001b[1;33m\u001b[0m\u001b[0m\n\u001b[0;32m     21\u001b[0m         \u001b[0mspectr\u001b[0m\u001b[1;33m[\u001b[0m\u001b[0mi\u001b[0m\u001b[1;33m,\u001b[0m\u001b[1;33m:\u001b[0m\u001b[1;33m,\u001b[0m\u001b[0mj\u001b[0m\u001b[1;33m]\u001b[0m \u001b[1;33m+=\u001b[0m \u001b[0mspectr_\u001b[0m\u001b[1;33m/\u001b[0m\u001b[0mmax\u001b[0m\u001b[1;33m(\u001b[0m\u001b[0mspectr_\u001b[0m\u001b[1;33m)\u001b[0m\u001b[1;33m\u001b[0m\u001b[0m\n\u001b[1;32m---> 22\u001b[1;33m \u001b[0mplt\u001b[0m\u001b[1;33m.\u001b[0m\u001b[0mplot\u001b[0m\u001b[1;33m(\u001b[0m\u001b[0mnus\u001b[0m\u001b[1;33m,\u001b[0m \u001b[0mnp\u001b[0m\u001b[1;33m.\u001b[0m\u001b[0msum\u001b[0m\u001b[1;33m(\u001b[0m\u001b[0mspectr\u001b[0m\u001b[1;33m[\u001b[0m\u001b[1;36m0\u001b[0m\u001b[1;33m,\u001b[0m \u001b[1;33m:\u001b[0m\u001b[1;33m,\u001b[0m \u001b[1;33m:\u001b[0m\u001b[1;33m]\u001b[0m\u001b[1;33m,\u001b[0m \u001b[0maxis\u001b[0m\u001b[1;33m=\u001b[0m\u001b[1;36m2\u001b[0m\u001b[1;33m)\u001b[0m\u001b[1;33m)\u001b[0m\u001b[1;33m\u001b[0m\u001b[0m\n\u001b[0m",
      "\u001b[1;32mC:\\Program Files (x86)\\Python36\\lib\\site-packages\\numpy\\core\\fromnumeric.py\u001b[0m in \u001b[0;36msum\u001b[1;34m(a, axis, dtype, out, keepdims, initial)\u001b[0m\n\u001b[0;32m   1928\u001b[0m \u001b[1;33m\u001b[0m\u001b[0m\n\u001b[0;32m   1929\u001b[0m     return _wrapreduction(a, np.add, 'sum', axis, dtype, out, keepdims=keepdims,\n\u001b[1;32m-> 1930\u001b[1;33m                           initial=initial)\n\u001b[0m\u001b[0;32m   1931\u001b[0m \u001b[1;33m\u001b[0m\u001b[0m\n\u001b[0;32m   1932\u001b[0m \u001b[1;33m\u001b[0m\u001b[0m\n",
      "\u001b[1;32mC:\\Program Files (x86)\\Python36\\lib\\site-packages\\numpy\\core\\fromnumeric.py\u001b[0m in \u001b[0;36m_wrapreduction\u001b[1;34m(obj, ufunc, method, axis, dtype, out, **kwargs)\u001b[0m\n\u001b[0;32m     81\u001b[0m                 \u001b[1;32mreturn\u001b[0m \u001b[0mreduction\u001b[0m\u001b[1;33m(\u001b[0m\u001b[0maxis\u001b[0m\u001b[1;33m=\u001b[0m\u001b[0maxis\u001b[0m\u001b[1;33m,\u001b[0m \u001b[0mout\u001b[0m\u001b[1;33m=\u001b[0m\u001b[0mout\u001b[0m\u001b[1;33m,\u001b[0m \u001b[1;33m**\u001b[0m\u001b[0mpasskwargs\u001b[0m\u001b[1;33m)\u001b[0m\u001b[1;33m\u001b[0m\u001b[0m\n\u001b[0;32m     82\u001b[0m \u001b[1;33m\u001b[0m\u001b[0m\n\u001b[1;32m---> 83\u001b[1;33m     \u001b[1;32mreturn\u001b[0m \u001b[0mufunc\u001b[0m\u001b[1;33m.\u001b[0m\u001b[0mreduce\u001b[0m\u001b[1;33m(\u001b[0m\u001b[0mobj\u001b[0m\u001b[1;33m,\u001b[0m \u001b[0maxis\u001b[0m\u001b[1;33m,\u001b[0m \u001b[0mdtype\u001b[0m\u001b[1;33m,\u001b[0m \u001b[0mout\u001b[0m\u001b[1;33m,\u001b[0m \u001b[1;33m**\u001b[0m\u001b[0mpasskwargs\u001b[0m\u001b[1;33m)\u001b[0m\u001b[1;33m\u001b[0m\u001b[0m\n\u001b[0m\u001b[0;32m     84\u001b[0m \u001b[1;33m\u001b[0m\u001b[0m\n\u001b[0;32m     85\u001b[0m \u001b[1;33m\u001b[0m\u001b[0m\n",
      "\u001b[1;31mAxisError\u001b[0m: axis 2 is out of bounds for array of dimension 2"
     ]
    }
   ],
   "source": [
    "nus = np.arange(nu_Orb-2*(SO_e+SO_g), nu_Orb+2*(SO_e+SO_g), 0.1)\n",
    "spectr_ops = [\n",
    "    tensor(egp*eup.dag(), su*su.dag()),\n",
    "    tensor(egp*eup.dag(), sd*sd.dag()),\n",
    "    tensor(egm*eup.dag(), su*su.dag()),\n",
    "    tensor(egm*eup.dag(), sd*sd.dag()),\n",
    "    tensor(egp*eum.dag(), su*su.dag()),\n",
    "    tensor(egp*eum.dag(), sd*sd.dag()),\n",
    "    tensor(egm*eum.dag(), su*su.dag()),\n",
    "    tensor(egm*eum.dag(), sd*sd.dag())\n",
    "]\n",
    "\n",
    "q = 0\n",
    "Bs = np.linspace(1,10,5)\n",
    "spectr = np.zeros((len(Bs), len(nus), len(spectr_ops)))\n",
    "for i, B in enumerate(Bs):\n",
    "    # Note that Lz is defined with -sigma_y in the original basis of ex, ey meaning Lz = i|ex><ey| - i|ey><ex| = -sy\n",
    "    HSys = HOrb + HSO -q*mu_B/(2*h)*B*tensor(-sgy-suy, qeye(N_spins)) - mu_B*B/h*tensor(qeye(N_orbs), Sz)\n",
    "    for j, spectr_op in enumerate(spectr_ops):\n",
    "        spectr_ = np.abs(spectrum(HSys, -nus, c_ops, spectr_op, spectr_op.trans()))\n",
    "        spectr[i,:,j] += spectr_/max(spectr_)\n"
   ]
  },
  {
   "cell_type": "code",
   "execution_count": null,
   "metadata": {},
   "outputs": [],
   "source": [
    "plt.plot(nus, np.sum(spectr[0, :, :], axis=2))"
   ]
  },
  {
   "cell_type": "code",
   "execution_count": 149,
   "metadata": {},
   "outputs": [
    {
     "data": {
      "text/latex": [
       "Quantum object: dims = [[4, 2], [4, 2]], shape = (8, 8), type = oper, isherm = True\\begin{equation*}\\left(\\begin{array}{*{11}c}0.0 & 0.0 & 0.0 & 0.0 & 0.0 & 0.0 & 0.0 & 0.0\\\\0.0 & 0.0 & 0.0 & 0.0 & 0.0 & 0.0 & 0.0 & 0.0\\\\0.0 & 0.0 & 0.0 & 0.0 & 0.0 & 0.0 & 0.0 & 0.0\\\\0.0 & 0.0 & 0.0 & 0.0 & 0.0 & 0.0 & 0.0 & 0.0\\\\0.0 & 0.0 & 0.0 & 0.0 & 0.0 & 0.0 & 0.0 & 0.0\\\\0.0 & 0.0 & 0.0 & 0.0 & 0.0 & 0.0 & 0.0 & 0.0\\\\0.0 & 0.0 & 0.0 & 0.0 & 0.0 & 0.0 & 0.0 & 0.0\\\\0.0 & 0.0 & 0.0 & 0.0 & 0.0 & 0.0 & 0.0 & 0.0\\\\\\end{array}\\right)\\end{equation*}"
      ],
      "text/plain": [
       "Quantum object: dims = [[4, 2], [4, 2]], shape = (8, 8), type = oper, isherm = True\n",
       "Qobj data =\n",
       "[[0. 0. 0. 0. 0. 0. 0. 0.]\n",
       " [0. 0. 0. 0. 0. 0. 0. 0.]\n",
       " [0. 0. 0. 0. 0. 0. 0. 0.]\n",
       " [0. 0. 0. 0. 0. 0. 0. 0.]\n",
       " [0. 0. 0. 0. 0. 0. 0. 0.]\n",
       " [0. 0. 0. 0. 0. 0. 0. 0.]\n",
       " [0. 0. 0. 0. 0. 0. 0. 0.]\n",
       " [0. 0. 0. 0. 0. 0. 0. 0.]]"
      ]
     },
     "execution_count": 149,
     "metadata": {},
     "output_type": "execute_result"
    }
   ],
   "source": [
    "Hint = 1 * (2*egp*eup.dag() + 2*egm*eum.dag() + egp*eum.dag()*(1-1j) + egm*eup.dag()*(1+1j))\n",
    "Hint += Hint.trans()\n",
    "Hint = tensor(Hint, qeye(N_spins))\n",
    "\n",
    "energies, eigsts = HSys.eigenstates()\n",
    "Heig = Qobj()\n",
    "for energy, eigenstate in zip(energies, eigenstates):\n",
    "    Heig += energy*eigenstate*eigenstate.dag()\n",
    "Heig-Hint\n",
    "\n",
    "commutator(Hint, Hint)"
   ]
  },
  {
   "cell_type": "code",
   "execution_count": null,
   "metadata": {},
   "outputs": [],
   "source": []
  }
 ],
 "metadata": {
  "interpreter": {
   "hash": "8e78c18c4e15aecac233c1a73b5edbf5c0ccb85cf5ce941b4023cd5a9707fda7"
  },
  "kernelspec": {
   "display_name": "Python 3.6.5 64-bit",
   "name": "python3"
  },
  "language_info": {
   "codemirror_mode": {
    "name": "ipython",
    "version": 3
   },
   "file_extension": ".py",
   "mimetype": "text/x-python",
   "name": "python",
   "nbconvert_exporter": "python",
   "pygments_lexer": "ipython3",
   "version": "3.6.5"
  },
  "orig_nbformat": 4
 },
 "nbformat": 4,
 "nbformat_minor": 2
}
