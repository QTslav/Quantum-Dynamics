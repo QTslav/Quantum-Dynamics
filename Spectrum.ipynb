{
 "cells": [
  {
   "cell_type": "code",
   "execution_count": 1,
   "metadata": {},
   "outputs": [],
   "source": [
    "import numpy as np\n",
    "import qutip as q\n",
    "from matplotlib import pyplot as plt"
   ]
  },
  {
   "cell_type": "code",
   "execution_count": 9,
   "metadata": {},
   "outputs": [
    {
     "name": "stderr",
     "output_type": "stream",
     "text": [
      "C:\\Program Files (x86)\\Python36\\lib\\site-packages\\ipykernel_launcher.py:29: DeprecationWarning: object of type <class 'float'> cannot be safely interpreted as an integer.\n"
     ]
    },
    {
     "data": {
      "text/plain": [
       "[<matplotlib.lines.Line2D at 0x1b57fef8860>]"
      ]
     },
     "execution_count": 9,
     "metadata": {},
     "output_type": "execute_result"
    },
    {
     "data": {
      "image/png": "[encoded data removed]",
      "text/plain": [
       "<Figure size 432x288 with 1 Axes>"
      ]
     },
     "metadata": {
      "needs_background": "light"
     },
     "output_type": "display_data"
    }
   ],
   "source": [
    "a = q.basis(4,0)\n",
    "b = q.basis(4,1)\n",
    "c = q.basis(4,2)\n",
    "d = q.basis(4,3)\n",
    "\n",
    "gss = 46\n",
    "ess = 250\n",
    "c0 = 299792458\n",
    "nu0 = c0/736.91\n",
    "h = 6.626e-34\n",
    "kB = 1.38e-23\n",
    "T = 8\n",
    "boltzmann_g = np.exp(-h*gss/(kB*T))\n",
    "boltzmann_e = np.exp(-h*ess/(kB*T))\n",
    "\n",
    "HSys = gss*b*b.dag() + nu0*c*c.dag() + (nu0+ess)*d*d.dag()\n",
    "\n",
    "Gamma_pht = 1/(2*np.pi*1.7)\n",
    "Gamma_phn_g = 1/(2*np.pi*40)\n",
    "Gamma_phn_e = 1/(2*np.pi*1)\n",
    "\n",
    "Gamma_a = np.sqrt(Gamma_phn)*b*a.dag()\n",
    "Gamma_b = np.sqrt(Gamma_phn*boltzmann_g)*a*b.dag()\n",
    "Gamma_c = (np.sqrt(Gamma_pht)*(a+b) + np.sqrt(Gamma_phn_e*boltzmann_e)*d)*c.dag()\n",
    "Gamma_d = (np.sqrt(Gamma_pht)*(a+b) + np.sqrt(Gamma_phn_e)*c)*d.dag()\n",
    "\n",
    "c_ops = [Gamma_a, Gamma_b, Gamma_c, Gamma_d]\n",
    "\n",
    "nus = np.linspace(-c0/737, -c0/736.4, 1e3)\n",
    "\n",
    "A = a*d.dag()\n",
    "B = b*d.dag()\n",
    "C = a*c.dag()\n",
    "D = b*c.dag()\n",
    "\n",
    "spectr_A = q.spectrum(HSys, nus, c_ops, A, A.trans())\n",
    "plt.plot(nus, spectr_A, '-r')\n",
    "\n",
    "spectr_B = q.spectrum(HSys, nus, c_ops, B, B.trans())\n",
    "plt.plot(nus, spectr_B, '-k')\n",
    "\n",
    "spectr_C = q.spectrum(HSys, nus, c_ops, C, C.trans())\n",
    "plt.plot(nus, spectr_C, '-b')\n",
    "\n",
    "spectr_D = q.spectrum(HSys, nus, c_ops, D, D.trans())\n",
    "plt.plot(nus, spectr_D, '-g')"
   ]
  },
  {
   "cell_type": "code",
   "execution_count": 86,
   "metadata": {},
   "outputs": [
    {
     "data": {
      "text/plain": [
       "0.09362055475993844"
      ]
     },
     "execution_count": 86,
     "metadata": {},
     "output_type": "execute_result"
    }
   ],
   "source": [
    "np.mean(np.abs(np.diff(nus)))\n",
    "Gamma_pht"
   ]
  },
  {
   "cell_type": "code",
   "execution_count": null,
   "metadata": {},
   "outputs": [],
   "source": []
  }
 ],
 "metadata": {
  "interpreter": {
   "hash": "8e78c18c4e15aecac233c1a73b5edbf5c0ccb85cf5ce941b4023cd5a9707fda7"
  },
  "kernelspec": {
   "display_name": "Python 3.6.5 64-bit",
   "name": "python3"
  },
  "language_info": {
   "codemirror_mode": {
    "name": "ipython",
    "version": 3
   },
   "file_extension": ".py",
   "mimetype": "text/x-python",
   "name": "python",
   "nbconvert_exporter": "python",
   "pygments_lexer": "ipython3",
   "version": "3.6.5"
  },
  "orig_nbformat": 4
 },
 "nbformat": 4,
 "nbformat_minor": 2
}
