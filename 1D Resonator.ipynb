{
 "cells": [
  {
   "cell_type": "code",
   "execution_count": 1,
   "metadata": {},
   "outputs": [],
   "source": [
    "import matplotlib.pyplot as plt\n",
    "import numpy as np\n",
    "import math\n",
    "from matplotlib import cm\n",
    "\n",
    "def find_nearest(array, value):\n",
    "    idx = (np.abs(array - value)).argmin()\n",
    "    return idx"
   ]
  },
  {
   "cell_type": "code",
   "execution_count": 6,
   "metadata": {},
   "outputs": [],
   "source": [
    "def Reflectivity_S(theta_i,n_i,n_t):\n",
    "\tif n_t**2-(n_i*np.sin(theta_i))**2 >= 0:\n",
    "\t\tcos_theta_t = 1/n_t*np.sqrt(n_t**2-(n_i*np.sin(theta_i))**2)\n",
    "\telse:\n",
    "\t\tcos_theta_t = -1j*1/n_t*np.sqrt((n_i*np.sin(theta_i))**2-n_t**2)\n",
    "\n",
    "\treturn (n_i*np.cos(theta_i)-n_t*cos_theta_t)/(n_i*np.cos(theta_i)+n_t*cos_theta_t)\n",
    "\n",
    "def Reflectivity_P(theta_i,n_i,n_t):\n",
    "\tif n_t**2-(n_i*np.sin(theta_i))**2 >= 0:\n",
    "\t\tcos_theta_t = 1/n_t*np.sqrt(n_t**2-(n_i*np.sin(theta_i))**2)\n",
    "\telse:\n",
    "\t\tcos_theta_t = -1j*1/n_t*np.sqrt((n_i*np.sin(theta_i))**2-n_t**2)\n",
    "\treturn (n_i*cos_theta_t-n_t*np.cos(theta_i))/(n_i*cos_theta_t+n_t*np.cos(theta_i))\n",
    "\n",
    "def Transmission_S(theta_i,n_i,n_t):\n",
    "\tif n_t**2-(n_i*np.sin(theta_i))**2 >= 0:\n",
    "\t\tcos_theta_t = 1/n_t*np.sqrt(n_t**2-(n_i*np.sin(theta_i))**2)\n",
    "\telse:\n",
    "\t\tcos_theta_t = -1j*1/n_t*np.sqrt((n_i*np.sin(theta_i))**2-n_t**2)\n",
    "\treturn 2*n_i*np.cos(theta_i)/(n_i*np.cos(theta_i)+n_t*cos_theta_t)\n",
    "\n",
    "def Transmission_P(theta_i,n_i,n_t):\n",
    "\tif n_t**2-(n_i*np.sin(theta_i))**2 >= 0:\n",
    "\t\tcos_theta_t = 1/n_t*np.sqrt(n_t**2-(n_i*np.sin(theta_i))**2)\n",
    "\telse:\n",
    "\t\tcos_theta_t = -1j*1/n_t*np.sqrt((n_i*np.sin(theta_i))**2-n_t**2)\n",
    "\treturn 2*n_i*np.cos(theta_i)/(n_i*cos_theta_t+n_t*np.cos(theta_i))\n",
    "\n",
    "def Interface(theta_i,n_i,n_t,pol):\n",
    "\tif pol == 's':\t\t\n",
    "\t\treflection = [(1,Reflectivity_S(theta_i,n_i,n_t)),(Reflectivity_S(theta_i,n_i,n_t),1)]\n",
    "\t\treturn reflection/Transmission_S(theta_i,n_i,n_t)\n",
    "\telse:\n",
    "\t\treflection = np.array([(1,Reflectivity_P(theta_i,n_i,n_t)),(Reflectivity_P(theta_i,n_i,n_t),1)])\n",
    "\t\treturn 1.0/Transmission_P(theta_i,n_i,n_t)*reflection\n",
    "\n",
    "def Phasor(theta,lbd,L,n):\n",
    "\tdelta = (2*np.pi/lbd)*n*L*np.cos(theta)\n",
    "\treturn np.array([(np.exp(-1j*delta),0),(0,np.exp(1j*delta))])"
   ]
  },
  {
   "cell_type": "code",
   "execution_count": null,
   "metadata": {},
   "outputs": [],
   "source": [
    "def get_Quality(lbd,R):\n",
    "\tRmax = max(R)\n",
    "\tRmin = min(R)\n",
    "\n",
    "\tmax_ind = find_nearest(R,Rmax)\n",
    "\tmin_ind = find_nearest(R,Rmin)\n",
    "\n",
    "\tleft_half = find_nearest(R[:int(np.size(R)/2)],(Rmax-Rmin)/2+Rmin)\n",
    "\tright_half = int(np.size(R)/2)+find_nearest(R[int(np.size(R)/2):-1],(Rmax-Rmin)/2+Rmin)\n",
    "\n",
    "\tFWHM = np.abs(lbd[left_half]-lbd[right_half])\n",
    "\treturn lbd[min_ind]/FWHM\n",
    "\n",
    "def get_Resonance(lbd, R):\n",
    "    pass"
   ]
  },
  {
   "cell_type": "code",
   "execution_count": null,
   "metadata": {},
   "outputs": [],
   "source": [
    "class Layer():\n",
    "\tdef __init__(self, n, h, num):\n",
    "\t\tself.n = n\n",
    "\t\tself.h = h\n",
    "\t\tself.num = num\n",
    "\n",
    "class Stack():\n",
    "\tdef __init__(self, n, layer1, layer2):\n",
    "\t\tself.layers = []\n",
    "\t\tfor i in range(2*n):\n",
    "\t\t\tself.layers.append(layer1)\n",
    "\t\t\tself.layers.append(layer2)\n",
    "\n",
    "\n",
    "def TMM(lbd=None, lbd_res=None, theta_init=None, N_layers=None, n_origin=None, n_stack=None, n_Substrate=None, polarization=None, cav=False, cav_pos=0):\n",
    "\tM = np.array([(1+0j,0),(0,1+0j)])\n",
    "\t\t\n",
    "\tM = np.dot(Interface(theta_init,n_origin,n_stack[0],polarization),M)\t\n",
    "\ttheta_init = np.arcsin(n_origin/n_stack[1]*np.sin(theta_init)) if abs(n_origin/n_stack[0]*np.sin(theta_init))<=1 else 0\t\n",
    "\t\n",
    "\tif cav:\n",
    "\t\tnum_stacks = 2*N_layers+1\n",
    "\telse:\n",
    "\t\tnum_stacks = 2*N_layers\n",
    "\t\n",
    "\tfor i in range(0,num_stacks):\n",
    "\n",
    "\t\tif cav and i==2*cav_pos:\n",
    "\t\t\thC = lbd_res/3.56\n",
    "\t\t\tM = np.dot(Phasor(theta_init,lbd,hC,3.56),M)\t\t\t\t\n",
    "\t\t\tM = np.dot(Interface(theta_init,3.56,3.05,polarization),M)\t\t\n",
    "\t\t\ttheta_init = np.arcsin(3.05/3.56*np.sin(theta_init)) if abs(3.05/3.56*np.sin(theta_init))<=1 else 0\n",
    "\t\t\tcontinue\n",
    "\t\t\n",
    "\t\tM = np.dot(Phasor(theta_init,lbd,lbd_res/(4*n_stack[i%2]),n_stack[i%2]),M)\t\t\t\t\n",
    "\t\tM = np.dot(Interface(theta_init,n_stack[(i)%2],n_stack[(i+1)%2],polarization),M)\t\n",
    "\t\ttheta_init = np.arcsin(n_stack[i%2]/n_stack[(i+1)%2]*np.sin(theta_init)) if abs(n_stack[i%2]/n_stack[(i+1)%2]*np.sin(theta_init))<=1 else 0\n",
    "\n",
    "\n",
    "\tR = np.abs(M[1,0]/M[0,0])**2\n",
    "\treturn R\n",
    "\n",
    "thetas = np.linspace(0,30*np.pi/180,100)\n",
    "thetas = [0]\n",
    "# plt.plot(180/np.pi*thetas, [Reflectivity_S(theta,3.05,3.56)**2 for theta in thetas],'-r',180/np.pi*thetas, [Reflectivity_P(theta,3.05,3.56)**2 for theta in thetas],'-b')\n",
    "# plt.plot(180/np.pi*thetas, [Reflectivity_S(theta,3.56,3.05)**2 for theta in thetas],'+r',180/np.pi*thetas, [Reflectivity_P(theta,3.56,3.05)**2 for theta in thetas],'+b')\n",
    "# plt.show()\n",
    "#thetas = [np.arctan(2.4048/(0.2e-6*3.56)*930e-9/(2*np.pi)),np.arctan(2.4048/(0.6e-6*3.56)*930e-9/(2*np.pi))]\n",
    "lbd = np.linspace(929.95,930.05,10000)\n",
    "\n",
    "NT = np.linspace(9,9,1, dtype=np.int)\n",
    "Q = []\n",
    "\n",
    "R_S = np.zeros((np.size(thetas),np.size(lbd)))\n",
    "R_P = np.zeros((np.size(thetas),np.size(lbd)))\n",
    "\n",
    "for nt in NT:\n",
    "\tR_S[0,:] = TMM(lbd=lbd, lbd_res=930, theta_init=0, \n",
    "\t\tN_layers=52, n_origin=1, n_stack=[3.45,2.73], n_Substrate=2.96, polarization='s', cav=True, cav_pos=16)\n",
    "\tQ.append(findQ(lbd,R_S[0]))\t\n",
    "\tplt.plot(lbd,R_S[0])\n",
    "\tplt.show()\n",
    "\tprint(Q[-1])\n",
    "\t# R_P[i,:] = TMM(lbd=lbd, lbd_res=930, theta_init=theta, \n",
    "\t# \tN_layers=[22,24], n_origin=1, n_stack=[3.56,3.05], n_Substrate=3.56, polarization='p')"
   ]
  },
  {
   "cell_type": "code",
   "execution_count": 13,
   "metadata": {},
   "outputs": [
    {
     "data": {
      "text/plain": [
       "2.532166178568285e-07"
      ]
     },
     "execution_count": 13,
     "metadata": {},
     "output_type": "execute_result"
    }
   ],
   "source": [
    "import scipy.special as sp\n",
    "\n",
    "nu = 50e9\n",
    "root = 2.4048\n",
    "c_l = 18300\n",
    "c_t = 11500\n",
    "v_eff = (1/3*1/c_l**3 + 2/3*1/c_t**3)**(-1/3)\n",
    "lbd = v_eff/nu\n",
    "R = root*lbd/(2*np.pi)"
   ]
  },
  {
   "cell_type": "code",
   "execution_count": null,
   "metadata": {},
   "outputs": [],
   "source": []
  }
 ],
 "metadata": {
  "interpreter": {
   "hash": "4a0cdf5044e235b24d1fc042fb09c724f9ff16da5a82a5cb2270a9975034c9c0"
  },
  "kernelspec": {
   "display_name": "Python 3.9.2 64-bit",
   "language": "python",
   "name": "python3"
  },
  "language_info": {
   "codemirror_mode": {
    "name": "ipython",
    "version": 3
   },
   "file_extension": ".py",
   "mimetype": "text/x-python",
   "name": "python",
   "nbconvert_exporter": "python",
   "pygments_lexer": "ipython3",
   "version": "3.6.5"
  },
  "orig_nbformat": 4
 },
 "nbformat": 4,
 "nbformat_minor": 2
}
