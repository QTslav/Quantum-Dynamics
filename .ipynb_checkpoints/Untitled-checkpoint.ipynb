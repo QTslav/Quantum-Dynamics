{
 "cells": [
  {
   "cell_type": "code",
   "execution_count": 169,
   "metadata": {},
   "outputs": [],
   "source": [
    "from qutip import *\n",
    "import numpy as np\n",
    "import matplotlib.pyplot as plt\n",
    "from matplotlib import rc\n",
    "plt.rcParams[\"figure.figsize\"] = (20,10)"
   ]
  },
  {
   "cell_type": "code",
   "execution_count": 170,
   "metadata": {},
   "outputs": [],
   "source": [
    "# Constants\n",
    "h = 6.602e-34\n",
    "hbar = h/(2*np.pi)\n",
    "kB = 1.38e-23\n",
    "eps_0 = 8.85e-12\n",
    "c_0 = 299792458\n",
    "e = 1.602e-19\n",
    "m_e = 9.109e-31\n",
    "a_0 = 0.53e-10\n",
    "norm = 1e-9\n",
    "mu_B = e*hbar/(2*m_e)"
   ]
  },
  {
   "cell_type": "code",
   "execution_count": 171,
   "metadata": {},
   "outputs": [],
   "source": [
    "#Internal basis vectors expressed in lab frame. SiV high symmetry axis is along z: <111>\n",
    "x = np.array([-1,1,0])\n",
    "x = x/np.linalg.norm(x)\n",
    "y = np.array([-1,-1,2])\n",
    "y = y/np.linalg.norm(y)\n",
    "z = np.array([1,1,1])\n",
    "z = z/np.linalg.norm(z)\n",
    "\n",
    "#Rotation matrix to switch from internal to external lab frame\n",
    "R_ext_int = np.vstack((x,y,z)).T\n",
    "R_int_ext = np.linalg.inv(R_ext_int)"
   ]
  },
  {
   "cell_type": "code",
   "execution_count": 172,
   "metadata": {},
   "outputs": [],
   "source": [
    "''' \n",
    "    States and operators:\n",
    "    Orbitals ordering\n",
    "    0: |e_gx>\n",
    "    1: |e_gy>\n",
    "    2: |e_ux>\n",
    "    3: |e_uy>\n",
    "\n",
    "    Therefore orbital plus operator L_p_x = |e_g_y><e_g_x| ... \n",
    "    Due to D3d symmetry only L_z is non-zero. L_x and L_y vanish.\n",
    "\n",
    "    Define spin up |🠕> as lower energy state.\n",
    "'''\n",
    "N_orbs = 4 \n",
    "e_g_x = basis(N_orbs, 0)\n",
    "e_g_y = basis(N_orbs, 1)\n",
    "e_u_x = basis(N_orbs, 2)\n",
    "e_u_y = basis(N_orbs, 3)\n",
    "L_p_g = e_g_y*e_g_x.dag()\n",
    "L_m_g = L_p_g.trans()\n",
    "L_p_e = e_u_y*e_u_x.dag()\n",
    "L_m_e = L_p_e.trans()\n",
    "L_z_g = (1j*L_m_g-1j*L_p_g)\n",
    "L_z_e = (1j*L_m_e-1j*L_p_e)\n",
    "\n",
    "N_spins = 2\n",
    "s_down = basis(N_spins,0)\n",
    "s_up = basis(N_spins,1)\n",
    "S_m = s_down*s_up.dag()\n",
    "S_p = s_up*s_down.dag()\n",
    "S_x = 1/2*(S_m + S_p)\n",
    "S_y = 1/2*(-1j*S_m + 1j*S_p)\n",
    "S_z = 1/2*(s_down*s_down.dag() - s_up*s_up.dag())\n",
    "N = N_orbs*N_spins"
   ]
  },
  {
   "cell_type": "code",
   "execution_count": 173,
   "metadata": {},
   "outputs": [],
   "source": [
    "'''System Dynamics:\n",
    "Orbital part comprising Spin-Orbit, Jahn Teller, Zeeman and Strain couplin\n",
    "'''\n",
    "HOrb = Qobj(np.zeros((N_orbs, N_orbs)))\n",
    "HOrb += 1.68*e/h*(e_u_x*e_u_x.dag()+e_u_y*e_u_y.dag())\n",
    "H = tensor(HOrb, qeye(N_spins))"
   ]
  },
  {
   "cell_type": "code",
   "execution_count": 174,
   "metadata": {},
   "outputs": [],
   "source": [
    "#Spin-Orbit coupling\n",
    "SO_g = 46e9\n",
    "SO_e = 250e9\n",
    "HSO = -SO_g/2*tensor(L_z_g,S_z) - SO_e/2*tensor(L_z_e,S_z)\n",
    "H += HSO"
   ]
  },
  {
   "cell_type": "code",
   "execution_count": 175,
   "metadata": {},
   "outputs": [],
   "source": [
    "#Jahn-Teller coupling\n",
    "JT_x_g = 0\n",
    "JT_x_e = 0\n",
    "JT_y_g = 0\n",
    "JT_y_e = 0\n",
    "HJT += JT_x_g*e_g_x*e_g_x.dag()\n",
    "HJT += JT_y_g*e_g_x*e_g_y.dag()\n",
    "HJT += JT_y_g*e_g_y*e_g_x.dag()\n",
    "HJT += -JT_x_g*e_g_y*e_g_y.dag()\n",
    "HJT += JT_x_e*e_u_x*e_u_x.dag()\n",
    "HJT += JT_y_e*e_u_x*e_u_y.dag()\n",
    "HJT += JT_y_e*e_u_y*e_u_x.dag()\n",
    "HJT += -JT_x_e*e_u_y*e_u_y.dag()\n",
    "H += tensor(HJT, qeye(N_spins))"
   ]
  },
  {
   "cell_type": "code",
   "execution_count": 176,
   "metadata": {},
   "outputs": [],
   "source": [
    "#Strain coupling\n",
    "delta_g = 0\n",
    "alpha_g = 0\n",
    "beta_g = 0\n",
    "HStr_g = (delta_g+alpha_g)*e_g_x*e_g_x.dag()\n",
    "HStr_g += beta_g*e_g_x*e_g_y.dag()\n",
    "HStr_g += beta_g*e_g_y*e_g_x.dag()\n",
    "HStr_g += (delta_g-alpha_g)*e_g_y*e_g_y.dag()\n",
    "\n",
    "delta_e = 0\n",
    "alpha_e = 0\n",
    "beta_e = 0\n",
    "HStr_e += (delta_e+alpha_e)*e_u_x*e_u_x.dag()\n",
    "HStr_e += beta_e*e_u_x*e_u_y.dag()\n",
    "HStr_e += beta_e*e_u_y*e_u_x.dag()\n",
    "HStr_e += (delta_e-alpha_e)*e_u_y*e_u_y.dag()\n",
    "\n",
    "H += tensor(HStr, qeye(N_spins))"
   ]
  },
  {
   "cell_type": "code",
   "execution_count": 187,
   "metadata": {},
   "outputs": [],
   "source": [
    "#Magnetic field unit vector\n",
    "e_B_ext = np.array([[0],[0],[1]])\n",
    "e_B_ext = e_B_ext/np.linalg.norm(e_B_ext)\n",
    "Bs = np.linspace(0,7,100)\n",
    "\n",
    "energies = np.zeros((N, len(Bs)))\n",
    "for i, B in enumerate(Bs):\n",
    "\n",
    "    #Zeeman coupling with quenching factor of f=0.1\n",
    "    f = 0.1\n",
    "    gamma_S = 2*mu_B/h\n",
    "    gamma_L = mu_B/h\n",
    "    \n",
    "    B_ext = e_B_ext*B\n",
    "    print(B_ext)\n",
    "    #Rotate into SiV internal coordinate system defined by applying (R_y*R_z)^-1\n",
    "    B_x = np.squeeze(R_int_ext @ B_ext)[0]\n",
    "    B_y = np.squeeze(R_int_ext @ B_ext)[1]\n",
    "    B_z = np.squeeze(R_int_ext @ B_ext)[2]\n",
    "        \n",
    "    HZL = f*gamma_L*B_z*tensor((L_z_g+L_z_e),qeye(N_spins))    \n",
    "    HZS = gamma_S*tensor(qeye(N_orbs),(B_x*S_x+B_y*S_y+B_z*S_z))\n",
    "        \n",
    "    energies[:,i] = (H+HZL+HZS).eigenenergies()"
   ]
  },
  {
   "cell_type": "code",
   "execution_count": 188,
   "metadata": {},
   "outputs": [
    {
     "ename": "ValueError",
     "evalue": "x and y must have same first dimension, but have shapes (1,) and (100,)",
     "output_type": "error",
     "traceback": [
      "\u001b[1;31m---------------------------------------------------------------------------\u001b[0m",
      "\u001b[1;31mValueError\u001b[0m                                Traceback (most recent call last)",
      "\u001b[1;32m<ipython-input-188-b47b74006867>\u001b[0m in \u001b[0;36m<module>\u001b[1;34m\u001b[0m\n\u001b[0;32m     22\u001b[0m \u001b[1;32mfor\u001b[0m \u001b[0mi\u001b[0m\u001b[1;33m,\u001b[0m \u001b[0menergy\u001b[0m \u001b[1;32min\u001b[0m \u001b[0menumerate\u001b[0m\u001b[1;33m(\u001b[0m\u001b[0menergies\u001b[0m\u001b[1;33m)\u001b[0m\u001b[1;33m:\u001b[0m\u001b[1;33m\u001b[0m\u001b[1;33m\u001b[0m\u001b[0m\n\u001b[0;32m     23\u001b[0m     \u001b[1;32mif\u001b[0m \u001b[0mi\u001b[0m\u001b[1;33m<\u001b[0m\u001b[1;36m4\u001b[0m\u001b[1;33m:\u001b[0m\u001b[1;33m\u001b[0m\u001b[1;33m\u001b[0m\u001b[0m\n\u001b[1;32m---> 24\u001b[1;33m         \u001b[0maxs\u001b[0m\u001b[1;33m[\u001b[0m\u001b[1;36m1\u001b[0m\u001b[1;33m]\u001b[0m\u001b[1;33m.\u001b[0m\u001b[0mplot\u001b[0m\u001b[1;33m(\u001b[0m\u001b[0mB\u001b[0m\u001b[1;33m,\u001b[0m \u001b[0menergy\u001b[0m\u001b[1;33m,\u001b[0m \u001b[0mlinestyle\u001b[0m\u001b[1;33m=\u001b[0m\u001b[1;34m'-'\u001b[0m\u001b[1;33m,\u001b[0m \u001b[0mlabel\u001b[0m\u001b[1;33m=\u001b[0m\u001b[0mlabels\u001b[0m\u001b[1;33m[\u001b[0m\u001b[0mi\u001b[0m\u001b[1;33m]\u001b[0m\u001b[1;33m,\u001b[0m \u001b[0mcolor\u001b[0m\u001b[1;33m=\u001b[0m\u001b[0mcolors\u001b[0m\u001b[1;33m[\u001b[0m\u001b[0mi\u001b[0m\u001b[1;33m]\u001b[0m\u001b[1;33m)\u001b[0m\u001b[1;33m\u001b[0m\u001b[1;33m\u001b[0m\u001b[0m\n\u001b[0m\u001b[0;32m     25\u001b[0m     \u001b[1;32melse\u001b[0m\u001b[1;33m:\u001b[0m\u001b[1;33m\u001b[0m\u001b[1;33m\u001b[0m\u001b[0m\n\u001b[0;32m     26\u001b[0m         \u001b[0maxs\u001b[0m\u001b[1;33m[\u001b[0m\u001b[1;36m0\u001b[0m\u001b[1;33m]\u001b[0m\u001b[1;33m.\u001b[0m\u001b[0mplot\u001b[0m\u001b[1;33m(\u001b[0m\u001b[0mB\u001b[0m\u001b[1;33m,\u001b[0m \u001b[0menergy\u001b[0m\u001b[1;33m-\u001b[0m\u001b[1;36m1.68\u001b[0m\u001b[1;33m*\u001b[0m\u001b[0me\u001b[0m\u001b[1;33m/\u001b[0m\u001b[0mh\u001b[0m\u001b[1;33m,\u001b[0m \u001b[0mlinestyle\u001b[0m\u001b[1;33m=\u001b[0m\u001b[1;34m'-'\u001b[0m\u001b[1;33m,\u001b[0m \u001b[0mlabel\u001b[0m\u001b[1;33m=\u001b[0m\u001b[0mlabels\u001b[0m\u001b[1;33m[\u001b[0m\u001b[0mi\u001b[0m\u001b[1;33m]\u001b[0m\u001b[1;33m,\u001b[0m \u001b[0mcolor\u001b[0m\u001b[1;33m=\u001b[0m\u001b[0mcolors\u001b[0m\u001b[1;33m[\u001b[0m\u001b[0mi\u001b[0m\u001b[1;33m]\u001b[0m\u001b[1;33m)\u001b[0m\u001b[1;33m\u001b[0m\u001b[1;33m\u001b[0m\u001b[0m\n",
      "\u001b[1;32m~\\Anaconda3\\lib\\site-packages\\matplotlib\\axes\\_axes.py\u001b[0m in \u001b[0;36mplot\u001b[1;34m(self, scalex, scaley, data, *args, **kwargs)\u001b[0m\n\u001b[0;32m   1664\u001b[0m         \"\"\"\n\u001b[0;32m   1665\u001b[0m         \u001b[0mkwargs\u001b[0m \u001b[1;33m=\u001b[0m \u001b[0mcbook\u001b[0m\u001b[1;33m.\u001b[0m\u001b[0mnormalize_kwargs\u001b[0m\u001b[1;33m(\u001b[0m\u001b[0mkwargs\u001b[0m\u001b[1;33m,\u001b[0m \u001b[0mmlines\u001b[0m\u001b[1;33m.\u001b[0m\u001b[0mLine2D\u001b[0m\u001b[1;33m.\u001b[0m\u001b[0m_alias_map\u001b[0m\u001b[1;33m)\u001b[0m\u001b[1;33m\u001b[0m\u001b[1;33m\u001b[0m\u001b[0m\n\u001b[1;32m-> 1666\u001b[1;33m         \u001b[0mlines\u001b[0m \u001b[1;33m=\u001b[0m \u001b[1;33m[\u001b[0m\u001b[1;33m*\u001b[0m\u001b[0mself\u001b[0m\u001b[1;33m.\u001b[0m\u001b[0m_get_lines\u001b[0m\u001b[1;33m(\u001b[0m\u001b[1;33m*\u001b[0m\u001b[0margs\u001b[0m\u001b[1;33m,\u001b[0m \u001b[0mdata\u001b[0m\u001b[1;33m=\u001b[0m\u001b[0mdata\u001b[0m\u001b[1;33m,\u001b[0m \u001b[1;33m**\u001b[0m\u001b[0mkwargs\u001b[0m\u001b[1;33m)\u001b[0m\u001b[1;33m]\u001b[0m\u001b[1;33m\u001b[0m\u001b[1;33m\u001b[0m\u001b[0m\n\u001b[0m\u001b[0;32m   1667\u001b[0m         \u001b[1;32mfor\u001b[0m \u001b[0mline\u001b[0m \u001b[1;32min\u001b[0m \u001b[0mlines\u001b[0m\u001b[1;33m:\u001b[0m\u001b[1;33m\u001b[0m\u001b[1;33m\u001b[0m\u001b[0m\n\u001b[0;32m   1668\u001b[0m             \u001b[0mself\u001b[0m\u001b[1;33m.\u001b[0m\u001b[0madd_line\u001b[0m\u001b[1;33m(\u001b[0m\u001b[0mline\u001b[0m\u001b[1;33m)\u001b[0m\u001b[1;33m\u001b[0m\u001b[1;33m\u001b[0m\u001b[0m\n",
      "\u001b[1;32m~\\Anaconda3\\lib\\site-packages\\matplotlib\\axes\\_base.py\u001b[0m in \u001b[0;36m__call__\u001b[1;34m(self, *args, **kwargs)\u001b[0m\n\u001b[0;32m    223\u001b[0m                 \u001b[0mthis\u001b[0m \u001b[1;33m+=\u001b[0m \u001b[0margs\u001b[0m\u001b[1;33m[\u001b[0m\u001b[1;36m0\u001b[0m\u001b[1;33m]\u001b[0m\u001b[1;33m,\u001b[0m\u001b[1;33m\u001b[0m\u001b[1;33m\u001b[0m\u001b[0m\n\u001b[0;32m    224\u001b[0m                 \u001b[0margs\u001b[0m \u001b[1;33m=\u001b[0m \u001b[0margs\u001b[0m\u001b[1;33m[\u001b[0m\u001b[1;36m1\u001b[0m\u001b[1;33m:\u001b[0m\u001b[1;33m]\u001b[0m\u001b[1;33m\u001b[0m\u001b[1;33m\u001b[0m\u001b[0m\n\u001b[1;32m--> 225\u001b[1;33m             \u001b[1;32myield\u001b[0m \u001b[1;32mfrom\u001b[0m \u001b[0mself\u001b[0m\u001b[1;33m.\u001b[0m\u001b[0m_plot_args\u001b[0m\u001b[1;33m(\u001b[0m\u001b[0mthis\u001b[0m\u001b[1;33m,\u001b[0m \u001b[0mkwargs\u001b[0m\u001b[1;33m)\u001b[0m\u001b[1;33m\u001b[0m\u001b[1;33m\u001b[0m\u001b[0m\n\u001b[0m\u001b[0;32m    226\u001b[0m \u001b[1;33m\u001b[0m\u001b[0m\n\u001b[0;32m    227\u001b[0m     \u001b[1;32mdef\u001b[0m \u001b[0mget_next_color\u001b[0m\u001b[1;33m(\u001b[0m\u001b[0mself\u001b[0m\u001b[1;33m)\u001b[0m\u001b[1;33m:\u001b[0m\u001b[1;33m\u001b[0m\u001b[1;33m\u001b[0m\u001b[0m\n",
      "\u001b[1;32m~\\Anaconda3\\lib\\site-packages\\matplotlib\\axes\\_base.py\u001b[0m in \u001b[0;36m_plot_args\u001b[1;34m(self, tup, kwargs)\u001b[0m\n\u001b[0;32m    389\u001b[0m             \u001b[0mx\u001b[0m\u001b[1;33m,\u001b[0m \u001b[0my\u001b[0m \u001b[1;33m=\u001b[0m \u001b[0mindex_of\u001b[0m\u001b[1;33m(\u001b[0m\u001b[0mtup\u001b[0m\u001b[1;33m[\u001b[0m\u001b[1;33m-\u001b[0m\u001b[1;36m1\u001b[0m\u001b[1;33m]\u001b[0m\u001b[1;33m)\u001b[0m\u001b[1;33m\u001b[0m\u001b[1;33m\u001b[0m\u001b[0m\n\u001b[0;32m    390\u001b[0m \u001b[1;33m\u001b[0m\u001b[0m\n\u001b[1;32m--> 391\u001b[1;33m         \u001b[0mx\u001b[0m\u001b[1;33m,\u001b[0m \u001b[0my\u001b[0m \u001b[1;33m=\u001b[0m \u001b[0mself\u001b[0m\u001b[1;33m.\u001b[0m\u001b[0m_xy_from_xy\u001b[0m\u001b[1;33m(\u001b[0m\u001b[0mx\u001b[0m\u001b[1;33m,\u001b[0m \u001b[0my\u001b[0m\u001b[1;33m)\u001b[0m\u001b[1;33m\u001b[0m\u001b[1;33m\u001b[0m\u001b[0m\n\u001b[0m\u001b[0;32m    392\u001b[0m \u001b[1;33m\u001b[0m\u001b[0m\n\u001b[0;32m    393\u001b[0m         \u001b[1;32mif\u001b[0m \u001b[0mself\u001b[0m\u001b[1;33m.\u001b[0m\u001b[0mcommand\u001b[0m \u001b[1;33m==\u001b[0m \u001b[1;34m'plot'\u001b[0m\u001b[1;33m:\u001b[0m\u001b[1;33m\u001b[0m\u001b[1;33m\u001b[0m\u001b[0m\n",
      "\u001b[1;32m~\\Anaconda3\\lib\\site-packages\\matplotlib\\axes\\_base.py\u001b[0m in \u001b[0;36m_xy_from_xy\u001b[1;34m(self, x, y)\u001b[0m\n\u001b[0;32m    268\u001b[0m         \u001b[1;32mif\u001b[0m \u001b[0mx\u001b[0m\u001b[1;33m.\u001b[0m\u001b[0mshape\u001b[0m\u001b[1;33m[\u001b[0m\u001b[1;36m0\u001b[0m\u001b[1;33m]\u001b[0m \u001b[1;33m!=\u001b[0m \u001b[0my\u001b[0m\u001b[1;33m.\u001b[0m\u001b[0mshape\u001b[0m\u001b[1;33m[\u001b[0m\u001b[1;36m0\u001b[0m\u001b[1;33m]\u001b[0m\u001b[1;33m:\u001b[0m\u001b[1;33m\u001b[0m\u001b[1;33m\u001b[0m\u001b[0m\n\u001b[0;32m    269\u001b[0m             raise ValueError(\"x and y must have same first dimension, but \"\n\u001b[1;32m--> 270\u001b[1;33m                              \"have shapes {} and {}\".format(x.shape, y.shape))\n\u001b[0m\u001b[0;32m    271\u001b[0m         \u001b[1;32mif\u001b[0m \u001b[0mx\u001b[0m\u001b[1;33m.\u001b[0m\u001b[0mndim\u001b[0m \u001b[1;33m>\u001b[0m \u001b[1;36m2\u001b[0m \u001b[1;32mor\u001b[0m \u001b[0my\u001b[0m\u001b[1;33m.\u001b[0m\u001b[0mndim\u001b[0m \u001b[1;33m>\u001b[0m \u001b[1;36m2\u001b[0m\u001b[1;33m:\u001b[0m\u001b[1;33m\u001b[0m\u001b[1;33m\u001b[0m\u001b[0m\n\u001b[0;32m    272\u001b[0m             raise ValueError(\"x and y can be no greater than 2-D, but have \"\n",
      "\u001b[1;31mValueError\u001b[0m: x and y must have same first dimension, but have shapes (1,) and (100,)"
     ]
    },
    {
     "data": {
      "image/png": "[encoded data removed]",
      "text/plain": [
       "<Figure size 1440x720 with 2 Axes>"
      ]
     },
     "metadata": {
      "needs_background": "light"
     },
     "output_type": "display_data"
    }
   ],
   "source": [
    "labels = [\n",
    "    '|e_g_x, 🠕>',\n",
    "    '|e_g_x, 🠗>',\n",
    "    '|e_g_y, 🠕>',\n",
    "    '|e_g_y, 🠗>',\n",
    "    '|e_u_x, 🠕>',\n",
    "    '|e_u_x, 🠗>',\n",
    "    '|e_u_y, 🠕>',\n",
    "    '|e_u_y, 🠗>']\n",
    "colors = [\n",
    "    'k',\n",
    "    'r',\n",
    "    'k',\n",
    "    'r',\n",
    "    'b',\n",
    "    'y',\n",
    "    'b',\n",
    "    'y'\n",
    "]\n",
    "\n",
    "fig, axs = plt.subplots(2,1,True)\n",
    "for i, energy in enumerate(energies):\n",
    "    if i<4:\n",
    "        axs[1].plot(B, energy, linestyle='-', label=labels[i], color=colors[i])\n",
    "    else:\n",
    "        axs[0].plot(B, energy-1.68*e/h, linestyle='-', label=labels[i], color=colors[i])\n",
    "    \n",
    "axs[0].legend()\n",
    "axs[1].legend()\n",
    "plt.show()"
   ]
  },
  {
   "cell_type": "code",
   "execution_count": null,
   "metadata": {},
   "outputs": [],
   "source": []
  }
 ],
 "metadata": {
  "kernelspec": {
   "display_name": "Python 3.7.4 64-bit ('Marco': virtualenv)",
   "language": "python",
   "name": "python37464bitmarcovirtualenva3a8b6abeec74639a0d4be001c2682c7"
  },
  "language_info": {
   "codemirror_mode": {
    "name": "ipython",
    "version": 3
   },
   "file_extension": ".py",
   "mimetype": "text/x-python",
   "name": "python",
   "nbconvert_exporter": "python",
   "pygments_lexer": "ipython3",
   "version": "3.7.4"
  }
 },
 "nbformat": 4,
 "nbformat_minor": 2
}
