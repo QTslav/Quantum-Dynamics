{
 "cells": [
  {
   "cell_type": "code",
   "execution_count": 3,
   "metadata": {},
   "outputs": [],
   "source": [
    "from qutip import *\n",
    "import numpy as np\n",
    "import matplotlib.pyplot as plt"
   ]
  },
  {
   "cell_type": "code",
   "execution_count": 62,
   "metadata": {},
   "outputs": [],
   "source": [
    "g1 = basis(5,0)\n",
    "g2 = basis(5,1)\n",
    "m1 = basis(5,2)\n",
    "m2 = basis(5,3)\n",
    "e = basis(5,4)"
   ]
  },
  {
   "cell_type": "code",
   "execution_count": 63,
   "metadata": {},
   "outputs": [],
   "source": [
    "def boltzmann(gs, T):\n",
    "    return np.exp(-6.26e-34*gs*1e9/(1.38e-23*T))"
   ]
  },
  {
   "cell_type": "code",
   "execution_count": 86,
   "metadata": {},
   "outputs": [],
   "source": [
    "Gamma1 = 1/2\n",
    "Gamma2 = Gamma1\n",
    "\n",
    "Gamma_spin = 1/1000\n",
    "Gamma_orb = 1/400\n",
    "\n",
    "gs = 50\n",
    "T = 4"
   ]
  },
  {
   "cell_type": "code",
   "execution_count": 111,
   "metadata": {},
   "outputs": [
    {
     "data": {
      "text/plain": [
       "<matplotlib.legend.Legend at 0x224d71c46d8>"
      ]
     },
     "execution_count": 111,
     "metadata": {},
     "output_type": "execute_result"
    },
    {
     "data": {
      "image/png": "[encoded data removed]",
      "text/plain": [
       "<Figure size 432x288 with 2 Axes>"
      ]
     },
     "metadata": {
      "needs_background": "light"
     },
     "output_type": "display_data"
    }
   ],
   "source": [
    "tlist = np.linspace(0, 30, 1000)\n",
    "\n",
    "delta = 1\n",
    "Delta = 0\n",
    "eta = 0.1\n",
    "sat = 10\n",
    "H = Delta*g2*g2.dag() + delta*e*e.dag()\n",
    "\n",
    "Omega1 = sat*Gamma1\n",
    "Omega2 = sat*Gamma2\n",
    "\n",
    "Hint1 = Omega1/2 * (g1*e.dag() + e*g1.dag())\n",
    "Hint2 = Omega2/2 * (g2*e.dag() + e*g2.dag())\n",
    "\n",
    "c_ops = [\n",
    "    np.sqrt(Gamma1)*g1*e.dag(),\n",
    "    np.sqrt(eta*Gamma1)*g2*e.dag(),\n",
    "    np.sqrt(Gamma2)*m1*e.dag(),\n",
    "    np.sqrt(eta*Gamma2)*m2*e.dag(),\n",
    "    np.sqrt(Gamma_spin)*g1*g2.dag(),\n",
    "    np.sqrt(Gamma_spin*boltzmann(5,T))*g2*g1.dag(),\n",
    "    np.sqrt(Gamma_orb)*(g1 + eta*g2)*m1.dag(),\n",
    "    np.sqrt(Gamma_orb*boltzmann(5,T))*(eta*g1 + g2)*m2.dag()\n",
    "]\n",
    "e_ops = [\n",
    "    g1*g1.dag(),\n",
    "    g2*g2.dag(),\n",
    "    e*e.dag()\n",
    "]\n",
    "rho0 = 0.5*(g1*g1.dag() + g2*g2.dag())\n",
    "result = mesolve(H + Hint1 + Hint2, rho0, tlist, e_ops=e_ops, c_ops=c_ops)\n",
    "fig, axs = plt.subplots(2,1)\n",
    "axs[0].plot(tlist, result.expect[0], label='g1', color='b')\n",
    "axs[0].plot(tlist, result.expect[1], label='g2', color='g')\n",
    "axs[0].legend()\n",
    "axs[1].plot(tlist, result.expect[2], label='e', color='k')\n",
    "axs[1].legend()"
   ]
  },
  {
   "cell_type": "code",
   "execution_count": null,
   "metadata": {},
   "outputs": [],
   "source": []
  }
 ],
 "metadata": {
  "kernelspec": {
   "display_name": "Python 3",
   "language": "python",
   "name": "python3"
  },
  "language_info": {
   "codemirror_mode": {
    "name": "ipython",
    "version": 3
   },
   "file_extension": ".py",
   "mimetype": "text/x-python",
   "name": "python",
   "nbconvert_exporter": "python",
   "pygments_lexer": "ipython3",
   "version": "3.6.5"
  }
 },
 "nbformat": 4,
 "nbformat_minor": 2
}
