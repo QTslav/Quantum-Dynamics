{
 "cells": [
  {
   "cell_type": "code",
   "execution_count": 1,
   "metadata": {},
   "outputs": [],
   "source": [
    "from qutip import *\n",
    "\n",
    "from scipy.optimize import curve_fit as cf\n",
    "\n",
    "import numpy as np\n",
    "from numpy import pi as pi\n",
    "from numpy import sqrt as sqrt\n",
    "\n",
    "import matplotlib.pyplot as plt\n",
    "font = {'family' : 'normal',\n",
    "        'weight' : 'normal',\n",
    "        'size'   : 14}\n",
    "\n",
    "plt.rc('font', **font)"
   ]
  },
  {
   "cell_type": "code",
   "execution_count": 2,
   "metadata": {},
   "outputs": [],
   "source": [
    "def Rs(t,p):\n",
    "    t = t/180*np.pi\n",
    "    p = p/180*np.pi\n",
    "    return np.array([np.sin(t)*np.cos(p), np.sin(t)*np.sin(p), np.cos(t)])    \n",
    "\n",
    "def Rx(tx):\n",
    "    tx = tx/180*np.pi\n",
    "    Rx = np.array([[1,0,0],\n",
    "                   [0,np.cos(tx),-np.sin(tx)],\n",
    "                   [0,np.sin(tx), np.cos(tx)]])\n",
    "    return Rx\n",
    "\n",
    "def Rz(tz):\n",
    "    tz= tz/180*np.pi\n",
    "    Rz = np.array([[np.cos(tz), -np.sin(tz), 0],\n",
    "                   [np.sin(tz), np.cos(tz), 0],\n",
    "                   [0, 0, 1]])    \n",
    "    return Rz\n",
    "\n",
    "def Eigenbasis_Expansion(H):\n",
    "    Q = np.zeros(H.shape, dtype=np.complex)\n",
    "    for i, ev in enumerate(H.eigenstates()[1]):    \n",
    "        Q[:,i] = ev.full().flatten()    \n",
    "    return Q"
   ]
  },
  {
   "cell_type": "code",
   "execution_count": 3,
   "metadata": {},
   "outputs": [],
   "source": [
    "def boltzmann(E, T):\n",
    "    h = 6.626e-34\n",
    "    kB = 1.38e-23\n",
    "    return np.exp(-h*E/(kB*T))\n",
    "\n",
    "def coth(gs, T):\n",
    "    h = 6.626e-34\n",
    "    kB = 1.38e-23\n",
    "    return np.tanh(h*gs*1e9/(2*kB*T))**(-1)\n",
    "\n",
    "def lorentzian(nu, nu0, Gamma, A, c):\n",
    "    return A*(Gamma/2)**2/((nu-nu0)**2+(Gamma/2)**2) + c \n",
    "\n",
    "def gaussian(nu, nu0, sigma, A, c):\n",
    "    return A*1/np.sqrt(2*np.pi*sigma**2) * np.exp(-(nu-nu0)**2/(2*sigma**2)) + c\n",
    "\n",
    "def pulse_seq(t, width, t0=0, tau=0, N=1):\n",
    "    seq = np.zeros(t.shape)\n",
    "    starts = []\n",
    "    stops = []\n",
    "    for n in range(N):\n",
    "        starts.append(t0)\n",
    "        stops.append(t0+width)\n",
    "        seq += np.where( (t>=t0)&(t<t0+width), 1, 0)        \n",
    "        t0 = t0 + width\n",
    "        t0 += (n+1)*tau\n",
    "    \n",
    "    starts = np.array(starts)\n",
    "    stops = np.array(stops)\n",
    "    return starts, stops, seq"
   ]
  },
  {
   "cell_type": "code",
   "execution_count": 4,
   "metadata": {},
   "outputs": [],
   "source": [
    "egx = basis(4, 0)\n",
    "egy = basis(4, 1)\n",
    "eux = basis(4, 2)\n",
    "euy = basis(4, 3)\n",
    "\n",
    "sgx = egx*egy.dag()\n",
    "sgx += sgx.dag()\n",
    "sgy = -1j*egx*egy.dag()\n",
    "sgy += sgy.dag()\n",
    "sgz = egx*egx.dag() - egy*egy.dag()\n",
    "sux = eux*euy.dag()\n",
    "sux += sux.dag()\n",
    "suy = -1j*eux*euy.dag()\n",
    "suy += suy.dag()\n",
    "suz = eux*eux.dag() - euy*euy.dag()\n",
    "\n",
    "egp = 1/np.sqrt(2)*(egx + 1j*egy)\n",
    "egm = 1/np.sqrt(2)*(egx - 1j*egy)\n",
    "eup = 1/np.sqrt(2)*(eux + 1j*euy)\n",
    "eum = 1/np.sqrt(2)*(eux - 1j*euy)\n",
    "\n",
    "su = basis(2,0)\n",
    "sd = basis(2,1)\n",
    "Sx = su*sd.dag() + sd*su.dag()\n",
    "Sy = -1j*su*sd.dag() + 1j*sd*su.dag()\n",
    "Sz = su*su.dag() - sd*sd.dag()\n",
    "\n",
    "Iu = basis(2,0)\n",
    "Id = basis(2,1)\n",
    "Ix = Iu*Id.dag() + Id*Iu.dag()\n",
    "Iy = -1j*Iu*Id.dag() + 1j*Id*Iu.dag()\n",
    "Iz = Iu*Iu.dag() - Id*Id.dag()"
   ]
  },
  {
   "cell_type": "code",
   "execution_count": 5,
   "metadata": {},
   "outputs": [],
   "source": [
    "sgx = tensor(sgx, qeye(2))\n",
    "sgy = tensor(sgy, qeye(2))\n",
    "sgz = tensor(sgz, qeye(2))\n",
    "sux = tensor(sux, qeye(2))\n",
    "suy = tensor(suy, qeye(2))\n",
    "suz = tensor(suz, qeye(2))\n",
    "Sx = tensor(qeye(4), Sx)\n",
    "Sy = tensor(qeye(4), Sy)\n",
    "Sz = tensor(qeye(4), Sz)\n",
    "\n",
    "# Ix = tensor(qeye(4), qeye(2), Ix)\n",
    "# Iy = tensor(qeye(4), qeye(2), Iy)\n",
    "# Iz = tensor(qeye(4), qeye(2), Iz)"
   ]
  },
  {
   "cell_type": "code",
   "execution_count": 6,
   "metadata": {},
   "outputs": [],
   "source": [
    "sigm_x = egp*eum.dag() + egm*eup.dag()\n",
    "sigm_x = tensor(sigm_x, qeye(2))\n",
    "sigp_x = sigm_x.dag()\n",
    "px = sigm_x+sigp_x\n",
    "\n",
    "sigm_y = 1j*egp*eum.dag() -1j* egm*eup.dag()\n",
    "sigm_y = tensor(sigm_y, qeye(2))\n",
    "sigp_y = sigm_y.dag()\n",
    "py = sigm_y+sigp_y\n",
    "\n",
    "sigm_z = 2*(egp*eup.dag() + egm*eum.dag())\n",
    "sigm_z = tensor(sigm_z, qeye(2))\n",
    "sigp_z = sigm_z.dag()\n",
    "pz = sigm_z + sigp_z"
   ]
  },
  {
   "cell_type": "code",
   "execution_count": 7,
   "metadata": {},
   "outputs": [
    {
     "data": {
      "text/plain": [
       "array([[ 0.70710678,  0.40860704,  0.57709642],\n",
       "       [-0.70710678,  0.40860704,  0.57709642],\n",
       "       [ 0.        , -0.81613759,  0.57785762]])"
      ]
     },
     "execution_count": 7,
     "metadata": {},
     "output_type": "execute_result"
    }
   ],
   "source": [
    "h = 6.626e-34\n",
    "c = 299792458\n",
    "e = 1.62e-19\n",
    "T = 5\n",
    "\n",
    "# Bare coulomb splitting of Eg and Eu states\n",
    "w_C = 2*pi*c/736.85\n",
    "\n",
    "# Spin-orbit couplings\n",
    "lbd_SO_g = 2*pi*46\n",
    "lbd_SO_u = 2*pi*250\n",
    "\n",
    "# (Transverse) Strain couplings\n",
    "alpha_g = 2*pi*0\n",
    "beta_g = 2*pi*0\n",
    "\n",
    "alpha_u = 2*pi*1.8/1.3*alpha_g\n",
    "beta_u = 2*pi*2*beta_g\n",
    "\n",
    "# Magnetons and gyromagnetic ratio for electron and nuclear spin\n",
    "muB = 2*pi*9.274e-24/h * 1e-9\n",
    "muN = 2*pi*5.505e-23/h * 1e-9\n",
    "g_e = 2\n",
    "g_n = 1.910*0\n",
    "\n",
    "# Orbital angular momentum quenching factor (phenomenological)\n",
    "q = 0.1\n",
    "\n",
    "# Nuclear spin coupling strengths along and perpendicular to the electron spin quantization axis \n",
    "# (which might be different from the SiV symmmetry axis)\n",
    "A_para = 0*50e-3\n",
    "A_perp = 0*100e-3\n",
    "\n",
    "# SiV orientation (theta, phi) with respect to external lab frame, where z defines the optical axis\n",
    "# theta_x = 54.7 and theta_z = 45 corresponds to a <111> crystal direction\n",
    "theta_x = 54.7\n",
    "theta_z = 45\n",
    "\n",
    "# We can use a transformation matrix which transforms coordinates such that 111 --> 001, i.e. in this reference\n",
    "# frame the SiV symmetry axis is pointing along z\n",
    "Rz(-theta_z)@Rx(-theta_x)"
   ]
  },
  {
   "cell_type": "code",
   "execution_count": 8,
   "metadata": {
    "scrolled": false
   },
   "outputs": [
    {
     "name": "stdout",
     "output_type": "stream",
     "text": [
      "Groundstate splitting:  45.99999999999905\n",
      "Excited state splitting:  249.99999999999966\n",
      "[-1278348.28070141 -1278297.62620387 -1278064.88245479 -1278002.97140224\n",
      "  1277367.71477841  1277418.36927595  1278932.8828277   1278994.79388025]\n",
      "5-4 Splitting:  8.061913673378669\n",
      "3-2 Splitting:  9.85345004523648\n",
      "1-0 Splitting:  8.061913673415726\n",
      "2-0 Splitting:  45.10423181408867\n"
     ]
    },
    {
     "name": "stderr",
     "output_type": "stream",
     "text": [
      "c:\\program files (x86)\\python36\\lib\\site-packages\\matplotlib\\font_manager.py:1331: UserWarning: findfont: Font family ['normal'] not found. Falling back to DejaVu Sans\n",
      "  (prop.get_family(), self.defaultFamily[fontext]))\n"
     ]
    },
    {
     "data": {
      "image/png": "[encoded data removed]",
      "text/plain": [
       "<Figure size 1440x720 with 2 Axes>"
      ]
     },
     "metadata": {
      "needs_background": "light"
     },
     "output_type": "display_data"
    }
   ],
   "source": [
    "# Magnetic field orientation with respect to external lab frame, where z defines the optical axis\n",
    "B_theta, B_phi = 54.7, 45\n",
    "Bs = np.linspace(0, 0.32, 15)\n",
    "engs = np.zeros( (len(Bs), sgx.shape[0]) )\n",
    "\n",
    "# Transform Bfield vector into reference frame \n",
    "bx, by, bz = Rx(theta_x)@Rz(theta_z)@Rs(B_theta, B_phi)\n",
    "\n",
    "for i, B in enumerate(Bs):\n",
    "    Bx = B*bx\n",
    "    By = B*by\n",
    "    Bz = B*bz    \n",
    "    \n",
    "    HC = w_C/2*tensor(eux*eux.dag() + euy*euy.dag() - egx*egx.dag() - egy*egy.dag(), qeye(2))\n",
    "    \n",
    "    HSO = lbd_SO_g/2 * sgy * Sz + lbd_SO_u/2 * suy * Sz\n",
    "    \n",
    "    HZS = g_e * muB/2 * (Sx * Bx + Sy * By + Sz * Bz)\n",
    "    HZL = q * muB * (sgy + suy) * Bz\n",
    "    \n",
    "    HStr = alpha_g*sgz + beta_g*sgx + alpha_u*suz + beta_g*sux\n",
    "    \n",
    "    H = HC + HSO + HZS + HZL + HStr    \n",
    "    H = H.tidyup(1e-10)\n",
    "    \n",
    "    engs[i, :] = H.eigenstates()[0]     \n",
    "\n",
    "    \n",
    "gs = 0.5 * abs((tensor(egm.dag(), su.dag())*H*tensor(egm, su) - tensor(egp.dag(), su.dag())*H*tensor(egp, su))[0,0])\n",
    "gs += 0.5 * abs((tensor(egp.dag(), sd.dag())*H*tensor(egp, sd) - tensor(egm.dag(), sd.dag())*H*tensor(egm, sd))[0,0])\n",
    "print(\"Groundstate splitting: \", gs/(2*np.pi))\n",
    "es = 0.5 * abs((tensor(eum.dag(), su.dag())*H*tensor(eum, su) - tensor(eup.dag(), su.dag())*H*tensor(eup, su))[0,0])\n",
    "es += 0.5 * abs((tensor(eup.dag(), sd.dag())*H*tensor(eup, sd) - tensor(eum.dag(), sd.dag())*H*tensor(eum, sd))[0,0])\n",
    "print(\"Excited state splitting: \", es/(2*np.pi))\n",
    "\n",
    "print(engs[-1,:])\n",
    "print(\"5-4 Splitting: \", (engs[-1,5] - engs[-1,4])/(2*pi))\n",
    "print(\"3-2 Splitting: \", (engs[-1,3] - engs[-1,2])/(2*pi))\n",
    "print(\"1-0 Splitting: \", (engs[-1,1] - engs[-1,0])/(2*pi))\n",
    "print(\"2-0 Splitting: \", (engs[-1,2] - engs[-1,0])/(2*pi))\n",
    "\n",
    "\n",
    "fig, axs = plt.subplots(2,1, figsize=(20,10), sharex=True, squeeze=True)\n",
    "for j in range(int(engs.shape[1]/2)):    \n",
    "    \n",
    "    axs[0].plot(Bs, (engs[:,j+int(engs.shape[1]/2)]-w_C/2)*1/(2*pi), color='k', alpha=0.8, lw=2)\n",
    "    axs[1].plot(Bs, (engs[:,j]+w_C/2)*1/(2*pi), color='k', alpha=0.8, lw=2)\n",
    "\n",
    "axs[1].set_ylabel(\"Rel. Split. GS (GHz)\")\n",
    "axs[1].set_xlabel(\"Field Strength (T)\")\n",
    "axs[0].set_ylabel(\"Rel. Split. ES (GHz)\")\n",
    "plt.subplots_adjust(wspace=0, hspace=0)"
   ]
  },
  {
   "cell_type": "code",
   "execution_count": 9,
   "metadata": {},
   "outputs": [
    {
     "name": "stdout",
     "output_type": "stream",
     "text": [
      "Extrapolated T1:  40000.00000000219\n"
     ]
    }
   ],
   "source": [
    "Gamma_opt = 1e-3*1/(2*pi*1.73)\n",
    "Gamma_phon_g0 = 1e-3*1/(2*pi*40)\n",
    "Gamma_phon_u0 = 1e-3*1/(2*pi*0.4)\n",
    "Gamma_spin = 1e-3*1/(1e3)\n",
    "\n",
    "gs0 = lbd_SO_g\n",
    "# gs = tensor(egp*egm.dag(),su*su.dag()) /(2*pi)\n",
    "# es = (engs[-1,6]-engs[-1,4])/(2*pi)\n",
    "\n",
    "Gamma_phon_g = Gamma_phon_g0*(gs/gs0)**3 * coth(gs,T) / coth(gs0,T)\n",
    "Gamma_phon_g = Gamma_phon_g\n",
    "print(\"Extrapolated T1: \", 1/(2*pi*Gamma_phon_g))\n",
    "\n",
    "es0 = lbd_SO_u\n",
    "Gamma_phon_u = Gamma_phon_u0*(es/es0)**3 * coth(es,T) / coth(es0,T)\n",
    "\n",
    "c_ops = []\n",
    "\n",
    "# Optical decays defined from SO basis (only Emission relevant)\n",
    "c_ops.append(np.sqrt(Gamma_opt)*sigm_x)\n",
    "c_ops.append(np.sqrt(Gamma_opt)*sigm_y)\n",
    "c_ops.append(np.sqrt(Gamma_opt)*sigm_z)\n",
    "\n",
    "# Phononic relaxation\n",
    "# Emission\n",
    "c_ops.append(np.sqrt(1/(boltzmann(gs*1e9, T)+1)*Gamma_phon_g) * (tensor(egp*egm.dag(),su*su.dag()) + tensor(egm*egp.dag(), sd*sd.dag())))\n",
    "c_ops.append(np.sqrt(1/(boltzmann(es*1e9, T)+1)*Gamma_phon_u) * (tensor(eup*eum.dag(),su*su.dag()) + tensor(eum*eup.dag(), sd*sd.dag())))\n",
    "\n",
    "# Absorption\n",
    "c_ops.append(np.sqrt(boltzmann(gs*1e9, T)/(boltzmann(gs*1e9, T)+1)*Gamma_phon_g) * (tensor(egp*egm.dag(),sd*sd.dag()) + tensor(egm*egp.dag(),su*su.dag())))\n",
    "c_ops.append(np.sqrt(boltzmann(es*1e9, T)/(boltzmann(es*1e9, T)+1)*Gamma_phon_u) * (tensor(eup*eum.dag(),sd*sd.dag()) + tensor(eum*eup.dag(),su*su.dag())))\n",
    "\n",
    "#Spin relaxation\n",
    "# c_ops.append(np.sqrt(Gamma_spin)*tensor(egm*egp.dag() + egp*egm.dag() + eum*eup.dag() + eup*eum.dag(), sd*su.dag()))\n",
    "# c_ops.append(np.sqrt(Gamma_spin)*tensor(egp*egm.dag() + egm*egp.dag() + eum*eup.dag() + eup*eum.dag(), su*sd.dag())) \n",
    "c_ops.append(np.sqrt(Gamma_spin)*tensor(qeye(4), sd*su.dag()))\n",
    "c_ops.append(np.sqrt(Gamma_spin)*tensor(qeye(4), su*sd.dag())) "
   ]
  },
  {
   "cell_type": "code",
   "execution_count": 10,
   "metadata": {
    "scrolled": true
   },
   "outputs": [],
   "source": [
    "trans_engs = np.zeros(H.shape)\n",
    "trans_dipoles = np.zeros(H.shape)\n",
    "\n",
    "engs_ = H.eigenstates()[0]\n",
    "evs_ = H.eigenstates()[1]\n",
    "\n",
    "for i, engi in enumerate(engs_):\n",
    "    for j, engj in enumerate(engs_[:i]):         \n",
    "        if round(abs(engi-engj),3)<1e4: continue\n",
    "        trans_engs[i,j] = abs(engi-engj)\n",
    "        trans_dipoles[i,j] = abs((evs_[i].dag() * px * evs_[j])[0,0])**2 + abs((evs_[i].dag() * py * evs_[j])[0,0])**2 + abs((evs_[i].dag() * pz * evs_[j])[0,0])**2\n",
    "\n",
    "# transitions = list(sorted(set(trans_engs[trans_engs.nonzero()])))\n",
    "transitions = np.array(list(sorted(trans_engs[trans_engs.nonzero()])))\n",
    "\n",
    "D = transitions[0*len(transitions)//4:1*len(transitions)//4]\n",
    "C = transitions[1*len(transitions)//4:2*len(transitions)//4]\n",
    "B = transitions[2*len(transitions)//4:3*len(transitions)//4]\n",
    "A = transitions[3*len(transitions)//4:4*len(transitions)//4]"
   ]
  },
  {
   "cell_type": "code",
   "execution_count": 707,
   "metadata": {},
   "outputs": [
    {
     "name": "stdout",
     "output_type": "stream",
     "text": [
      "10.0%. Run time:  14.75s. Est. time left: 00:00:02:12\n"
     ]
    },
    {
     "ename": "KeyboardInterrupt",
     "evalue": "",
     "output_type": "error",
     "traceback": [
      "\u001b[1;31m---------------------------------------------------------------------------\u001b[0m",
      "\u001b[1;31mKeyboardInterrupt\u001b[0m                         Traceback (most recent call last)",
      "\u001b[1;32m<ipython-input-707-56f4b9ae48b3>\u001b[0m in \u001b[0;36m<module>\u001b[1;34m\u001b[0m\n\u001b[0;32m     48\u001b[0m         \u001b[0mevs_\u001b[0m\u001b[1;33m[\u001b[0m\u001b[1;36m7\u001b[0m\u001b[1;33m]\u001b[0m\u001b[1;33m*\u001b[0m\u001b[0mevs_\u001b[0m\u001b[1;33m[\u001b[0m\u001b[1;36m7\u001b[0m\u001b[1;33m]\u001b[0m\u001b[1;33m.\u001b[0m\u001b[0mdag\u001b[0m\u001b[1;33m(\u001b[0m\u001b[1;33m)\u001b[0m\u001b[1;33m\u001b[0m\u001b[0m\n\u001b[0;32m     49\u001b[0m     ]\n\u001b[1;32m---> 50\u001b[1;33m     \u001b[0mresults\u001b[0m \u001b[1;33m=\u001b[0m \u001b[0mmesolve\u001b[0m\u001b[1;33m(\u001b[0m\u001b[1;33m[\u001b[0m\u001b[0mH\u001b[0m \u001b[1;33m-\u001b[0m \u001b[0mw_L\u001b[0m\u001b[1;33m/\u001b[0m\u001b[1;36m2\u001b[0m \u001b[1;33m*\u001b[0m \u001b[0mHC\u001b[0m\u001b[1;33m/\u001b[0m\u001b[1;33m(\u001b[0m\u001b[0mw_C\u001b[0m\u001b[1;33m/\u001b[0m\u001b[1;36m2\u001b[0m\u001b[1;33m)\u001b[0m\u001b[1;33m,\u001b[0m \u001b[1;33m[\u001b[0m\u001b[0mHint\u001b[0m\u001b[1;33m,\u001b[0m\u001b[0mseq\u001b[0m\u001b[1;33m]\u001b[0m\u001b[1;33m]\u001b[0m\u001b[1;33m,\u001b[0m \u001b[0mrho0\u001b[0m\u001b[1;33m,\u001b[0m \u001b[0mtlist\u001b[0m\u001b[1;33m,\u001b[0m \u001b[0mc_ops\u001b[0m\u001b[1;33m=\u001b[0m\u001b[0mc_ops\u001b[0m\u001b[1;33m,\u001b[0m \u001b[0me_ops\u001b[0m\u001b[1;33m=\u001b[0m\u001b[0me_ops\u001b[0m\u001b[1;33m,\u001b[0m \u001b[0mprogress_bar\u001b[0m \u001b[1;33m=\u001b[0m \u001b[0mui\u001b[0m\u001b[1;33m.\u001b[0m\u001b[0mTextProgressBar\u001b[0m\u001b[1;33m(\u001b[0m\u001b[1;33m)\u001b[0m\u001b[1;33m)\u001b[0m\u001b[1;33m\u001b[0m\u001b[0m\n\u001b[0m\u001b[0;32m     51\u001b[0m     \u001b[0mexps\u001b[0m \u001b[1;33m=\u001b[0m \u001b[0mnp\u001b[0m\u001b[1;33m.\u001b[0m\u001b[0marray\u001b[0m\u001b[1;33m(\u001b[0m\u001b[0mresults\u001b[0m\u001b[1;33m.\u001b[0m\u001b[0mexpect\u001b[0m\u001b[1;33m)\u001b[0m\u001b[1;33m\u001b[0m\u001b[0m\n\u001b[0;32m     52\u001b[0m \u001b[1;33m\u001b[0m\u001b[0m\n",
      "\u001b[1;32mc:\\program files (x86)\\python36\\lib\\site-packages\\qutip\\mesolve.py\u001b[0m in \u001b[0;36mmesolve\u001b[1;34m(H, rho0, tlist, c_ops, e_ops, args, options, progress_bar, _safe_mode)\u001b[0m\n\u001b[0;32m    267\u001b[0m \u001b[1;33m\u001b[0m\u001b[0m\n\u001b[0;32m    268\u001b[0m     res = _generic_ode_solve(func, ode_args, rho0, tlist, e_ops, options,\n\u001b[1;32m--> 269\u001b[1;33m                              progress_bar, dims=rho0.dims)\n\u001b[0m\u001b[0;32m    270\u001b[0m \u001b[1;33m\u001b[0m\u001b[0m\n\u001b[0;32m    271\u001b[0m     \u001b[1;32mif\u001b[0m \u001b[0me_ops_dict\u001b[0m\u001b[1;33m:\u001b[0m\u001b[1;33m\u001b[0m\u001b[0m\n",
      "\u001b[1;32mc:\\program files (x86)\\python36\\lib\\site-packages\\qutip\\mesolve.py\u001b[0m in \u001b[0;36m_generic_ode_solve\u001b[1;34m(func, ode_args, rho0, tlist, e_ops, opt, progress_bar, dims)\u001b[0m\n\u001b[0;32m    513\u001b[0m \u001b[1;33m\u001b[0m\u001b[0m\n\u001b[0;32m    514\u001b[0m         \u001b[1;32mif\u001b[0m \u001b[0mt_idx\u001b[0m \u001b[1;33m<\u001b[0m \u001b[0mn_tsteps\u001b[0m \u001b[1;33m-\u001b[0m \u001b[1;36m1\u001b[0m\u001b[1;33m:\u001b[0m\u001b[1;33m\u001b[0m\u001b[0m\n\u001b[1;32m--> 515\u001b[1;33m             \u001b[0mr\u001b[0m\u001b[1;33m.\u001b[0m\u001b[0mintegrate\u001b[0m\u001b[1;33m(\u001b[0m\u001b[0mr\u001b[0m\u001b[1;33m.\u001b[0m\u001b[0mt\u001b[0m \u001b[1;33m+\u001b[0m \u001b[0mdt\u001b[0m\u001b[1;33m[\u001b[0m\u001b[0mt_idx\u001b[0m\u001b[1;33m]\u001b[0m\u001b[1;33m)\u001b[0m\u001b[1;33m\u001b[0m\u001b[0m\n\u001b[0m\u001b[0;32m    516\u001b[0m \u001b[1;33m\u001b[0m\u001b[0m\n\u001b[0;32m    517\u001b[0m     \u001b[0mprogress_bar\u001b[0m\u001b[1;33m.\u001b[0m\u001b[0mfinished\u001b[0m\u001b[1;33m(\u001b[0m\u001b[1;33m)\u001b[0m\u001b[1;33m\u001b[0m\u001b[0m\n",
      "\u001b[1;32mc:\\program files (x86)\\python36\\lib\\site-packages\\scipy\\integrate\\_ode.py\u001b[0m in \u001b[0;36mintegrate\u001b[1;34m(self, t, step, relax)\u001b[0m\n\u001b[0;32m    430\u001b[0m             self._y, self.t = mth(self.f, self.jac or (lambda: None),\n\u001b[0;32m    431\u001b[0m                                   \u001b[0mself\u001b[0m\u001b[1;33m.\u001b[0m\u001b[0m_y\u001b[0m\u001b[1;33m,\u001b[0m \u001b[0mself\u001b[0m\u001b[1;33m.\u001b[0m\u001b[0mt\u001b[0m\u001b[1;33m,\u001b[0m \u001b[0mt\u001b[0m\u001b[1;33m,\u001b[0m\u001b[1;33m\u001b[0m\u001b[0m\n\u001b[1;32m--> 432\u001b[1;33m                                   self.f_params, self.jac_params)\n\u001b[0m\u001b[0;32m    433\u001b[0m         \u001b[1;32mexcept\u001b[0m \u001b[0mSystemError\u001b[0m\u001b[1;33m:\u001b[0m\u001b[1;33m\u001b[0m\u001b[0m\n\u001b[0;32m    434\u001b[0m             \u001b[1;31m# f2py issue with tuple returns, see ticket 1187.\u001b[0m\u001b[1;33m\u001b[0m\u001b[1;33m\u001b[0m\u001b[0m\n",
      "\u001b[1;32mc:\\program files (x86)\\python36\\lib\\site-packages\\scipy\\integrate\\_ode.py\u001b[0m in \u001b[0;36mrun\u001b[1;34m(self, f, jac, y0, t0, t1, f_params, jac_params)\u001b[0m\n\u001b[0;32m   1002\u001b[0m         args = ((f, jac, y0, t0, t1) + tuple(self.call_args) +\n\u001b[0;32m   1003\u001b[0m                 (f_params, jac_params))\n\u001b[1;32m-> 1004\u001b[1;33m         \u001b[0my1\u001b[0m\u001b[1;33m,\u001b[0m \u001b[0mt\u001b[0m\u001b[1;33m,\u001b[0m \u001b[0mistate\u001b[0m \u001b[1;33m=\u001b[0m \u001b[0mself\u001b[0m\u001b[1;33m.\u001b[0m\u001b[0mrunner\u001b[0m\u001b[1;33m(\u001b[0m\u001b[1;33m*\u001b[0m\u001b[0margs\u001b[0m\u001b[1;33m)\u001b[0m\u001b[1;33m\u001b[0m\u001b[0m\n\u001b[0m\u001b[0;32m   1005\u001b[0m         \u001b[0mself\u001b[0m\u001b[1;33m.\u001b[0m\u001b[0mistate\u001b[0m \u001b[1;33m=\u001b[0m \u001b[0mistate\u001b[0m\u001b[1;33m\u001b[0m\u001b[0m\n\u001b[0;32m   1006\u001b[0m         \u001b[1;32mif\u001b[0m \u001b[0mistate\u001b[0m \u001b[1;33m<\u001b[0m \u001b[1;36m0\u001b[0m\u001b[1;33m:\u001b[0m\u001b[1;33m\u001b[0m\u001b[0m\n",
      "\u001b[1;31mKeyboardInterrupt\u001b[0m: "
     ]
    }
   ],
   "source": [
    "pwidth = 100\n",
    "ptau = 100\n",
    "pN = 10\n",
    "pL = pN * pwidth + np.sum(np.arange(1,pN,1))*ptau\n",
    "\n",
    "tlist = np.arange(0, pL, 0.05)\n",
    "starts, stops, seq = pulse_seq(tlist, pwidth, tau=ptau, N=pN)\n",
    "\n",
    "B = 0.3\n",
    "B_thetas = np.linspace(-45, 45, 1)\n",
    "B_phi = 45\n",
    "T1 = np.zeros_like(B_thetas)\n",
    "peaks = np.zeros( (len(B_thetas), pN) )\n",
    "for i, B_theta in enumerate(B_thetas):\n",
    "    # Transform Bfield vector into reference frame \n",
    "    bx, by, bz = Rx(theta_x)@Rz(theta_z)@Rs(B_theta, B_phi)\n",
    "    Bx = B*bx\n",
    "    By = B*by\n",
    "    Bz = B*bz    \n",
    "    \n",
    "    HC = w_C/2*tensor(eux*eux.dag() + euy*euy.dag() - egx*egx.dag() - egy*egy.dag(), qeye(2))\n",
    "    \n",
    "    HSO = -lbd_SO_g/2 * sgy * Sz -lbd_SO_u/2 * suy * Sz\n",
    "    \n",
    "    HZS = g_e * muB/2 * (Sx * Bx + Sy * By + Sz * Bz)\n",
    "    HZL = -0.13 * muB * (-sgy - suy) * Bz\n",
    "    \n",
    "    HStr = alpha_g*sgz + beta_g*sgx + alpha_u*suz + beta_g*sux\n",
    "    \n",
    "    H = HC + HSO + HZS + HZL + HStr    \n",
    "    H = H.tidyup(1e-10)\n",
    "    \n",
    "    engs, evs = H.eigenstates() \n",
    "\n",
    "    w_L = engs[5] - engs[0]\n",
    "    Omega_L = 20*Gamma_opt\n",
    "    Hint = Omega_L/2 * (evs[5]*evs[0].dag() + evs[0]*evs[5].dag())\n",
    "\n",
    "    rho0 = steadystate(H, c_ops)\n",
    "    e_ops_ = [\n",
    "        evs_[0]*evs_[0].dag(),\n",
    "        evs_[1]*evs_[1].dag(),\n",
    "        evs_[2]*evs_[2].dag(),\n",
    "        evs_[3]*evs_[3].dag(),\n",
    "        evs_[4]*evs_[4].dag(),\n",
    "        evs_[5]*evs_[5].dag(),\n",
    "        evs_[6]*evs_[6].dag(),\n",
    "        evs_[7]*evs_[7].dag()\n",
    "    ]\n",
    "    results = mesolve([H - w_L/2 * HC/(w_C/2), [Hint,seq]], rho0, tlist, c_ops=c_ops, e_ops=e_ops, progress_bar = ui.TextProgressBar())\n",
    "    exps = np.array(results.expect)\n",
    "    \n",
    "    pops_tot = np.sum(np.array(results.expect)[4:,:], axis=0)\n",
    "    for j, (start, stop) in enumerate(zip(starts, stops)):    \n",
    "        peaks[i, j] = np.sum(pops_tot[np.argwhere( (tlist >= start) & (tlist < stop)).flatten()])\n",
    "\n",
    "    x = np.arange(1, pN) \n",
    "    print(peaks)\n",
    "    y = peaks[i, 1:]/peaks[i, 0]\n",
    "    fit_func= lambda tau, a, T0, T1: a*(1-np.exp(-(tau-T0)/T1))\n",
    "    try:        \n",
    "        popt, pcov = cf(fit_func, x, y)\n",
    "        T1[i] = popt[2]*ptau\n",
    "    except:\n",
    "        print(\"Fit error\")"
   ]
  },
  {
   "cell_type": "code",
   "execution_count": 8,
   "metadata": {
    "scrolled": true
   },
   "outputs": [
    {
     "ename": "NameError",
     "evalue": "name 'pN' is not defined",
     "output_type": "error",
     "traceback": [
      "\u001b[1;31m---------------------------------------------------------------------------\u001b[0m",
      "\u001b[1;31mNameError\u001b[0m                                 Traceback (most recent call last)",
      "\u001b[1;32m<ipython-input-8-56fa4dbb041e>\u001b[0m in \u001b[0;36m<module>\u001b[1;34m\u001b[0m\n\u001b[1;32m----> 1\u001b[1;33m \u001b[0mpL\u001b[0m \u001b[1;33m=\u001b[0m \u001b[0mpN\u001b[0m \u001b[1;33m*\u001b[0m \u001b[0mpwidth\u001b[0m \u001b[1;33m+\u001b[0m \u001b[0mnp\u001b[0m\u001b[1;33m.\u001b[0m\u001b[0msum\u001b[0m\u001b[1;33m(\u001b[0m\u001b[0mnp\u001b[0m\u001b[1;33m.\u001b[0m\u001b[0marange\u001b[0m\u001b[1;33m(\u001b[0m\u001b[1;36m1\u001b[0m\u001b[1;33m,\u001b[0m\u001b[0mpN\u001b[0m\u001b[1;33m,\u001b[0m\u001b[1;36m1\u001b[0m\u001b[1;33m)\u001b[0m\u001b[1;33m)\u001b[0m\u001b[1;33m*\u001b[0m\u001b[0mptau\u001b[0m\u001b[1;33m\u001b[0m\u001b[0m\n\u001b[0m\u001b[0;32m      2\u001b[0m \u001b[0mpeaks\u001b[0m \u001b[1;33m=\u001b[0m \u001b[0mnp\u001b[0m\u001b[1;33m.\u001b[0m\u001b[0mzeros\u001b[0m\u001b[1;33m(\u001b[0m\u001b[0mpN\u001b[0m\u001b[1;33m)\u001b[0m\u001b[1;33m\u001b[0m\u001b[0m\n\u001b[0;32m      3\u001b[0m \u001b[1;32mfor\u001b[0m \u001b[0mi\u001b[0m\u001b[1;33m,\u001b[0m \u001b[1;33m(\u001b[0m\u001b[0mstart\u001b[0m\u001b[1;33m,\u001b[0m \u001b[0mstop\u001b[0m\u001b[1;33m)\u001b[0m \u001b[1;32min\u001b[0m \u001b[0menumerate\u001b[0m\u001b[1;33m(\u001b[0m\u001b[0mzip\u001b[0m\u001b[1;33m(\u001b[0m\u001b[0mstarts\u001b[0m\u001b[1;33m,\u001b[0m \u001b[0mstops\u001b[0m\u001b[1;33m)\u001b[0m\u001b[1;33m)\u001b[0m\u001b[1;33m:\u001b[0m\u001b[1;33m\u001b[0m\u001b[0m\n\u001b[0;32m      4\u001b[0m     \u001b[0mpeaks\u001b[0m\u001b[1;33m[\u001b[0m\u001b[0mi\u001b[0m\u001b[1;33m]\u001b[0m \u001b[1;33m=\u001b[0m \u001b[0mnp\u001b[0m\u001b[1;33m.\u001b[0m\u001b[0msum\u001b[0m\u001b[1;33m(\u001b[0m\u001b[0mpops_tot\u001b[0m\u001b[1;33m[\u001b[0m\u001b[0mnp\u001b[0m\u001b[1;33m.\u001b[0m\u001b[0margwhere\u001b[0m\u001b[1;33m(\u001b[0m \u001b[1;33m(\u001b[0m\u001b[0mtlist\u001b[0m \u001b[1;33m>=\u001b[0m \u001b[0mstart\u001b[0m\u001b[1;33m)\u001b[0m \u001b[1;33m&\u001b[0m \u001b[1;33m(\u001b[0m\u001b[0mtlist\u001b[0m \u001b[1;33m<\u001b[0m \u001b[0mstop\u001b[0m\u001b[1;33m)\u001b[0m\u001b[1;33m)\u001b[0m\u001b[1;33m.\u001b[0m\u001b[0mflatten\u001b[0m\u001b[1;33m(\u001b[0m\u001b[1;33m)\u001b[0m\u001b[1;33m]\u001b[0m\u001b[1;33m)\u001b[0m\u001b[1;33m\u001b[0m\u001b[0m\n\u001b[0;32m      5\u001b[0m \u001b[1;33m\u001b[0m\u001b[0m\n",
      "\u001b[1;31mNameError\u001b[0m: name 'pN' is not defined"
     ]
    }
   ],
   "source": [
    "pL = pN * pwidth + np.sum(np.arange(1,pN,1))*ptau\n",
    "peaks = np.zeros(pN)\n",
    "for i, (start, stop) in enumerate(zip(starts, stops)):    \n",
    "    peaks[i] = np.sum(pops_tot[np.argwhere( (tlist >= start) & (tlist < stop)).flatten()])\n",
    "\n",
    "x = np.arange(1, pN) \n",
    "y = peaks[1:]/peaks[0]\n",
    "fit_func= lambda tau, a, T0, T1: a*(1-np.exp(-(tau-T0)/T1))\n",
    "popt, pcov = cf(fit_func, x, y)\n",
    "plt.plot(x, y)\n",
    "plt.plot(x, fit_func(x, *popt))\n",
    "print(popt[2]*ptau)"
   ]
  },
  {
   "cell_type": "code",
   "execution_count": null,
   "metadata": {},
   "outputs": [],
   "source": [
    "Omega_L = 5*Gamma_opt\n",
    "eps_x, eps_y, eps_z = Rx(theta_x)@Rz(theta_z)@Rs(54.7+90,45)\n",
    "\n",
    "# w_Ls = np.linspace(-50+min(transitions), max(transitions)+50, 2000)\n",
    "w_Ls = np.linspace(-5+C[0], C[3]+5, 200)\n",
    "pops = np.zeros((len(w_Ls), 4)) \n",
    "I = np.zeros((len(w_Ls), 3))\n",
    "for i, w_L in enumerate(w_Ls):    \n",
    "    \n",
    "    Hint = Omega_L/2*(eps_x*px + eps_y*py + eps_z*pz) - (w_L + 0*D[1])/2 * HC/(w_C/2)\n",
    "    Hint = Hint.tidyup()\n",
    "    \n",
    "    rho_ss = steadystate(H+Hint, c_ops)\n",
    "        \n",
    "    pops[i,0] = np.real(rho_ss[4,4])\n",
    "    pops[i,1] = np.real(rho_ss[5,5])\n",
    "    pops[i,2] = np.real(rho_ss[6,6])\n",
    "    pops[i,3] = np.real(rho_ss[7,7])\n",
    "    \n",
    "    I[i,0] = abs((rho_ss*px).tr())**2\n",
    "    I[i,1] = abs((rho_ss*(-1j)*py).tr())**2\n",
    "    I[i,2] = abs((rho_ss*pz).tr())**2"
   ]
  },
  {
   "cell_type": "code",
   "execution_count": null,
   "metadata": {},
   "outputs": [],
   "source": [
    "pops_tot = np.sum(pops,axis=1)\n",
    "pops_tot = pops_tot\n",
    "\n",
    "plt.plot(w_Ls/(2*pi), pops_tot)\n",
    "\n",
    "p0 = (w_Ls[np.argmax(pops_tot)]/(2*pi), Gamma_opt, np.amax(pops_tot), 0)\n",
    "fit_func = lorentzian\n",
    "popt, pcov = cf(fit_func, w_Ls/(2*pi), pops_tot, p0=p0)\n",
    "# plt.plot(w_Ls/(2*pi), fit_func(w_Ls/(2*pi), *popt), '-r')\n",
    "print(Gamma_opt, popt[1], 1/(2*pi*popt[1]))"
   ]
  },
  {
   "cell_type": "code",
   "execution_count": 13,
   "metadata": {},
   "outputs": [],
   "source": [
    "B_thetas = np.linspace(54.7-1, 54.7+1, 10)\n",
    "\n",
    "dipxy = 1/np.sqrt(2)*(px+1j*py)\n",
    "dipz = pz/2\n",
    "d_C = np.zeros( (len(B_thetas), 4, 3) )\n",
    "d_D = np.zeros( (len(B_thetas), 4, 3) )\n",
    "\n",
    "for i, B_theta in enumerate(B_thetas):\n",
    "    B_phi = 0\n",
    "    B = 0.2\n",
    "    \n",
    "    # Transform Bfield vector into reference framge \n",
    "    bx, by, bz = Rx(theta_x)@Rz(theta_z)@Rs(B_theta, B_phi)\n",
    "    Bx = B*bx\n",
    "    By = B*by\n",
    "    Bz = B*bz    \n",
    "    \n",
    "    HC = w_C/2*tensor(eux*eux.dag() + euy*euy.dag() - egx*egx.dag() - egy*egy.dag(), qeye(2))\n",
    "    HSO = -lbd_SO_g/2 * sgy * Sz -lbd_SO_u/2 * suy * Sz\n",
    "    HZS = g_e * muB/2 * (Sx * Bx + Sy * By + Sz * Bz)\n",
    "    HZL = q * muB/2 * (-sgy - suy) * Bz\n",
    "    HStr = (alpha_g*sgz + beta_g*sgx + alpha_u*suz + beta_g*sux)\n",
    "    H = HC + HSO + HZS + HZL + HStr\n",
    "    H = H.tidyup(1e-10)\n",
    "    evs = H.eigenstates()[1]\n",
    "    # evs[0].dag()*tensor(egm*egp.dag(), sd*sd.dag())*evs[4]\n",
    "    \n",
    "    # xy and z dipoles for transition C1-C4\n",
    "    d_C[i, 0, 0] = abs((evs[1].dag()*dipxy*evs[4])[0][0][0])**2\n",
    "    d_C[i, 1, 0] = abs((evs[0].dag()*dipxy*evs[4])[0][0][0])**2\n",
    "    d_C[i, 2, 0] = abs((evs[1].dag()*dipxy*evs[5])[0][0][0])**2\n",
    "    d_C[i, 3, 0] = abs((evs[0].dag()*dipxy*evs[5])[0][0][0])**2\n",
    "    d_C[i, 0, 1] = abs((evs[1].dag()*dipz*evs[4])[0][0][0])**2\n",
    "    d_C[i, 1, 1] = abs((evs[0].dag()*dipz*evs[4])[0][0][0])**2\n",
    "    d_C[i, 2, 1] = abs((evs[1].dag()*dipz*evs[5])[0][0][0])**2\n",
    "    d_C[i, 3, 1] = abs((evs[0].dag()*dipz*evs[5])[0][0][0])**2 \n",
    "    d_C[i, 0, 2] = d_C[i, 0, 0] + d_C[i, 0, 1]\n",
    "    d_C[i, 1, 2] = d_C[i, 1, 0] + d_C[i, 1, 1]\n",
    "    d_C[i, 2, 2] = d_C[i, 2, 0] + d_C[i, 2, 1]\n",
    "    d_C[i, 3, 2] = d_C[i, 3, 0] + d_C[i, 3, 1]\n",
    "    \n",
    "    # xy and z dipoles for transition D1-D4\n",
    "    d_D[i, 0, 0] = abs((evs[3].dag()*dipxy*evs[4])[0][0][0])**2\n",
    "    d_D[i, 1, 0] = abs((evs[2].dag()*dipxy*evs[4])[0][0][0])**2\n",
    "    d_D[i, 2, 0] = abs((evs[3].dag()*dipxy*evs[5])[0][0][0])**2\n",
    "    d_D[i, 3, 0] = abs((evs[2].dag()*dipxy*evs[5])[0][0][0])**2\n",
    "    d_D[i, 0, 1] = abs((evs[3].dag()*dipz*evs[4])[0][0][0])**2\n",
    "    d_D[i, 1, 1] = abs((evs[2].dag()*dipz*evs[4])[0][0][0])**2\n",
    "    d_D[i, 2, 1] = abs((evs[3].dag()*dipz*evs[5])[0][0][0])**2\n",
    "    d_D[i, 3, 1] = abs((evs[2].dag()*dipz*evs[5])[0][0][0])**2 \n",
    "    d_D[i, 0, 2] = d_D[i, 0, 0] + d_D[i, 0, 1]\n",
    "    d_D[i, 1, 2] = d_D[i, 1, 0] + d_D[i, 1, 1]\n",
    "    d_D[i, 2, 2] = d_D[i, 2, 0] + d_D[i, 2, 1]\n",
    "    d_D[i, 3, 2] = d_D[i, 3, 0] + d_D[i, 3, 1]"
   ]
  },
  {
   "cell_type": "code",
   "execution_count": 164,
   "metadata": {},
   "outputs": [
    {
     "data": {
      "image/png": "[encoded data removed]",
      "text/plain": [
       "<Figure size 1440x720 with 24 Axes>"
      ]
     },
     "metadata": {
      "needs_background": "light"
     },
     "output_type": "display_data"
    }
   ],
   "source": [
    "fig, axs = plt.subplots(6,4, sharex=True, sharey=True, figsize=(20,10))\n",
    "\n",
    "for i in range(3):\n",
    "    for j in range(4):\n",
    "        axs[i,j].plot(B_thetas, d_C[:, j, i], label='C'+str(j))\n",
    "        axs[i,j].set_title(\"Max Dip. Str. \"+str(round(max(d_C[:, j, i]),3)))\n",
    "        \n",
    "for i in range(3):\n",
    "    for j in range(4):\n",
    "        axs[3+i,j].plot(B_thetas, d_D[:, j, i], label='D'+str(j))\n",
    "        axs[3+i,j].set_title(\"Max Dip. Str. \"+str(round(max(d_D[:, j, i]),3)))"
   ]
  },
  {
   "cell_type": "code",
   "execution_count": 420,
   "metadata": {},
   "outputs": [
    {
     "name": "stdout",
     "output_type": "stream",
     "text": [
      "[1.81123495 0.99698672]\n"
     ]
    },
    {
     "data": {
      "text/plain": [
       "[<matplotlib.lines.Line2D at 0x2967f120b70>]"
      ]
     },
     "execution_count": 420,
     "metadata": {},
     "output_type": "execute_result"
    },
    {
     "data": {
      "image/png": "[encoded data removed]",
      "text/plain": [
       "<Figure size 432x288 with 1 Axes>"
      ]
     },
     "metadata": {
      "needs_background": "light"
     },
     "output_type": "display_data"
    }
   ],
   "source": [
    "rho0 = evs_[4]*evs_[4].dag()\n",
    "tlist = np.linspace(0,10,300)\n",
    "fit_func = lambda t, tau, a: a*np.exp(-t/tau)\n",
    "exp_ = mesolve(H, rho0, tlist, c_ops, rho0).expect[0]\n",
    "plt.plot(tlist, exp_)\n",
    "popt, pcov = cf(fit_func, tlist, exp_)\n",
    "print(popt)\n",
    "plt.plot(tlist, fit_func(tlist, *popt))"
   ]
  },
  {
   "cell_type": "code",
   "execution_count": 449,
   "metadata": {},
   "outputs": [
    {
     "data": {
      "text/plain": [
       "[<matplotlib.lines.Line2D at 0x296016902e8>]"
      ]
     },
     "execution_count": 449,
     "metadata": {},
     "output_type": "execute_result"
    },
    {
     "data": {
      "image/png": "[encoded data removed]",
      "text/plain": [
       "<Figure size 432x288 with 1 Axes>"
      ]
     },
     "metadata": {
      "needs_background": "light"
     },
     "output_type": "display_data"
    }
   ],
   "source": [
    "plt.plot(x, fit_func(x, 0.1, 150, 1))"
   ]
  }
 ],
 "metadata": {
  "kernelspec": {
   "display_name": "Python 3",
   "language": "python",
   "name": "python3"
  },
  "language_info": {
   "codemirror_mode": {
    "name": "ipython",
    "version": 3
   },
   "file_extension": ".py",
   "mimetype": "text/x-python",
   "name": "python",
   "nbconvert_exporter": "python",
   "pygments_lexer": "ipython3",
   "version": "3.6.5"
  }
 },
 "nbformat": 4,
 "nbformat_minor": 2
}
