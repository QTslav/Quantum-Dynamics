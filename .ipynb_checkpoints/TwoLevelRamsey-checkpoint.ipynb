{
 "cells": [
  {
   "cell_type": "code",
   "execution_count": 1,
   "metadata": {},
   "outputs": [
    {
     "ename": "ModuleNotFoundError",
     "evalue": "No module named 'sklearn'",
     "output_type": "error",
     "traceback": [
      "\u001b[1;31m---------------------------------------------------------------------------\u001b[0m",
      "\u001b[1;31mModuleNotFoundError\u001b[0m                       Traceback (most recent call last)",
      "\u001b[1;32m<ipython-input-1-524882af28a9>\u001b[0m in \u001b[0;36m<module>\u001b[1;34m\u001b[0m\n\u001b[0;32m      3\u001b[0m \u001b[1;32mfrom\u001b[0m \u001b[0mqutip\u001b[0m \u001b[1;32mimport\u001b[0m \u001b[1;33m*\u001b[0m\u001b[1;33m\u001b[0m\u001b[1;33m\u001b[0m\u001b[0m\n\u001b[0;32m      4\u001b[0m \u001b[1;32mfrom\u001b[0m \u001b[0mscipy\u001b[0m\u001b[1;33m.\u001b[0m\u001b[0moptimize\u001b[0m \u001b[1;32mimport\u001b[0m \u001b[0mcurve_fit\u001b[0m \u001b[1;32mas\u001b[0m \u001b[0mcf\u001b[0m\u001b[1;33m\u001b[0m\u001b[1;33m\u001b[0m\u001b[0m\n\u001b[1;32m----> 5\u001b[1;33m \u001b[1;32mfrom\u001b[0m \u001b[0msklearn\u001b[0m \u001b[1;32mimport\u001b[0m \u001b[0mpreprocessing\u001b[0m \u001b[1;32mas\u001b[0m \u001b[0mprep\u001b[0m\u001b[1;33m\u001b[0m\u001b[1;33m\u001b[0m\u001b[0m\n\u001b[0m",
      "\u001b[1;31mModuleNotFoundError\u001b[0m: No module named 'sklearn'"
     ]
    }
   ],
   "source": [
    "import numpy as np\n",
    "import matplotlib.pyplot as plt\n",
    "from qutip import *\n",
    "from scipy.optimize import curve_fit as cf\n",
    "from sklearn import preprocessing as prep\n"
   ]
  },
  {
   "cell_type": "code",
   "execution_count": 22,
   "metadata": {},
   "outputs": [
    {
     "data": {
      "text/plain": [
       "0.6851522994735559"
      ]
     },
     "execution_count": 22,
     "metadata": {},
     "output_type": "execute_result"
    }
   ],
   "source": [
    "c = 299792458\n",
    "h = 6.626e-34\n",
    "kB = 1.38e-23\n",
    "T = 8\n",
    "gs = 63e9\n",
    "boltzmann = np.exp(-h*gs/(kB*T))\n",
    "boltzmann"
   ]
  },
  {
   "cell_type": "code",
   "execution_count": 23,
   "metadata": {},
   "outputs": [
    {
     "name": "stdout",
     "output_type": "stream",
     "text": [
      "0.18129542472397056 0.08107777873849883\n"
     ]
    }
   ],
   "source": [
    "Gamma_pht = 1/(2*np.pi*1.7)\n",
    "Gamma_phn = 1/(2*np.pi*50)\n",
    "Gamma_spin = 1/(2*np.pi*1e4)\n",
    "# Gamma_deph = 1/(2*np.pi*100)\n",
    "\n",
    "eta = .25\n",
    "OmegaC3 = np.sqrt(150/10)/2*Gamma_pht\n",
    "OmegaC1 = np.sqrt(600/50)/2*Gamma_pht*np.sqrt(eta)\n",
    "print(OmegaC3, OmegaC1)"
   ]
  },
  {
   "cell_type": "code",
   "execution_count": 40,
   "metadata": {},
   "outputs": [
    {
     "ename": "SyntaxError",
     "evalue": "unexpected EOF while parsing (<ipython-input-40-3f5d445228de>, line 31)",
     "output_type": "error",
     "traceback": [
      "\u001b[1;36m  File \u001b[1;32m\"<ipython-input-40-3f5d445228de>\"\u001b[1;36m, line \u001b[1;32m31\u001b[0m\n\u001b[1;33m    \u001b[0m\n\u001b[1;37m    ^\u001b[0m\n\u001b[1;31mSyntaxError\u001b[0m\u001b[1;31m:\u001b[0m unexpected EOF while parsing\n"
     ]
    }
   ],
   "source": [
    "a1 = basis(5,0)\n",
    "a2 = basis(5,1)\n",
    "b1 = basis(5,2)\n",
    "b2 = basis(5,3)\n",
    "c = basis(5,4)\n",
    "\n",
    "Gamma_c = np.sqrt(Gamma_pht)*(eta*(b1+a1)+b2+a2)*c.dag()\n",
    "\n",
    "Gamma_a1 = (np.sqrt(Gamma_spin)*a2 + (np.sqrt(boltzmann*Gamma_phn)*b2 + np.sqrt(boltzmann*Gamma_phn)*b1))*a1.dag()\n",
    "Gamma_a2 = (np.sqrt(Gamma_spin)*a1 + (np.sqrt(boltzmann*Gamma_phn)*b1 + np.sqrt(boltzmann*Gamma_phn)*b2))*a2.dag()\n",
    "\n",
    "Gamma_b1 = (np.sqrt(Gamma_spin)*b2+(np.sqrt(eta*Gamma_phn)*a2 + np.sqrt(Gamma_phn)*a1))*b1.dag()\n",
    "Gamma_b2 = (np.sqrt(Gamma_spin)*b1+(np.sqrt(eta*Gamma_phn)*a1 + np.sqrt(Gamma_phn)*a2))*b2.dag()\n",
    "\n",
    "# Gamma_pure_deph = np.sqrt(Gamma_deph)*(a2*a2.dag()-a1*a1.dag()+b2*b2.dag()-b1*b1.dag())\n",
    "\n",
    "c_ops = [Gamma_c, Gamma_a1, Gamma_a2, Gamma_b1, Gamma_b2]\n",
    "\n",
    "def sigmoid(x, a, x0):\n",
    "    return 1/(np.exp(-(x-x0)/a)+1)\n",
    "\n",
    "def seqC3(t, args): \n",
    "    tstart = args['tstart']\n",
    "    pulsewidth =args['pulsewidth']\n",
    "    return np.where(t<pulsewidth/2+tstart, sigmoid(t,0.86,4+tstart),1-sigmoid(t,0.86,pulsewidth+2+tstart))\n",
    "\n",
    "\n",
    "def CPT(t, deltaC1, deltaC3, pulseC1, pulseC3, OmegaC1, OmegaC3):\n",
    "    \n",
    "    HintC1 = OmegaC1/2*(a1*c.dag() + c*a1.dag()) \n",
    "    HintC3 = OmegaC3/2*(a2*c.dag() + c*a2.dag())\n",
    "\n",
    "    Hsys = (deltaC1-deltaC3)*a2*a2.dag() + deltaC3*c*c.dag()\n",
    "    H = [Hsys, [HintC1, pulseC1], [HintC3, pulseC3]]\n",
    "\n",
    "    rho0 = a1*a1.dag() + a2*a2.dag() + boltzmann*(b1*b1.dag() + b2*b2.dag())\n",
    "    rho0 = rho0/rho0.tr()\n",
    "    rho0 = steadystate(Hsys+HintC1, c_ops)\n",
    "    e_ops = [a1*a1.dag(), a2*a2.dag(), b1*b1.dag(), b2*b2.dag(), c*c.dag()]\n",
    "    \n",
    "    output = mesolve(H, rho0, t, c_ops=c_ops, e_ops=e_ops, args=pulse_args)\n",
    "    \n",
    "    return ouput"
   ]
  },
  {
   "cell_type": "code",
   "execution_count": null,
   "metadata": {},
   "outputs": [],
   "source": [
    "tstart = 0\n",
    "pulsewidth = pulsewidth\n",
    "tmax = tstart + 2*pulsewidth\n",
    "pulses_args = {'tstart':tstart, 'pulsewidth':pulsewidth}\n",
    "t = np.linspace(0, tmax, 500)"
   ]
  },
  {
   "cell_type": "code",
   "execution_count": 25,
   "metadata": {},
   "outputs": [
    {
     "name": "stderr",
     "output_type": "stream",
     "text": [
      "C:\\Program Files (x86)\\Python36\\lib\\site-packages\\ipykernel_launcher.py:23: RuntimeWarning: overflow encountered in exp\n"
     ]
    },
    {
     "data": {
      "image/png": "[encoded data removed]",
      "text/plain": [
       "<Figure size 432x288 with 2 Axes>"
      ]
     },
     "metadata": {
      "needs_background": "light"
     },
     "output_type": "display_data"
    }
   ],
   "source": [
    "deltas = np.arange(50, 51, 1)*Gamma_pht\n",
    "pulsewidths = np.arange(10,200,0.5)\n",
    "peak_heights = np.zeros((len(deltas),len(pulsewidths)))\n",
    "for i, delta in enumerate(deltas):\n",
    "    for j, pulsewidth in enumerate(pulsewidths):\n",
    "        deltaC1 = delta\n",
    "        deltaC3 = deltaC1\n",
    "        Hsys = (deltaC1-deltaC3)*a2*a2.dag() + deltaC3*c*c.dag()\n",
    "        H = [Hsys+HintC1, [HintC3, seqC3]]\n",
    "\n",
    "        rho0 = a1*a1.dag() + a2*a2.dag() + boltzmann*(b1*b1.dag() + b2*b2.dag())\n",
    "        rho0 = rho0/rho0.tr()\n",
    "        rho0 = steadystate(Hsys+HintC1, c_ops)\n",
    "        e_ops = [a1*a1.dag(), a2*a2.dag(), b1*b1.dag(), b2*b2.dag(), c*c.dag()]\n",
    "\n",
    "        tstart = 0\n",
    "        pulsewidth = pulsewidth\n",
    "        tmax = tstart + 2*pulsewidth\n",
    "        pulse_args = {'tstart':tstart, 'pulsewidth':pulsewidth}\n",
    "        t = np.linspace(0, tmax, 500)\n",
    "        \n",
    "        output = mesolve(H, rho0, t, c_ops=c_ops, e_ops=e_ops, args=pulse_args)\n",
    "        cts = output.expect[0]\n",
    "        \n",
    "        peak_heights[i,j] = cts[np.argmin(np.abs(t-(tstart+pulsewidth)))+1]\n",
    "\n",
    "    \n",
    "\n",
    "    # if i%5==0:\n",
    "    fig = plt.figure()\n",
    "    ax = fig.gca()\n",
    "    ax.plot(t, output.expect[0], '-r', label='a1', alpha=0.5)\n",
    "    ax.plot(t, output.expect[1], '-b', label='a2', alpha=0.5)\n",
    "    ax.plot(t, output.expect[2], '-g', label='b1', alpha=0.3)\n",
    "    ax.plot(t, output.expect[3], '-y', label='b2', alpha=0.3)\n",
    "    \n",
    "    ax2 = ax.twinx()\n",
    "    ax2.plot(t, cts, '-k', label='c', alpha=0.8)\n",
    "    ax2.plot(t, seqC3(t, pulse_args)*max(np.amax(output.expect[0]),np.amax(output.expect[1])), '--k', alpha=0.5)\n",
    "    ax2.set_ylim([0, np.amax(cts)])\n",
    "    # ax2.set_yticks([])\n",
    "    # ax2.set_yticklabels([])\n",
    "    x = pulsewidths\n",
    "    y = peak_heights[0,:]\n",
    "    try:\n",
    "        ramsey_fit = lambda t, a, Omega, Gamma, phi, c: a*np.exp(-Gamma*t)*np.cos(Omega*t+phi) + c\n",
    "        p0 = np.amax(y), (OmegaC1+OmegaC3)/(2*delta), 1/100, 0, y[-1]\n",
    "        popt, pcov = cf(ramsey_fit, x, y, p0=p0)\n",
    "        fig.text(0, 0.5*np.amax(y), f\"{round(1/popt[2],2)}, {round(popt[1],2)}\\n {delta}\")\n",
    "    except Exception as e:\n",
    "        print(e)\n",
    "    fig.legend(loc='lower left')\n",
    "    plt.show()"
   ]
  },
  {
   "cell_type": "code",
   "execution_count": 26,
   "metadata": {},
   "outputs": [
    {
     "name": "stdout",
     "output_type": "stream",
     "text": [
      "244.2691246781649 6929.651907484228\n",
      "[-0.03677807  0.00379313  0.00409385 -0.94427214  0.21434525 -0.05448209]\n"
     ]
    },
    {
     "data": {
      "text/plain": [
       "<matplotlib.lines.Line2D at 0x1acbc761048>"
      ]
     },
     "execution_count": 26,
     "metadata": {},
     "output_type": "execute_result"
    },
    {
     "data": {
      "image/png": "[encoded data removed]",
      "text/plain": [
       "<Figure size 432x288 with 1 Axes>"
      ]
     },
     "metadata": {
      "needs_background": "light"
     },
     "output_type": "display_data"
    }
   ],
   "source": [
    "x = pulsewidths\n",
    "y = peak_heights[0,:]\n",
    "plt.plot(x, y, '-k')\n",
    "\n",
    "ramsey_fit = lambda t, a, Omega, Gamma, phi, c, b: a*(b-np.exp(-Gamma*t))*np.cos(Omega*t+phi) + c\n",
    "p0 = np.amax(y), (OmegaC1+OmegaC3)/(2*delta), 1/100, 0, y[-1], 1\n",
    "popt, pcov = cf(ramsey_fit, x, y, p0=p0)\n",
    "plt.plot(x, ramsey_fit(x, *popt), '-r')\n",
    "print(1/popt[2], 1/(2*np.pi*OmegaC1*OmegaC3*eta**2*Gamma_pht/(delta)))\n",
    "print(popt)\n",
    "plt.axhline(y[-1]-(y[-1]-y[0])/np.e)"
   ]
  },
  {
   "cell_type": "code",
   "execution_count": null,
   "metadata": {},
   "outputs": [],
   "source": []
  }
 ],
 "metadata": {
  "interpreter": {
   "hash": "a8dfa3f144a830de196bdbfb5db54add07a1b11bf849c1c65f006bf4dc04fca9"
  },
  "kernelspec": {
   "display_name": "Python 3",
   "language": "python",
   "name": "python3"
  },
  "language_info": {
   "codemirror_mode": {
    "name": "ipython",
    "version": 3
   },
   "file_extension": ".py",
   "mimetype": "text/x-python",
   "name": "python",
   "nbconvert_exporter": "python",
   "pygments_lexer": "ipython3",
   "version": "3.9.4"
  }
 },
 "nbformat": 4,
 "nbformat_minor": 2
}
