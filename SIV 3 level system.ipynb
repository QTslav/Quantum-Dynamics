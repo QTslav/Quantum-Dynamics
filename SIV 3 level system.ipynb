{
 "cells": [
  {
   "cell_type": "code",
   "execution_count": 1,
   "metadata": {},
   "outputs": [],
   "source": [
    "from qutip import *\n",
    "\n",
    "from scipy.optimize import curve_fit as cf\n",
    "\n",
    "import numpy as np\n",
    "from numpy import pi as pi\n",
    "from numpy import sqrt as sqrt\n",
    "\n",
    "import matplotlib.pyplot as plt\n",
    "font = {'family' : 'normal',\n",
    "        'weight' : 'normal',\n",
    "        'size'   : 14}\n",
    "\n",
    "plt.rc('font', **font)"
   ]
  },
  {
   "cell_type": "code",
   "execution_count": 2,
   "metadata": {},
   "outputs": [],
   "source": [
    "def Rs(t,p):\n",
    "    t = t/180*np.pi\n",
    "    p = p/180*np.pi\n",
    "    return np.array([np.sin(t)*np.cos(p), np.sin(t)*np.sin(p), np.cos(t)])    \n",
    "\n",
    "def Rx(tx):\n",
    "    tx = tx/180*np.pi\n",
    "    Rx = np.array([[1,0,0],\n",
    "                   [0,np.cos(tx),-np.sin(tx)],\n",
    "                   [0,np.sin(tx), np.cos(tx)]])\n",
    "    return Rx\n",
    "\n",
    "def Rz(tz):\n",
    "    tz= tz/180*np.pi\n",
    "    Rz = np.array([[np.cos(tz), -np.sin(tz), 0],\n",
    "                   [np.sin(tz), np.cos(tz), 0],\n",
    "                   [0, 0, 1]])    \n",
    "    return Rz\n",
    "\n",
    "def Eigenbasis_Expansion(H):\n",
    "    Q = np.zeros(H.shape, dtype=np.complex)\n",
    "    for i, ev in enumerate(H.eigenstates()[1]):    \n",
    "        Q[:,i] = ev.full().flatten()    \n",
    "    return Q"
   ]
  },
  {
   "cell_type": "code",
   "execution_count": 3,
   "metadata": {},
   "outputs": [],
   "source": [
    "def boltzmann(E, T):\n",
    "    h = 6.626e-34\n",
    "    kB = 1.38e-23\n",
    "    return np.exp(-h*E/(kB*T))\n",
    "\n",
    "def coth(gs, T):\n",
    "    h = 6.626e-34\n",
    "    kB = 1.38e-23\n",
    "    return np.tanh(h*gs*1e9/(2*kB*T))**(-1)\n",
    "\n",
    "def lorentzian(nu, nu0, Gamma, A, c):\n",
    "    return A*(Gamma/2)**2/((nu-nu0)**2+(Gamma/2)**2) + c \n",
    "\n",
    "def gaussian(nu, nu0, sigma, A, c):\n",
    "    return A*1/np.sqrt(2*np.pi*sigma**2) * np.exp(-(nu-nu0)**2/(2*sigma**2)) + c\n",
    "\n",
    "def pulse_seq(t, width, t0=0, tau=0, N=1):\n",
    "    seq = np.zeros(t.shape)\n",
    "    starts = []\n",
    "    stops = []\n",
    "    for n in range(N):\n",
    "        starts.append(t0)\n",
    "        stops.append(t0+width)\n",
    "        seq += np.where( (t>=t0)&(t<t0+width), 1, 0)        \n",
    "        t0 = t0 + width\n",
    "        t0 += (n+1)*tau\n",
    "    \n",
    "    starts = np.array(starts)\n",
    "    stops = np.array(stops)\n",
    "    return starts, stops, seq"
   ]
  },
  {
   "cell_type": "code",
   "execution_count": 334,
   "metadata": {},
   "outputs": [
    {
     "data": {
      "text/plain": [
       "array([[ 0.70710678,  0.40860704,  0.57709642],\n",
       "       [-0.70710678,  0.40860704,  0.57709642],\n",
       "       [ 0.        , -0.81613759,  0.57785762]])"
      ]
     },
     "execution_count": 334,
     "metadata": {},
     "output_type": "execute_result"
    }
   ],
   "source": [
    "h = 6.626e-34\n",
    "c = 299792458\n",
    "e = 1.62e-19\n",
    "T = 5\n",
    "\n",
    "# Bare coulomb splitting of Eg and Eu states\n",
    "w_C = 2*pi*c/736.85\n",
    "\n",
    "# Spin-orbit couplings\n",
    "lbd_SO_g = 2*pi*40\n",
    "lbd_SO_u = 2*pi*250\n",
    "\n",
    "# (Transverse) Strain couplings\n",
    "alpha_g = 2*pi*30\n",
    "beta_g = 2*pi*10\n",
    "\n",
    "alpha_u = 2*pi*1.8/1.3*alpha_g\n",
    "beta_u = 2*pi*2*beta_g\n",
    "\n",
    "# Magnetons and gyromagnetic ratio for electron and nuclear spin\n",
    "muB = 2*pi*9.274e-24/h * 1e-9\n",
    "muN = 2*pi*5.505e-23/h * 1e-9\n",
    "g_e = 2\n",
    "g_n = 1.910\n",
    "\n",
    "# Orbital angular momentum quenching factor (phenomenological)\n",
    "q = 0.1\n",
    "\n",
    "# Nuclear spin coupling strengths along and perpendicular to the electron spin quantization axis \n",
    "# (which might be different from the SiV symmmetry axis)\n",
    "A_para = 0*50e-1\n",
    "A_perp = 0*100e-2\n",
    "\n",
    "# SiV orientation (theta, phi) with respect to external lab frame, where z defines the optical axis\n",
    "# theta_x = 54.7 and theta_z = 45 corresponds to a <111> crystal direction\n",
    "theta_x = 54.7\n",
    "theta_z = 45\n",
    "\n",
    "# We can use a transformation matrix which transforms coordinates such that 111 --> 001, i.e. in this reference\n",
    "# frame the SiV symmetry axis is pointing along z\n",
    "Rz(-theta_z)@Rx(-theta_x)"
   ]
  },
  {
   "cell_type": "code",
   "execution_count": 335,
   "metadata": {},
   "outputs": [],
   "source": [
    "egx = basis(4, 0)\n",
    "egy = basis(4, 1)\n",
    "eux = basis(4, 2)\n",
    "euy = basis(4, 3)\n",
    "\n",
    "sgx = egx*egy.dag()\n",
    "sgx += sgx.dag()\n",
    "sgy = -1j*egx*egy.dag()\n",
    "sgy += sgy.dag()\n",
    "sgz = egx*egx.dag() - egy*egy.dag()\n",
    "sux = eux*euy.dag()\n",
    "sux += sux.dag()\n",
    "suy = -1j*eux*euy.dag()\n",
    "suy += suy.dag()\n",
    "suz = eux*eux.dag() - euy*euy.dag()\n",
    "\n",
    "egp = 1/np.sqrt(2)*(egx + 1j*egy)\n",
    "egm = 1/np.sqrt(2)*(egx - 1j*egy)\n",
    "eup = 1/np.sqrt(2)*(eux + 1j*euy)\n",
    "eum = 1/np.sqrt(2)*(eux - 1j*euy)\n",
    "sigm_x = egp*eum.dag() + egm*eup.dag()\n",
    "sigm_y = 1j*egp*eum.dag() -1j* egm*eup.dag()\n",
    "sigm_z = 2*(egp*eup.dag() + egm*eum.dag())\n",
    "px = sigm_x+sigm_x.dag()\n",
    "py = sigm_y+sigm_y.dag()\n",
    "pz = sigm_z+sigm_z.dag()"
   ]
  },
  {
   "cell_type": "code",
   "execution_count": 336,
   "metadata": {},
   "outputs": [],
   "source": [
    "su = basis(2,0)\n",
    "sd = basis(2,1)\n",
    "Sx = su*sd.dag() + sd*su.dag()\n",
    "Sy = -1j*su*sd.dag() + 1j*sd*su.dag()\n",
    "Sz = su*su.dag() - sd*sd.dag()"
   ]
  },
  {
   "cell_type": "code",
   "execution_count": 337,
   "metadata": {},
   "outputs": [],
   "source": [
    "Iu = basis(2,0)\n",
    "Id = basis(2,1)\n",
    "Ix = Iu*Id.dag() + Id*Iu.dag()\n",
    "Iy = -1j*Iu*Id.dag() + 1j*Id*Iu.dag()\n",
    "Iz = Iu*Iu.dag() - Id*Id.dag()"
   ]
  },
  {
   "cell_type": "code",
   "execution_count": 338,
   "metadata": {
    "scrolled": false
   },
   "outputs": [],
   "source": [
    "sgx = tensor(sgx, qeye(2))\n",
    "sgy = tensor(sgy, qeye(2))\n",
    "sgz = tensor(sgz, qeye(2))\n",
    "sux = tensor(sux, qeye(2))\n",
    "suy = tensor(suy, qeye(2))\n",
    "suz = tensor(suz, qeye(2))\n",
    "sigm_x = tensor(sigm_x, qeye(2))\n",
    "sigm_y = tensor(sigm_y, qeye(2))\n",
    "sigm_z = tensor(sigm_z, qeye(2))\n",
    "px = tensor(px, qeye(2))\n",
    "py = tensor(py, qeye(2))\n",
    "pz = tensor(pz, qeye(2))\n",
    "\n",
    "Sx = tensor(qeye(4), Sx)\n",
    "Sy = tensor(qeye(4), Sy)\n",
    "Sz = tensor(qeye(4), Sz)"
   ]
  },
  {
   "cell_type": "code",
   "execution_count": 339,
   "metadata": {},
   "outputs": [],
   "source": [
    "if max(A_para, A_perp)>0:\n",
    "    sgx = tensor(sgx, qeye(2))\n",
    "    sgy = tensor(sgy, qeye(2))\n",
    "    sgz = tensor(sgz, qeye(2))\n",
    "    sux = tensor(sux, qeye(2))\n",
    "    suy = tensor(suy, qeye(2))\n",
    "    suz = tensor(suz, qeye(2))\n",
    "    px = tensor(px, qeye(2))\n",
    "    py = tensor(py, qeye(2))\n",
    "    pz = tensor(pz, qeye(2))\n",
    "    \n",
    "    Sx = tensor(Sx, qeye(2))\n",
    "    Sy = tensor(Sy, qeye(2))\n",
    "    Sz = tensor(Sz, qeye(2))\n",
    "    \n",
    "    Ix = tensor(qeye(4), qeye(2), Ix)\n",
    "    Iy = tensor(qeye(4), qeye(2), Iy)\n",
    "    Iz = tensor(qeye(4), qeye(2), Iz)"
   ]
  },
  {
   "cell_type": "code",
   "execution_count": 340,
   "metadata": {},
   "outputs": [
    {
     "name": "stdout",
     "output_type": "stream",
     "text": [
      "Groundstate splitting:  40.00000000000884\n",
      "Excited state splitting:  250.0000000000182\n",
      "5-4 Splitting:  5.162711470572273\n",
      "3-2 Splitting:  1.7527786156392273\n",
      "1-0 Splitting:  5.524060742935602\n",
      "2-0 Splitting:  76.78086752879935\n"
     ]
    }
   ],
   "source": [
    "HC = w_C/2*tensor(eux*eux.dag() + euy*euy.dag() - egx*egx.dag() - egy*egy.dag(), qeye(2))\n",
    "\n",
    "B = 0.13\n",
    "bx, by, bz = Rx(theta_x)@Rz(theta_z)@Rs(54.7+9, 50)\n",
    "Bx = B*bx\n",
    "By = B*by\n",
    "Bz = B*bz \n",
    "\n",
    "HSO = lbd_SO_g/2 * sgy * Sz + lbd_SO_u/2 * suy * Sz\n",
    "\n",
    "HZS = g_e * muB/2 * (Sx * Bx + Sy * By + Sz * Bz)\n",
    "HZL = muB * (-sgy - suy) * Bz\n",
    "\n",
    "HStr = alpha_g*sgz + beta_g*sgx + alpha_u*suz + beta_g*sux\n",
    "\n",
    "H = HC + HSO + HZS + HZL + HStr\n",
    "\n",
    "if max(A_para, A_perp)>0:\n",
    "    HZN = g_n * muN/2 * (Ix * Bx + Iy * By + Iz * Bz)\n",
    "    HHF = A_para * Sz*Iz + A_perp*(Sx*Ix + Sy*Iy)\n",
    "    H += HZN + HHF\n",
    "\n",
    "H = H.tidyup(1e-10)\n",
    "\n",
    "engs = H.eigenstates()[0]     \n",
    "evs = H.eigenstates()[1]     \n",
    "\n",
    "    \n",
    "gs = 0.5 * abs((tensor(egm.dag(), su.dag())*H*tensor(egm, su) - tensor(egp.dag(), su.dag())*H*tensor(egp, su))[0,0])\n",
    "gs += 0.5 * abs((tensor(egp.dag(), sd.dag())*H*tensor(egp, sd) - tensor(egm.dag(), sd.dag())*H*tensor(egm, sd))[0,0])\n",
    "gs /= 2*pi\n",
    "print(\"Groundstate splitting: \", gs)\n",
    "es = 0.5 * abs((tensor(eum.dag(), su.dag())*H*tensor(eum, su) - tensor(eup.dag(), su.dag())*H*tensor(eup, su))[0,0])\n",
    "es += 0.5 * abs((tensor(eup.dag(), sd.dag())*H*tensor(eup, sd) - tensor(eum.dag(), sd.dag())*H*tensor(eum, sd))[0,0])\n",
    "es /= 2*pi\n",
    "print(\"Excited state splitting: \", es)\n",
    "\n",
    "print(\"5-4 Splitting: \", (engs[5] - engs[4])/(2*pi))\n",
    "print(\"3-2 Splitting: \", (engs[3] - engs[2])/(2*pi))\n",
    "print(\"1-0 Splitting: \", (engs[1] - engs[0])/(2*pi))\n",
    "print(\"2-0 Splitting: \", (engs[2] - engs[0])/(2*pi))"
   ]
  },
  {
   "cell_type": "code",
   "execution_count": 295,
   "metadata": {},
   "outputs": [
    {
     "name": "stdout",
     "output_type": "stream",
     "text": [
      "Quantum object: dims = [[1], [1]], shape = (1, 1), type = bra\n",
      "Qobj data =\n",
      "[[36.2536541]]\n",
      "Quantum object: dims = [[1], [1]], shape = (1, 1), type = bra\n",
      "Qobj data =\n",
      "[[-43.7463459]]\n",
      "Quantum object: dims = [[1], [1]], shape = (1, 1), type = bra\n",
      "Qobj data =\n",
      "[[-36.2536541]]\n",
      "Quantum object: dims = [[1], [1]], shape = (1, 1), type = bra\n",
      "Qobj data =\n",
      "[[43.7463459]]\n"
     ]
    }
   ],
   "source": [
    "print((tensor(egp.dag(), su.dag())*H*tensor(egp, su) - tensor(egm.dag(), su.dag())*H*tensor(egm, su))/(2*pi))\n",
    "print((tensor(egp.dag(), sd.dag())*H*tensor(egp, sd) - tensor(egm.dag(), sd.dag())*H*tensor(egm, sd))/(2*pi))\n",
    "print((tensor(egm.dag(), su.dag())*H*tensor(egm, su) - tensor(egp.dag(), su.dag())*H*tensor(egp, su))/(2*pi))\n",
    "print((tensor(egm.dag(), sd.dag())*H*tensor(egm, sd) - tensor(egp.dag(), sd.dag())*H*tensor(egp, sd))/(2*pi))"
   ]
  },
  {
   "cell_type": "code",
   "execution_count": 296,
   "metadata": {},
   "outputs": [],
   "source": [
    "Gamma_opt = 1/(2*pi*1.73)\n",
    "Gamma_phon_g0 = 1/(2*pi*40)\n",
    "Gamma_phon_u0 = 1/(2*pi*0.40)\n",
    "Gamma_espin = 1/(2*pi*1e3)\n",
    "\n",
    "Gamma_nspin = 1/(2*pi*1e6)\n",
    "\n",
    "c_ops = []\n",
    "\n",
    "# Optical decays defined from SO basis (only Emission relevant)\n",
    "c_ops.append(np.sqrt(Gamma_opt)*sigm_x)\n",
    "c_ops.append(np.sqrt(Gamma_opt)*sigm_y)\n",
    "c_ops.append(np.sqrt(Gamma_opt)*sigm_z)\n",
    "\n",
    "# Phononic relaxation\n",
    "# Emission\n",
    "c_ops.append(np.sqrt(1/(boltzmann(gs*1e9, T)+1)*Gamma_phon_g0) * (tensor(egp*egm.dag(),su*su.dag()) + tensor(egm*egp.dag(), sd*sd.dag())))\n",
    "c_ops.append(np.sqrt(1/(boltzmann(es*1e9, T)+1)*Gamma_phon_u0) * (tensor(eup*eum.dag(),su*su.dag()) + tensor(eum*eup.dag(), sd*sd.dag())))\n",
    "\n",
    "# Absorption\n",
    "c_ops.append(np.sqrt(boltzmann(gs*1e9, T)/(boltzmann(gs*1e9, T)+1)*Gamma_phon_g0) * (tensor(egp*egm.dag(),sd*sd.dag()) + tensor(egm*egp.dag(),su*su.dag())))\n",
    "c_ops.append(np.sqrt(boltzmann(es*1e9, T)/(boltzmann(es*1e9, T)+1)*Gamma_phon_u0) * (tensor(eup*eum.dag(),sd*sd.dag()) + tensor(eum*eup.dag(),su*su.dag())))\n",
    "\n",
    "#Spin relaxation\n",
    "# c_ops.append(np.sqrt(Gamma_spin)*tensor(egm*egp.dag() + egp*egm.dag() + eum*eup.dag() + eup*eum.dag(), sd*su.dag()))\n",
    "# c_ops.append(np.sqrt(Gamma_spin)*tensor(egp*egm.dag() + egm*egp.dag() + eum*eup.dag() + eup*eum.dag(), su*sd.dag())) \n",
    "c_ops.append(np.sqrt(Gamma_espin)*tensor(qeye(4), sd*su.dag()))\n",
    "c_ops.append(np.sqrt(Gamma_espin)*tensor(qeye(4), su*sd.dag()))"
   ]
  },
  {
   "cell_type": "code",
   "execution_count": 342,
   "metadata": {},
   "outputs": [],
   "source": [
    "trans_engs = np.zeros(H.shape)\n",
    "trans_dipoles = np.zeros(H.shape)\n",
    "\n",
    "engs_ = H.eigenstates()[0]\n",
    "evs_ = H.eigenstates()[1]\n",
    "\n",
    "for i, engi in enumerate(engs_):\n",
    "    for j, engj in enumerate(engs_[:i]):         \n",
    "        if round(abs(engi-engj),3)<1e4: continue\n",
    "        trans_engs[i,j] = abs(engi-engj)\n",
    "        trans_dipoles[i,j] = abs((evs_[i].dag() * px * evs_[j])[0,0])**2 + abs((evs_[i].dag() * py * evs_[j])[0,0])**2 + abs((evs_[i].dag() * pz * evs_[j])[0,0])**2\n",
    "\n",
    "# transitions = list(sorted(set(trans_engs[trans_engs.nonzero()])))\n",
    "transitions = np.array(list(sorted(trans_engs[trans_engs.nonzero()])))\n",
    "\n",
    "D = transitions[0*len(transitions)//4:1*len(transitions)//4]\n",
    "C = transitions[1*len(transitions)//4:2*len(transitions)//4]\n",
    "B = transitions[2*len(transitions)//4:3*len(transitions)//4]\n",
    "A = transitions[3*len(transitions)//4:4*len(transitions)//4]"
   ]
  },
  {
   "cell_type": "code",
   "execution_count": 343,
   "metadata": {},
   "outputs": [
    {
     "data": {
      "text/plain": [
       "array([406599.37730724, 406604.54001871, 406604.90136799, 406610.06407946])"
      ]
     },
     "execution_count": 343,
     "metadata": {},
     "output_type": "execute_result"
    }
   ],
   "source": [
    "C/(2*pi)"
   ]
  },
  {
   "cell_type": "code",
   "execution_count": 344,
   "metadata": {},
   "outputs": [
    {
     "data": {
      "text/plain": [
       "[<matplotlib.lines.Line2D at 0x1eae1245240>]"
      ]
     },
     "execution_count": 344,
     "metadata": {},
     "output_type": "execute_result"
    },
    {
     "data": {
      "image/png": "[encoded data removed]",
      "text/plain": [
       "<Figure size 432x288 with 1 Axes>"
      ]
     },
     "metadata": {
      "needs_background": "light"
     },
     "output_type": "display_data"
    }
   ],
   "source": [
    "Omega_L1 = 1*Gamma_opt\n",
    "Omega_L2 = 0.05*Gamma_opt\n",
    "eps_x, eps_y, eps_z = Rx(theta_x)@Rz(theta_z)@Rs(54.7+45,45)\n",
    "\n",
    "\n",
    "delta2 = 0\n",
    "deltas = np.linspace(-50*Gamma_opt, 50*Gamma_opt, 500)\n",
    "w_Ls = np.linspace(-5+min(C), max(C)+5, 500)\n",
    "w_L1 = C[0]\n",
    "\n",
    "pops_tot = np.zeros_like(w_Ls)\n",
    "for i, w_L2 in enumerate(w_Ls):  \n",
    "# for i, w_L in enumerate(deltas):    \n",
    "#     Hint = Omega_L1/2*(evs[0]*evs[8].dag() + evs[8]*evs[0].dag())\n",
    "#     Hint += Omega_L2/2*(evs[3]*evs[8].dag() + evs[8]*evs[3].dag())\n",
    "#     rho_ss = steadystate(Hint + delta2*evs[8]*evs[8].dag() + delta1*evs[3]*evs[3].dag(), c_ops)\n",
    "    Hint = Omega_L2/2*(eps_x*px + eps_y*py + eps_z*pz) - w_L2/w_C * HC\n",
    "    Hint = Hint.tidyup()\n",
    "    \n",
    "    rho_ss = steadystate(H+Hint, c_ops)\n",
    "    pops_tot[i] = np.sum(rho_ss.diag()[4:])\n",
    "#     pops_tot[i] = np.sum(np.real(np.diag(np.linalg.inv(Q)@(rho_ss.full())@Q))[4:])\n",
    "#     pops_tot[i] = np.real(np.diag(np.linalg.inv(Q)@(rho_ss.full())@Q))[4]\n",
    "plt.plot(w_Ls/(2*pi), pops_tot)"
   ]
  },
  {
   "cell_type": "code",
   "execution_count": 168,
   "metadata": {},
   "outputs": [
    {
     "data": {
      "text/plain": [
       "[<matplotlib.lines.Line2D at 0x2a147ddb898>]"
      ]
     },
     "execution_count": 168,
     "metadata": {},
     "output_type": "execute_result"
    },
    {
     "data": {
      "image/png": "[encoded data removed]",
      "text/plain": [
       "<Figure size 432x288 with 1 Axes>"
      ]
     },
     "metadata": {
      "needs_background": "light"
     },
     "output_type": "display_data"
    }
   ],
   "source": [
    "Omega_L1 = 5*Gamma_opt\n",
    "Omega_L2 = 0.05*Gamma_opt\n",
    "\n",
    "delta2 = 0.5\n",
    "deltas = np.linspace(-20*Gamma_opt, 20*Gamma_opt, 400)\n",
    "pops_tot = np.zeros_like(deltas)\n",
    "for i, delta1 in enumerate(deltas):    \n",
    "    Hint = Omega_L1/2*(evs[0]*evs[4].dag() + evs[4]*evs[0].dag())\n",
    "    Hint += Omega_L2/2*(evs[1]*evs[4].dag() + evs[4]*evs[1].dag())\n",
    "    \n",
    "    rho_ss = steadystate(Hint + delta2*evs[4]*evs[4].dag() + delta1*evs[1]*evs[1].dag(), c_ops)\n",
    "    pops_tot[i] = np.sum(np.real(np.diag(np.linalg.inv(Q)@(rho_ss.full())@Q))[4:])\n",
    "#     pops_tot[i] = np.real(np.diag(np.linalg.inv(Q)@(rho_ss.full())@Q))[4]\n",
    "plt.plot(deltas, pops_tot)"
   ]
  }
 ],
 "metadata": {
  "kernelspec": {
   "display_name": "Python 3",
   "language": "python",
   "name": "python3"
  },
  "language_info": {
   "codemirror_mode": {
    "name": "ipython",
    "version": 3
   },
   "file_extension": ".py",
   "mimetype": "text/x-python",
   "name": "python",
   "nbconvert_exporter": "python",
   "pygments_lexer": "ipython3",
   "version": "3.6.5"
  }
 },
 "nbformat": 4,
 "nbformat_minor": 2
}
