{
 "cells": [
  {
   "cell_type": "code",
   "execution_count": 1,
   "metadata": {},
   "outputs": [],
   "source": [
    "from qutip import *\n",
    "\n",
    "from scipy.optimize import curve_fit as cf\n",
    "\n",
    "import numpy as np\n",
    "from numpy import pi as pi\n",
    "from numpy import sqrt as sqrt\n",
    "\n",
    "import matplotlib.pyplot as plt\n",
    "font = {'family' : 'normal',\n",
    "        'weight' : 'normal',\n",
    "        'size'   : 14}\n",
    "\n",
    "plt.rc('font', **font)"
   ]
  },
  {
   "cell_type": "code",
   "execution_count": 2,
   "metadata": {},
   "outputs": [],
   "source": [
    "def Rs(t,p):\n",
    "    t = t/180*np.pi\n",
    "    p = p/180*np.pi\n",
    "    return np.array([np.sin(t)*np.cos(p), np.sin(t)*np.sin(p), np.cos(t)])    \n",
    "\n",
    "def Rx(tx):\n",
    "    tx = tx/180*np.pi\n",
    "    Rx = np.array([[1,0,0],\n",
    "                   [0,np.cos(tx),-np.sin(tx)],\n",
    "                   [0,np.sin(tx), np.cos(tx)]])\n",
    "    return Rx\n",
    "\n",
    "def Rz(tz):\n",
    "    tz= tz/180*np.pi\n",
    "    Rz = np.array([[np.cos(tz), -np.sin(tz), 0],\n",
    "                   [np.sin(tz), np.cos(tz), 0],\n",
    "                   [0, 0, 1]])    \n",
    "    return Rz\n",
    "\n",
    "def Eigenbasis_Expansion(H):\n",
    "    Q = np.zeros(H.shape, dtype=np.complex)\n",
    "    for i, ev in enumerate(H.eigenstates()[1]):    \n",
    "        Q[:,i] = ev.full().flatten()    \n",
    "    return Q"
   ]
  },
  {
   "cell_type": "code",
   "execution_count": 3,
   "metadata": {},
   "outputs": [],
   "source": [
    "def boltzmann(E, T):\n",
    "    h = 6.626e-34\n",
    "    kB = 1.38e-23\n",
    "    return np.exp(-h*E/(kB*T))\n",
    "\n",
    "def coth(gs, T):\n",
    "    h = 6.626e-34\n",
    "    kB = 1.38e-23\n",
    "    return np.tanh(h*gs*1e9/(2*kB*T))**(-1)\n",
    "\n",
    "def lorentzian(nu, nu0, Gamma, A, c):\n",
    "    return A*(Gamma/2)**2/((nu-nu0)**2+(Gamma/2)**2) + c \n",
    "\n",
    "def gaussian(nu, nu0, sigma, A, c):\n",
    "    return A*1/np.sqrt(2*np.pi*sigma**2) * np.exp(-(nu-nu0)**2/(2*sigma**2)) + c\n",
    "\n",
    "def pulse_seq(t, width, t0=0, tau=0, N=1):\n",
    "    seq = np.zeros(t.shape)\n",
    "    starts = []\n",
    "    stops = []\n",
    "    for n in range(N):\n",
    "        starts.append(t0)\n",
    "        stops.append(t0+width)\n",
    "        seq += np.where( (t>=t0)&(t<t0+width), 1, 0)        \n",
    "        t0 = t0 + width\n",
    "        t0 += (n+1)*tau\n",
    "    \n",
    "    starts = np.array(starts)\n",
    "    stops = np.array(stops)\n",
    "    return starts, stops, seq"
   ]
  },
  {
   "cell_type": "code",
   "execution_count": 4,
   "metadata": {},
   "outputs": [],
   "source": [
    "egx = basis(4, 0)\n",
    "egy = basis(4, 1)\n",
    "eux = basis(4, 2)\n",
    "euy = basis(4, 3)\n",
    "\n",
    "sgx = egx*egy.dag()\n",
    "sgx += sgx.dag()\n",
    "sgy = -1j*egx*egy.dag()\n",
    "sgy += sgy.dag()\n",
    "sgz = egx*egx.dag() - egy*egy.dag()\n",
    "sux = eux*euy.dag()\n",
    "sux += sux.dag()\n",
    "suy = -1j*eux*euy.dag()\n",
    "suy += suy.dag()\n",
    "suz = eux*eux.dag() - euy*euy.dag()\n",
    "\n",
    "egp = 1/np.sqrt(2)*(egx + 1j*egy)\n",
    "egm = 1/np.sqrt(2)*(egx - 1j*egy)\n",
    "eup = 1/np.sqrt(2)*(eux + 1j*euy)\n",
    "eum = 1/np.sqrt(2)*(eux - 1j*euy)\n",
    "\n",
    "su = basis(2,0)\n",
    "sd = basis(2,1)\n",
    "Sx = su*sd.dag() + sd*su.dag()\n",
    "Sy = -1j*su*sd.dag() + 1j*sd*su.dag()\n",
    "Sz = su*su.dag() - sd*sd.dag()\n",
    "\n",
    "Iu = basis(2,0)\n",
    "Id = basis(2,1)\n",
    "Ix = Iu*Id.dag() + Id*Iu.dag()\n",
    "Iy = -1j*Iu*Id.dag() + 1j*Id*Iu.dag()\n",
    "Iz = Iu*Iu.dag() - Id*Id.dag()"
   ]
  },
  {
   "cell_type": "code",
   "execution_count": 5,
   "metadata": {},
   "outputs": [],
   "source": [
    "sgx = tensor(sgx, qeye(2))\n",
    "sgy = tensor(sgy, qeye(2))\n",
    "sgz = tensor(sgz, qeye(2))\n",
    "sux = tensor(sux, qeye(2))\n",
    "suy = tensor(suy, qeye(2))\n",
    "suz = tensor(suz, qeye(2))\n",
    "Sx = tensor(qeye(4), Sx)\n",
    "Sy = tensor(qeye(4), Sy)\n",
    "Sz = tensor(qeye(4), Sz)\n",
    "\n",
    "# Ix = tensor(qeye(4), qeye(2), Ix)\n",
    "# Iy = tensor(qeye(4), qeye(2), Iy)\n",
    "# Iz = tensor(qeye(4), qeye(2), Iz)"
   ]
  },
  {
   "cell_type": "code",
   "execution_count": 6,
   "metadata": {},
   "outputs": [],
   "source": [
    "sigm_x = egp*eum.dag() + egm*eup.dag()\n",
    "sigm_x = tensor(sigm_x, qeye(2))\n",
    "sigp_x = sigm_x.dag()\n",
    "px = sigm_x+sigp_x\n",
    "\n",
    "sigm_y = 1j*egp*eum.dag() -1j* egm*eup.dag()\n",
    "sigm_y = tensor(sigm_y, qeye(2))\n",
    "sigp_y = sigm_y.dag()\n",
    "py = sigm_y+sigp_y\n",
    "\n",
    "sigm_z = 2*(egp*eup.dag() + egm*eum.dag())\n",
    "sigm_z = tensor(sigm_z, qeye(2))\n",
    "sigp_z = sigm_z.dag()\n",
    "pz = sigm_z + sigp_z"
   ]
  },
  {
   "cell_type": "code",
   "execution_count": 8,
   "metadata": {},
   "outputs": [],
   "source": [
    "h = 6.626e-34\n",
    "c = 299792458\n",
    "e = 1.62e-19\n",
    "T = 5\n",
    "\n",
    "# Bare coulomb splitting of Eg and Eu states\n",
    "w_C = 2*pi*c/736.85\n",
    "\n",
    "# Spin-orbit couplings\n",
    "lbd_SO_g = 2*pi*46\n",
    "lbd_SO_u = 2*pi*250\n",
    "\n",
    "# (Transverse) Strain couplings\n",
    "alpha_g = 2*pi*30\n",
    "beta_g = 2*pi*20\n",
    "\n",
    "alpha_u = 2*pi*1.8/1.3*alpha_g\n",
    "beta_u = 2*pi*2*beta_g\n",
    "\n",
    "# Magnetons and gyromagnetic ratio for electron and nuclear spin\n",
    "muB = 2*pi*9.274e-24/h * 1e-9\n",
    "muN = 2*pi*5.505e-23/h * 1e-9\n",
    "g_e = 2\n",
    "g_n = 1.910*0\n",
    "\n",
    "# Orbital angular momentum quenching factor (phenomenological)\n",
    "q = 0.1\n",
    "\n",
    "# Nuclear spin coupling strengths along and perpendicular to the electron spin quantization axis \n",
    "# (which might be different from the SiV symmmetry axis)\n",
    "A_para = 0*50e-3\n",
    "A_perp = 0*100e-3\n",
    "\n",
    "# SiV orientation (theta, phi) with respect to external lab frame, where z defines the optical axis\n",
    "# theta_x = 54.7 and theta_z = 45 corresponds to a <111> crystal direction\n",
    "theta_x = 54.7\n",
    "theta_z = 45\n",
    "\n",
    "# We can use a transformation matrix which transforms coordinates such that 111 --> 001, i.e. in this reference\n",
    "# frame the SiV symmetry axis is pointing along z\n",
    "# Rz(-theta_z)@Rx(-theta_x)"
   ]
  },
  {
   "cell_type": "code",
   "execution_count": 10,
   "metadata": {},
   "outputs": [],
   "source": [
    "B = 0.3\n",
    "B_theta = 54.7\n",
    "B_phi = 45\n",
    "bx, by, bz = Rx(theta_x)@Rz(theta_z)@Rs(B_theta, B_phi)\n",
    "Bx = B*bx\n",
    "By = B*by\n",
    "Bz = B*bz    \n",
    "\n",
    "HC = w_C/2*tensor(eux*eux.dag() + euy*euy.dag() - egx*egx.dag() - egy*egy.dag(), qeye(2))\n",
    "\n",
    "HSO = -lbd_SO_g/2 * sgy * Sz -lbd_SO_u/2 * suy * Sz\n",
    "\n",
    "HZS = g_e * muB/2 * (Sx * Bx + Sy * By + Sz * Bz)\n",
    "HZL = -0.13 * muB * (-sgy - suy) * Bz\n",
    "\n",
    "HStr = alpha_g*sgz + beta_g*sgx + alpha_u*suz + beta_g*sux\n",
    "\n",
    "H = HC + HSO + HZS + HZL + HStr    \n",
    "H = H.tidyup(1e-10)\n",
    "engs, evs = H.eigenstates()"
   ]
  },
  {
   "cell_type": "code",
   "execution_count": null,
   "metadata": {},
   "outputs": [],
   "source": [
    "pwidth = 100\n",
    "ptau = 100\n",
    "pN = 10\n",
    "pL = pN * pwidth + np.sum(np.arange(1,pN,1))*ptau\n",
    "starts, stops, seq = pulse_seq(tlist, pwidth, tau=ptau, N=pN)"
   ]
  },
  {
   "cell_type": "code",
   "execution_count": 14,
   "metadata": {},
   "outputs": [
    {
     "name": "stdout",
     "output_type": "stream",
     "text": [
      "Extrapolated T1:  6.828528712166153 at  86.12566316082687 GHz splitting\n"
     ]
    }
   ],
   "source": [
    "Gamma_opt = 1/(2*pi*1.73)\n",
    "Gamma_phon_g0 = 1/(2*pi*40)\n",
    "Gamma_phon_u0 = 1/(2*pi*0.4)\n",
    "Gamma_spin = 1/(2*pi*1e3)\n",
    "\n",
    "gs0 = lbd_SO_g\n",
    "gs = engs[2] - engs[0]\n",
    "es = engs[6] - engs[4]\n",
    "\n",
    "Gamma_phon_g = Gamma_phon_g0*(gs/gs0)**3 * coth(gs,T) / coth(gs0,T)\n",
    "Gamma_phon_g = Gamma_phon_g\n",
    "print(\"Extrapolated T1: \", 1/(2*pi*Gamma_phon_g), \"at \", gs/(2*pi),\"GHz splitting\")\n",
    "\n",
    "es0 = lbd_SO_u\n",
    "Gamma_phon_u = Gamma_phon_u0*(es/es0)**3 * coth(es,T) / coth(es0,T)\n",
    "\n",
    "c_ops = []\n",
    "\n",
    "# Optical decays defined from SO basis (only Emission relevant)\n",
    "c_ops.append(np.sqrt(Gamma_opt)*sigm_x)\n",
    "c_ops.append(np.sqrt(Gamma_opt)*sigm_y)\n",
    "c_ops.append(np.sqrt(Gamma_opt)*sigm_z)\n",
    "\n",
    "# Phononic relaxation\n",
    "# Emission\n",
    "c_ops.append(np.sqrt(1/(boltzmann(gs*1e9, T)+1)*Gamma_phon_g) * (tensor(egp*egm.dag(),su*su.dag()) + tensor(egm*egp.dag(), sd*sd.dag())))\n",
    "c_ops.append(np.sqrt(1/(boltzmann(es*1e9, T)+1)*Gamma_phon_u) * (tensor(eup*eum.dag(),su*su.dag()) + tensor(eum*eup.dag(), sd*sd.dag())))\n",
    "\n",
    "# Absorption\n",
    "c_ops.append(np.sqrt(boltzmann(gs*1e9, T)/(boltzmann(gs*1e9, T)+1)*Gamma_phon_g) * (tensor(egp*egm.dag(),sd*sd.dag()) + tensor(egm*egp.dag(),su*su.dag())))\n",
    "c_ops.append(np.sqrt(boltzmann(es*1e9, T)/(boltzmann(es*1e9, T)+1)*Gamma_phon_u) * (tensor(eup*eum.dag(),sd*sd.dag()) + tensor(eum*eup.dag(),su*su.dag())))\n",
    "\n",
    "#Spin relaxation\n",
    "# c_ops.append(np.sqrt(Gamma_spin)*tensor(egm*egp.dag() + egp*egm.dag() + eum*eup.dag() + eup*eum.dag(), sd*su.dag()))\n",
    "# c_ops.append(np.sqrt(Gamma_spin)*tensor(egp*egm.dag() + egm*egp.dag() + eum*eup.dag() + eup*eum.dag(), su*sd.dag())) \n",
    "c_ops.append(np.sqrt(Gamma_spin)*tensor(qeye(4), sd*su.dag()))\n",
    "c_ops.append(np.sqrt(Gamma_spin)*tensor(qeye(4), su*sd.dag())) "
   ]
  },
  {
   "cell_type": "code",
   "execution_count": 40,
   "metadata": {},
   "outputs": [
    {
     "ename": "NameError",
     "evalue": "name 'e_ops' is not defined",
     "output_type": "error",
     "traceback": [
      "\u001b[1;31m---------------------------------------------------------------------------\u001b[0m",
      "\u001b[1;31mNameError\u001b[0m                                 Traceback (most recent call last)",
      "\u001b[1;32m<ipython-input-40-56f4b9ae48b3>\u001b[0m in \u001b[0;36m<module>\u001b[1;34m\u001b[0m\n\u001b[0;32m     48\u001b[0m         \u001b[0mevs_\u001b[0m\u001b[1;33m[\u001b[0m\u001b[1;36m7\u001b[0m\u001b[1;33m]\u001b[0m\u001b[1;33m*\u001b[0m\u001b[0mevs_\u001b[0m\u001b[1;33m[\u001b[0m\u001b[1;36m7\u001b[0m\u001b[1;33m]\u001b[0m\u001b[1;33m.\u001b[0m\u001b[0mdag\u001b[0m\u001b[1;33m(\u001b[0m\u001b[1;33m)\u001b[0m\u001b[1;33m\u001b[0m\u001b[0m\n\u001b[0;32m     49\u001b[0m     ]\n\u001b[1;32m---> 50\u001b[1;33m     \u001b[0mresults\u001b[0m \u001b[1;33m=\u001b[0m \u001b[0mmesolve\u001b[0m\u001b[1;33m(\u001b[0m\u001b[1;33m[\u001b[0m\u001b[0mH\u001b[0m \u001b[1;33m-\u001b[0m \u001b[0mw_L\u001b[0m\u001b[1;33m/\u001b[0m\u001b[1;36m2\u001b[0m \u001b[1;33m*\u001b[0m \u001b[0mHC\u001b[0m\u001b[1;33m/\u001b[0m\u001b[1;33m(\u001b[0m\u001b[0mw_C\u001b[0m\u001b[1;33m/\u001b[0m\u001b[1;36m2\u001b[0m\u001b[1;33m)\u001b[0m\u001b[1;33m,\u001b[0m \u001b[1;33m[\u001b[0m\u001b[0mHint\u001b[0m\u001b[1;33m,\u001b[0m\u001b[0mseq\u001b[0m\u001b[1;33m]\u001b[0m\u001b[1;33m]\u001b[0m\u001b[1;33m,\u001b[0m \u001b[0mrho0\u001b[0m\u001b[1;33m,\u001b[0m \u001b[0mtlist\u001b[0m\u001b[1;33m,\u001b[0m \u001b[0mc_ops\u001b[0m\u001b[1;33m=\u001b[0m\u001b[0mc_ops\u001b[0m\u001b[1;33m,\u001b[0m \u001b[0me_ops\u001b[0m\u001b[1;33m=\u001b[0m\u001b[0me_ops\u001b[0m\u001b[1;33m,\u001b[0m \u001b[0mprogress_bar\u001b[0m \u001b[1;33m=\u001b[0m \u001b[0mui\u001b[0m\u001b[1;33m.\u001b[0m\u001b[0mTextProgressBar\u001b[0m\u001b[1;33m(\u001b[0m\u001b[1;33m)\u001b[0m\u001b[1;33m)\u001b[0m\u001b[1;33m\u001b[0m\u001b[0m\n\u001b[0m\u001b[0;32m     51\u001b[0m     \u001b[0mexps\u001b[0m \u001b[1;33m=\u001b[0m \u001b[0mnp\u001b[0m\u001b[1;33m.\u001b[0m\u001b[0marray\u001b[0m\u001b[1;33m(\u001b[0m\u001b[0mresults\u001b[0m\u001b[1;33m.\u001b[0m\u001b[0mexpect\u001b[0m\u001b[1;33m)\u001b[0m\u001b[1;33m\u001b[0m\u001b[0m\n\u001b[0;32m     52\u001b[0m \u001b[1;33m\u001b[0m\u001b[0m\n",
      "\u001b[1;31mNameError\u001b[0m: name 'e_ops' is not defined"
     ]
    }
   ],
   "source": [
    "tlist = np.arange(0, pL, 0.05)\n",
    "w_L = engs[5] - engs[0]\n",
    "Omega_L = 20*Gamma_opt\n",
    "Hint = Omega_L/2 * (evs[5]*evs[0].dag() + evs[0]*evs[5].dag())\n",
    "\n",
    "rho0 = steadystate(H, c_ops)\n",
    "e_ops_ = [\n",
    "    evs_[0]*evs_[0].dag(),\n",
    "    evs_[1]*evs_[1].dag(),\n",
    "    evs_[2]*evs_[2].dag(),\n",
    "    evs_[3]*evs_[3].dag(),\n",
    "    evs_[4]*evs_[4].dag(),\n",
    "    evs_[5]*evs_[5].dag(),\n",
    "    evs_[6]*evs_[6].dag(),\n",
    "    evs_[7]*evs_[7].dag()\n",
    "]\n",
    "results = mesolve([H - w_L/2 * HC/(w_C/2), [Hint,seq]], rho0, tlist, c_ops=c_ops, e_ops=e_ops, progress_bar = ui.TextProgressBar())\n",
    "exps = np.array(results.expect)\n",
    "\n",
    "pops_tot = np.sum(np.array(results.expect)[4:,:], axis=0)\n",
    "for j, (start, stop) in enumerate(zip(starts, stops)):    \n",
    "    peaks[i, j] = np.sum(pops_tot[np.argwhere( (tlist >= start) & (tlist < stop)).flatten()])\n",
    "\n",
    "x = np.arange(1, pN) \n",
    "print(peaks)\n",
    "y = peaks[i, 1:]/peaks[i, 0]\n",
    "fit_func= lambda tau, a, T0, T1: a*(1-np.exp(-(tau-T0)/T1))\n",
    "try:        \n",
    "    popt, pcov = cf(fit_func, x, y)\n",
    "    T1[i] = popt[2]*ptau\n",
    "except:\n",
    "    print(\"Fit error\")"
   ]
  },
  {
   "cell_type": "code",
   "execution_count": 8,
   "metadata": {
    "scrolled": true
   },
   "outputs": [
    {
     "ename": "NameError",
     "evalue": "name 'pN' is not defined",
     "output_type": "error",
     "traceback": [
      "\u001b[1;31m---------------------------------------------------------------------------\u001b[0m",
      "\u001b[1;31mNameError\u001b[0m                                 Traceback (most recent call last)",
      "\u001b[1;32m<ipython-input-8-56fa4dbb041e>\u001b[0m in \u001b[0;36m<module>\u001b[1;34m\u001b[0m\n\u001b[1;32m----> 1\u001b[1;33m \u001b[0mpL\u001b[0m \u001b[1;33m=\u001b[0m \u001b[0mpN\u001b[0m \u001b[1;33m*\u001b[0m \u001b[0mpwidth\u001b[0m \u001b[1;33m+\u001b[0m \u001b[0mnp\u001b[0m\u001b[1;33m.\u001b[0m\u001b[0msum\u001b[0m\u001b[1;33m(\u001b[0m\u001b[0mnp\u001b[0m\u001b[1;33m.\u001b[0m\u001b[0marange\u001b[0m\u001b[1;33m(\u001b[0m\u001b[1;36m1\u001b[0m\u001b[1;33m,\u001b[0m\u001b[0mpN\u001b[0m\u001b[1;33m,\u001b[0m\u001b[1;36m1\u001b[0m\u001b[1;33m)\u001b[0m\u001b[1;33m)\u001b[0m\u001b[1;33m*\u001b[0m\u001b[0mptau\u001b[0m\u001b[1;33m\u001b[0m\u001b[0m\n\u001b[0m\u001b[0;32m      2\u001b[0m \u001b[0mpeaks\u001b[0m \u001b[1;33m=\u001b[0m \u001b[0mnp\u001b[0m\u001b[1;33m.\u001b[0m\u001b[0mzeros\u001b[0m\u001b[1;33m(\u001b[0m\u001b[0mpN\u001b[0m\u001b[1;33m)\u001b[0m\u001b[1;33m\u001b[0m\u001b[0m\n\u001b[0;32m      3\u001b[0m \u001b[1;32mfor\u001b[0m \u001b[0mi\u001b[0m\u001b[1;33m,\u001b[0m \u001b[1;33m(\u001b[0m\u001b[0mstart\u001b[0m\u001b[1;33m,\u001b[0m \u001b[0mstop\u001b[0m\u001b[1;33m)\u001b[0m \u001b[1;32min\u001b[0m \u001b[0menumerate\u001b[0m\u001b[1;33m(\u001b[0m\u001b[0mzip\u001b[0m\u001b[1;33m(\u001b[0m\u001b[0mstarts\u001b[0m\u001b[1;33m,\u001b[0m \u001b[0mstops\u001b[0m\u001b[1;33m)\u001b[0m\u001b[1;33m)\u001b[0m\u001b[1;33m:\u001b[0m\u001b[1;33m\u001b[0m\u001b[0m\n\u001b[0;32m      4\u001b[0m     \u001b[0mpeaks\u001b[0m\u001b[1;33m[\u001b[0m\u001b[0mi\u001b[0m\u001b[1;33m]\u001b[0m \u001b[1;33m=\u001b[0m \u001b[0mnp\u001b[0m\u001b[1;33m.\u001b[0m\u001b[0msum\u001b[0m\u001b[1;33m(\u001b[0m\u001b[0mpops_tot\u001b[0m\u001b[1;33m[\u001b[0m\u001b[0mnp\u001b[0m\u001b[1;33m.\u001b[0m\u001b[0margwhere\u001b[0m\u001b[1;33m(\u001b[0m \u001b[1;33m(\u001b[0m\u001b[0mtlist\u001b[0m \u001b[1;33m>=\u001b[0m \u001b[0mstart\u001b[0m\u001b[1;33m)\u001b[0m \u001b[1;33m&\u001b[0m \u001b[1;33m(\u001b[0m\u001b[0mtlist\u001b[0m \u001b[1;33m<\u001b[0m \u001b[0mstop\u001b[0m\u001b[1;33m)\u001b[0m\u001b[1;33m)\u001b[0m\u001b[1;33m.\u001b[0m\u001b[0mflatten\u001b[0m\u001b[1;33m(\u001b[0m\u001b[1;33m)\u001b[0m\u001b[1;33m]\u001b[0m\u001b[1;33m)\u001b[0m\u001b[1;33m\u001b[0m\u001b[0m\n\u001b[0;32m      5\u001b[0m \u001b[1;33m\u001b[0m\u001b[0m\n",
      "\u001b[1;31mNameError\u001b[0m: name 'pN' is not defined"
     ]
    }
   ],
   "source": [
    "pL = pN * pwidth + np.sum(np.arange(1,pN,1))*ptau\n",
    "peaks = np.zeros(pN)\n",
    "for i, (start, stop) in enumerate(zip(starts, stops)):    \n",
    "    peaks[i] = np.sum(pops_tot[np.argwhere( (tlist >= start) & (tlist < stop)).flatten()])\n",
    "\n",
    "x = np.arange(1, pN) \n",
    "y = peaks[1:]/peaks[0]\n",
    "fit_func= lambda tau, a, T0, T1: a*(1-np.exp(-(tau-T0)/T1))\n",
    "popt, pcov = cf(fit_func, x, y)\n",
    "plt.plot(x, y)\n",
    "plt.plot(x, fit_func(x, *popt))\n",
    "print(popt[2]*ptau)"
   ]
  },
  {
   "cell_type": "code",
   "execution_count": 147,
   "metadata": {},
   "outputs": [],
   "source": [
    "Omega_L = 5*Gamma_opt\n",
    "eps_x, eps_y, eps_z = Rx(theta_x)@Rz(theta_z)@Rs(54.7+90,0)\n",
    "\n",
    "# w_Ls = np.linspace(-50+min(transitions), max(transitions)+50, 2000)\n",
    "w_Ls = np.linspace(-5+C[0], C[3]+5, 500)\n",
    "pops = np.zeros((len(w_Ls), 4)) \n",
    "I = np.zeros((len(w_Ls), 3))\n",
    "for i, w_L in enumerate(w_Ls):    \n",
    "    \n",
    "    Hint = Omega_L/2*(eps_x*px + eps_y*py + eps_z*pz) - (w_L)/2 * HC/(w_C/2)\n",
    "    Hint = Hint.tidyup()\n",
    "    \n",
    "    rho_ss = steadystate(H+Hint, c_ops)\n",
    "        \n",
    "    pops[i,0] = np.real(rho_ss[4,4])\n",
    "    pops[i,1] = np.real(rho_ss[5,5])\n",
    "    pops[i,2] = np.real(rho_ss[6,6])\n",
    "    pops[i,3] = np.real(rho_ss[7,7])\n",
    "    \n",
    "    I[i,0] = abs((rho_ss*px).tr())**2\n",
    "    I[i,1] = abs((rho_ss*(-1j)*py).tr())**2\n",
    "    I[i,2] = abs((rho_ss*pz).tr())**2"
   ]
  },
  {
   "cell_type": "code",
   "execution_count": 148,
   "metadata": {},
   "outputs": [
    {
     "name": "stdout",
     "output_type": "stream",
     "text": [
      "0.09199707693173141 0.6878978576294711 0.2313642081112898\n"
     ]
    },
    {
     "data": {
      "image/png": "[encoded data removed]",
      "text/plain": [
       "<Figure size 432x288 with 1 Axes>"
      ]
     },
     "metadata": {
      "needs_background": "light"
     },
     "output_type": "display_data"
    }
   ],
   "source": [
    "pops_tot = np.sum(pops,axis=1)\n",
    "pops_tot = pops_tot\n",
    "\n",
    "plt.plot(w_Ls/(2*pi), pops_tot)\n",
    "\n",
    "p0 = (w_Ls[np.argmax(pops_tot)]/(2*pi), Gamma_opt, np.amax(pops_tot), 0)\n",
    "fit_func = lorentzian\n",
    "popt, pcov = cf(fit_func, w_Ls/(2*pi), pops_tot, p0=p0)\n",
    "# plt.plot(w_Ls/(2*pi), fit_func(w_Ls/(2*pi), *popt), '-r')\n",
    "print(Gamma_opt, popt[1], 1/(2*pi*popt[1]))"
   ]
  },
  {
   "cell_type": "code",
   "execution_count": 420,
   "metadata": {},
   "outputs": [
    {
     "name": "stdout",
     "output_type": "stream",
     "text": [
      "[1.81123495 0.99698672]\n"
     ]
    },
    {
     "data": {
      "text/plain": [
       "[<matplotlib.lines.Line2D at 0x2967f120b70>]"
      ]
     },
     "execution_count": 420,
     "metadata": {},
     "output_type": "execute_result"
    },
    {
     "data": {
      "image/png": "[encoded data removed]",
      "text/plain": [
       "<Figure size 432x288 with 1 Axes>"
      ]
     },
     "metadata": {
      "needs_background": "light"
     },
     "output_type": "display_data"
    }
   ],
   "source": [
    "rho0 = evs_[4]*evs_[4].dag()\n",
    "tlist = np.linspace(0,10,300)\n",
    "fit_func = lambda t, tau, a: a*np.exp(-t/tau)\n",
    "exp_ = mesolve(H, rho0, tlist, c_ops, rho0).expect[0]\n",
    "plt.plot(tlist, exp_)\n",
    "popt, pcov = cf(fit_func, tlist, exp_)\n",
    "print(popt)\n",
    "plt.plot(tlist, fit_func(tlist, *popt))"
   ]
  }
 ],
 "metadata": {
  "kernelspec": {
   "display_name": "Python 3",
   "language": "python",
   "name": "python3"
  },
  "language_info": {
   "codemirror_mode": {
    "name": "ipython",
    "version": 3
   },
   "file_extension": ".py",
   "mimetype": "text/x-python",
   "name": "python",
   "nbconvert_exporter": "python",
   "pygments_lexer": "ipython3",
   "version": "3.6.5"
  }
 },
 "nbformat": 4,
 "nbformat_minor": 2
}
